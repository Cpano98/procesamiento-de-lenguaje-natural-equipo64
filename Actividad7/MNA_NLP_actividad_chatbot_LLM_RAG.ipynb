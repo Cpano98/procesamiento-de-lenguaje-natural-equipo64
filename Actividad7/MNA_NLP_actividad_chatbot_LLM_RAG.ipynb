{
  "cells": [
    {
      "cell_type": "markdown",
      "metadata": {
        "id": "-hVND8xY2OKY"
      },
      "source": [
        "# **Procesamiento de Lenguaje Natural**\n",
        "\n",
        "## Maestría en Inteligencia Artificial Aplicada\n",
        "#### Tecnológico de Monterrey\n",
        "#### Prof Luis Eduardo Falcón Morales\n",
        "\n",
        "### **Adtividad en Equipos: sistema LLM + RAG**"
      ]
    },
    {
      "cell_type": "markdown",
      "metadata": {
        "id": "aimHVFOv23lm"
      },
      "source": [
        "* **Nombres y matrículas:**\n",
        "\n",
        "  *   Emmanuel Merida Toledo **A01795858**\n",
        "  *   Carlos Pano Hernandez **A01066264**\n",
        "  *   Mireya Isabel Pérez Del Razo **A01795608**\n",
        "  *   Scarlet Marie Wessin Romero **A01796242**\n",
        "\n",
        "* **Número de Equipo:**\n"
      ]
    },
    {
      "cell_type": "markdown",
      "metadata": {
        "id": "7jimvsiVgjMg"
      },
      "source": [
        "* ##### **El formato de este cuaderno de Jupyter es libre, pero debe incuir al menos las siguientes secciones:**\n",
        "\n",
        "  * ##### **Introducción de la problemática a resolver.**\n",
        "  * ##### **Sistema RAG + LLM**\n",
        "  * ##### **El chatbot, incluyendo ejemplos de prueba.**\n",
        "  * ##### **Conclusiones**\n",
        "\n",
        "* ##### **Pueden importar los paquetes o librerías que requieran.**\n",
        "\n",
        "* ##### **Pueden incluir las celdas y líneas de código que deseen.**"
      ]
    },
    {
      "cell_type": "markdown",
      "metadata": {
        "id": "apjxNkCNQt0w"
      },
      "source": [
        "## **Introducción de la problemática a resolver**"
      ]
    },
    {
      "cell_type": "markdown",
      "metadata": {
        "id": "gMA4XuSmQyXM"
      },
      "source": []
    },
    {
      "cell_type": "markdown",
      "metadata": {
        "id": "JTBFJ8Q7Fk87"
      },
      "source": [
        "## **Sistema RAG + LLM**"
      ]
    },
    {
      "cell_type": "code",
      "execution_count": 10,
      "metadata": {
        "colab": {
          "base_uri": "https://localhost:8080/"
        },
        "id": "CMecIoIuLJsi",
        "outputId": "48ae9d8e-f0c4-4c72-e6d7-e1caf61d9d32"
      },
      "outputs": [
        {
          "name": "stdout",
          "output_type": "stream",
          "text": [
            "Requirement already satisfied: faiss-cpu in /opt/anaconda3/envs/MASTER-AI/lib/python3.12/site-packages (1.11.0)\n",
            "Requirement already satisfied: numpy<3.0,>=1.25.0 in /opt/anaconda3/envs/MASTER-AI/lib/python3.12/site-packages (from faiss-cpu) (2.0.1)\n",
            "Requirement already satisfied: packaging in /opt/anaconda3/envs/MASTER-AI/lib/python3.12/site-packages (from faiss-cpu) (24.2)\n"
          ]
        }
      ],
      "source": [
        "# Incluyan a continuación todas las celdas (de código o texto) que deseen...\n",
        "!pip install faiss-cpu"
      ]
    },
    {
      "cell_type": "code",
      "execution_count": 11,
      "metadata": {
        "id": "Bfs5Zxc9j7Uf"
      },
      "outputs": [],
      "source": [
        "import os\n",
        "import openai\n",
        "import glob\n",
        "from sentence_transformers import SentenceTransformer\n",
        "import faiss"
      ]
    },
    {
      "cell_type": "code",
      "execution_count": 12,
      "metadata": {
        "colab": {
          "base_uri": "https://localhost:8080/"
        },
        "id": "IJr9dzZsLTdp",
        "outputId": "907c98ef-bcaa-4ac6-80a0-5f35df6b87ef"
      },
      "outputs": [
        {
          "name": "stdout",
          "output_type": "stream",
          "text": [
            "Documentos encontrados:\n"
          ]
        }
      ],
      "source": [
        "# === Leer documentos desde carpeta ./docs/ ===\n",
        "ruta_docs = \"/content/drive/MyDrive/MNA/Procesamiento de Lenguaje Natural/Modulo 3/Semana 9/9.2 Actividad chatbot  RAG + LLM/docs/*.txt\"\n",
        "corpus = []\n",
        "\n",
        "for archivo in glob.glob(ruta_docs):\n",
        "    with open(archivo, \"r\", encoding=\"utf-8\") as f:\n",
        "        texto = f.read()\n",
        "        partes = [texto[i:i+1000] for i in range(0, len(texto), 1000)]\n",
        "        corpus.extend(partes)\n",
        "\n",
        "print(\"Documentos encontrados:\")\n",
        "for archivo in glob.glob(ruta_docs):\n",
        "    print(archivo)"
      ]
    },
    {
      "cell_type": "code",
      "execution_count": 13,
      "metadata": {
        "id": "i1R2kNBULdrj"
      },
      "outputs": [
        {
          "name": "stdout",
          "output_type": "stream",
          "text": [
            "Warning: No text files found in the ./docs/ directory or the files are empty. The corpus is empty.\n",
            "Warning: Skipping embedding and FAISS creation due to empty corpus.\n"
          ]
        }
      ],
      "source": [
        "# === Crear embeddings y FAISS ===\n",
        "if not corpus:\n",
        "    print(\"Warning: No text files found in the ./docs/ directory or the files are empty. The corpus is empty.\")\n",
        "\n",
        "if corpus:\n",
        "    modelo = SentenceTransformer(\"distiluse-base-multilingual-cased-v1\")\n",
        "    embeddings = modelo.encode(corpus)\n",
        "    if embeddings.shape[0] > 0:\n",
        "        index = faiss.IndexFlatL2(embeddings[0].shape[0])\n",
        "        index.add(embeddings)\n",
        "    else:\n",
        "        print(\"Warning: Embeddings could not be created from the corpus.\")\n",
        "else:\n",
        "    print(\"Warning: Skipping embedding and FAISS creation due to empty corpus.\")"
      ]
    },
    {
      "cell_type": "code",
      "execution_count": 14,
      "metadata": {
        "id": "TrA-0d4vNxaI"
      },
      "outputs": [],
      "source": [
        "def responder_con_rag(pregunta, top_k=3):\n",
        "    emb_pregunta = modelo.encode([pregunta])\n",
        "    distancias, indices = index.search(emb_pregunta, top_k)\n",
        "    contexto = \"\\n\\n\".join([corpus[i] for i in indices[0]])\n",
        "\n",
        "    prompt = f\"\"\"\n",
        "Eres un experto en salud preventiva. Responde en español de forma clara y precisa\n",
        "basándote en el siguiente contexto. Si la información no es suficiente, indica que no se puede responder con certeza.\n",
        "\n",
        "Contexto:\n",
        "{contexto}\n",
        "\n",
        "Pregunta:\n",
        "{pregunta}\n",
        "\n",
        "Respuesta:\n",
        "\"\"\"\n",
        "    client = openai.OpenAI(api_key=os.environ.get(\"OPENAI_API_KEY\", \"\"))\n",
        "\n",
        "    respuesta = client.chat.completions.create(\n",
        "        model=\"gpt-4\",\n",
        "        messages=[{\"role\": \"user\", \"content\": prompt}],\n",
        "        temperature=0.3,\n",
        "        max_tokens=700\n",
        "    )\n",
        "\n",
        "    return respuesta.choices[0].message.content"
      ]
    },
    {
      "cell_type": "markdown",
      "metadata": {
        "id": "_Lbi1JH0Qb3t"
      },
      "source": [
        "## **El chatbot, incluyendo ejemplos de prueba**"
      ]
    },
    {
      "cell_type": "code",
      "execution_count": 15,
      "metadata": {
        "colab": {
          "base_uri": "https://localhost:8080/"
        },
        "id": "sko9QGIuN17k",
        "outputId": "d85131cf-2169-4a03-d83a-1ae69ab46ddf"
      },
      "outputs": [
        {
          "ename": "NameError",
          "evalue": "name 'modelo' is not defined",
          "output_type": "error",
          "traceback": [
            "\u001b[31m---------------------------------------------------------------------------\u001b[39m",
            "\u001b[31mNameError\u001b[39m                                 Traceback (most recent call last)",
            "\u001b[36mCell\u001b[39m\u001b[36m \u001b[39m\u001b[32mIn[15]\u001b[39m\u001b[32m, line 1\u001b[39m\n\u001b[32m----> \u001b[39m\u001b[32m1\u001b[39m respuesta = responder_con_rag(\u001b[33m\"\u001b[39m\u001b[33m¿Qué alimentos ayudan a prevenir la diabetes?\u001b[39m\u001b[33m\"\u001b[39m)\n\u001b[32m      2\u001b[39m \u001b[38;5;28mprint\u001b[39m(\u001b[33m\"\u001b[39m\u001b[38;5;130;01m\\n\u001b[39;00m\u001b[33mRespuesta del chatbot:\u001b[39m\u001b[38;5;130;01m\\n\u001b[39;00m\u001b[33m\"\u001b[39m, respuesta)\n",
            "\u001b[36mCell\u001b[39m\u001b[36m \u001b[39m\u001b[32mIn[14]\u001b[39m\u001b[32m, line 2\u001b[39m, in \u001b[36mresponder_con_rag\u001b[39m\u001b[34m(pregunta, top_k)\u001b[39m\n\u001b[32m      1\u001b[39m \u001b[38;5;28;01mdef\u001b[39;00m\u001b[38;5;250m \u001b[39m\u001b[34mresponder_con_rag\u001b[39m(pregunta, top_k=\u001b[32m3\u001b[39m):\n\u001b[32m----> \u001b[39m\u001b[32m2\u001b[39m     emb_pregunta = modelo.encode([pregunta])\n\u001b[32m      3\u001b[39m     distancias, indices = index.search(emb_pregunta, top_k)\n\u001b[32m      4\u001b[39m     contexto = \u001b[33m\"\u001b[39m\u001b[38;5;130;01m\\n\u001b[39;00m\u001b[38;5;130;01m\\n\u001b[39;00m\u001b[33m\"\u001b[39m.join([corpus[i] \u001b[38;5;28;01mfor\u001b[39;00m i \u001b[38;5;129;01min\u001b[39;00m indices[\u001b[32m0\u001b[39m]])\n",
            "\u001b[31mNameError\u001b[39m: name 'modelo' is not defined"
          ]
        }
      ],
      "source": [
        "respuesta = responder_con_rag(\"¿Qué alimentos ayudan a prevenir la diabetes?\")\n",
        "print(\"\\nRespuesta del chatbot:\\n\", respuesta)"
      ]
    },
    {
      "cell_type": "code",
      "execution_count": 46,
      "metadata": {
        "colab": {
          "base_uri": "https://localhost:8080/"
        },
        "id": "kl9kdvaZQBbh",
        "outputId": "735fbddf-4dd4-49c5-def2-d84160e7614a"
      },
      "outputs": [
        {
          "name": "stdout",
          "output_type": "stream",
          "text": [
            "\n",
            "Respuesta del chatbot:\n",
            " La hipertensión arterial se puede prevenir siguiendo varias recomendaciones. La Organización Mundial de la Salud sugiere reducir la ingesta de sal a menos de 5 gramos diarios, mantener una dieta rica en frutas y verduras, realizar actividad física regularmente, mantener un peso saludable, y evitar el consumo de alcohol y tabaco. Además, es esencial el diagnóstico temprano mediante controles periódicos de la presión arterial para prevenir complicaciones graves.\n"
          ]
        }
      ],
      "source": [
        "respuesta = responder_con_rag(\"¿Cómo se puede prevenir la hipertensión arterial?\")\n",
        "print(\"\\nRespuesta del chatbot:\\n\", respuesta)"
      ]
    },
    {
      "cell_type": "code",
      "execution_count": 47,
      "metadata": {
        "colab": {
          "base_uri": "https://localhost:8080/"
        },
        "id": "pirQfk0EQHQY",
        "outputId": "79480869-a850-4b68-80dc-162ed2297241"
      },
      "outputs": [
        {
          "name": "stdout",
          "output_type": "stream",
          "text": [
            "\n",
            "Respuesta del chatbot:\n",
            " Una alimentación saludable es aquella que incluye diariamente frutas y verduras, cereales integrales, legumbres, granos enteros y frutos secos, y evita alimentos altos en azúcar, grasa y sal. Se recomienda tomar agua simple como principal bebida y reducir el consumo de bebidas azucaradas. También se aconseja evitar el exceso de alimentos ultraprocesados como frituras, golosinas y comida rápida. Además, comer en horarios regulares y en porciones adecuadas contribuye al bienestar general. Este tipo de alimentación es clave para prevenir enfermedades como la obesidad, la diabetes y la hipertensión.\n"
          ]
        }
      ],
      "source": [
        "respuesta = responder_con_rag(\"¿Qué es una alimentación saludable?\")\n",
        "print(\"\\nRespuesta del chatbot:\\n\", respuesta)"
      ]
    },
    {
      "cell_type": "code",
      "execution_count": 48,
      "metadata": {
        "colab": {
          "base_uri": "https://localhost:8080/"
        },
        "id": "jrw2dLIiQNms",
        "outputId": "34248115-8010-46cd-9212-d124ebe3988a"
      },
      "outputs": [
        {
          "name": "stdout",
          "output_type": "stream",
          "text": [
            "\n",
            "Respuesta del chatbot:\n",
            " Se recomienda realizar actividad física moderada durante al menos 30 minutos al día, cinco días a la semana.\n"
          ]
        }
      ],
      "source": [
        "respuesta = responder_con_rag(\"¿Cuánto ejercicio debo hacer por semana para mantenerme sano?\")\n",
        "print(\"\\nRespuesta del chatbot:\\n\", respuesta)"
      ]
    },
    {
      "cell_type": "code",
      "execution_count": 49,
      "metadata": {
        "colab": {
          "base_uri": "https://localhost:8080/"
        },
        "id": "6soBw3uxQQ4w",
        "outputId": "5f7f45cd-2bf0-4f26-b27c-e913dc8ddd96"
      },
      "outputs": [
        {
          "name": "stdout",
          "output_type": "stream",
          "text": [
            "\n",
            "Respuesta del chatbot:\n",
            " Los hábitos diarios que ayudan a prevenir enfermedades crónicas incluyen:\n",
            "\n",
            "1. Mantener una alimentación saludable y equilibrada, rica en frutas, vegetales, legumbres, cereales integrales y frutos secos.\n",
            "2. Evitar alimentos altos en azúcar, grasa y sal, así como el consumo excesivo de alimentos ultraprocesados como frituras, golosinas y comida rápida.\n",
            "3. Reducir la ingesta de sal a menos de 5 gramos diarios.\n",
            "4. Tomar agua simple como principal bebida y reducir el consumo de bebidas azucaradas.\n",
            "5. Realizar actividad física con regularidad, preferentemente moderada durante al menos 30 minutos al día, cinco días a la semana.\n",
            "6. Mantener un peso corporal saludable.\n",
            "7. Evitar el consumo de alcohol y tabaco.\n",
            "8. Comer en horarios regulares y en porciones adecuadas.\n",
            "9. Realizar controles periódicos de la presión arterial para un diagnóstico temprano de hipertensión.\n",
            "\n",
            "Estos hábitos deben ser promovidos desde la infancia para mantener una buena salud a lo largo de la vida.\n"
          ]
        }
      ],
      "source": [
        "respuesta = responder_con_rag(\"¿Qué hábitos diarios ayudan a prevenir enfermedades crónicas?\")\n",
        "print(\"\\nRespuesta del chatbot:\\n\", respuesta)"
      ]
    },
    {
      "cell_type": "markdown",
      "metadata": {
        "id": "Kx-dZSFJz9cK"
      },
      "source": [
        "# **Conclusiones:**"
      ]
    },
    {
      "cell_type": "markdown",
      "metadata": {
        "id": "3w3usdaC0BCj"
      },
      "source": [
        "* #### **Incluyan sus conclusiones de la actividad chatbot LLM + RAG:**\n",
        "\n",
        "\n",
        "\n",
        "None"
      ]
    },
    {
      "cell_type": "markdown",
      "metadata": {
        "id": "CtB5Q3m41YQ0"
      },
      "source": [
        "# **Fin de la actividad chatbot: LLM + RAG**"
      ]
    }
  ],
  "metadata": {
    "colab": {
      "provenance": []
    },
    "kernelspec": {
      "display_name": "MASTER-AI",
      "language": "python",
      "name": "python3"
    },
    "language_info": {
      "codemirror_mode": {
        "name": "ipython",
        "version": 3
      },
      "file_extension": ".py",
      "mimetype": "text/x-python",
      "name": "python",
      "nbconvert_exporter": "python",
      "pygments_lexer": "ipython3",
      "version": "3.12.11"
    }
  },
  "nbformat": 4,
  "nbformat_minor": 0
}
