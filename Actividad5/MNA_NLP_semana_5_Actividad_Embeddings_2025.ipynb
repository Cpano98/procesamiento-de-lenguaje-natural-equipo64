{
  "cells": [
    {
      "cell_type": "markdown",
      "metadata": {
        "id": "lNl8G3vHkPSX"
      },
      "source": [
        "# **Maestría en Inteligencia Artificial Aplicada**\n",
        "\n",
        "## Curso: **Procesamiento de Lenguaje Natural**\n",
        "\n",
        "### Tecnológico de Monterrey\n",
        "\n",
        "### Prof Luis Eduardo Falcón Morales\n",
        "\n",
        "## Adtividad Semana 5\n",
        "\n",
        "### **Vectores Embebidos de OpenAI**"
      ]
    },
    {
      "cell_type": "markdown",
      "metadata": {
        "id": "U69mHA6i201G"
      },
      "source": [
        "#### **Nombres y matrículas de los integrantes del equipo:**\n",
        "\n",
        "\n",
        "\n",
        "*   Elemento de lista\n",
        "*   Carlos Pano Hernandez - A01066264\n",
        "\n"
      ]
    },
    {
      "cell_type": "code",
      "execution_count": 246,
      "metadata": {
        "id": "wCL2p6MA8NuT"
      },
      "outputs": [
        {
          "data": {
            "text/plain": [
              "'\\nimport spacy\\nimport en_core_web_lg\\nfrom scipy.spatial import distance\\nimport fasttext\\nimport fasttext.util\\n'"
            ]
          },
          "execution_count": 246,
          "metadata": {},
          "output_type": "execute_result"
        }
      ],
      "source": [
        "# Aquí deberás incluir todas las librerías que requieras durante esta actividad:\n",
        "\n",
        "# Data manipulation and analysis\n",
        "import pandas as pd\n",
        "import numpy as np\n",
        "from collections import Counter\n",
        "\n",
        "# NLP processing\n",
        "import nltk\n",
        "from nltk.corpus import stopwords\n",
        "from nltk.stem import PorterStemmer, WordNetLemmatizer\n",
        "import re\n",
        "import string\n",
        "\n",
        "# OpenAI integration\n",
        "from openai import OpenAI\n",
        "import openai\n",
        "from dotenv import load_dotenv\n",
        "import os\n",
        "\n",
        "# Machine Learning\n",
        "from sklearn.model_selection import train_test_split\n",
        "from sklearn.linear_model import LogisticRegression\n",
        "from sklearn.ensemble import RandomForestClassifier\n",
        "from sklearn.svm import SVC\n",
        "from sklearn.ensemble import GradientBoostingClassifier\n",
        "from sklearn.metrics import (\n",
        "    accuracy_score,\n",
        "    classification_report,\n",
        "    confusion_matrix,\n",
        "    roc_auc_score\n",
        ")\n",
        "\n",
        "# Utilities\n",
        "import pickle\n",
        "from tqdm import tqdm\n",
        "from tenacity import (\n",
        "    retry,\n",
        "    wait_random_exponential,\n",
        "    stop_after_attempt\n",
        ")\n",
        "\n",
        "# Visualization\n",
        "import matplotlib.pyplot as plt\n",
        "import seaborn as sns\n",
        "\n",
        "# Commented out unused imports\n",
        "\"\"\"\n",
        "import spacy\n",
        "import en_core_web_lg\n",
        "from scipy.spatial import distance\n",
        "import fasttext\n",
        "import fasttext.util\n",
        "\"\"\"\n"
      ]
    },
    {
      "cell_type": "code",
      "execution_count": 247,
      "metadata": {},
      "outputs": [
        {
          "name": "stdout",
          "output_type": "stream",
          "text": [
            "\n",
            "Stop words excluding negation words:\n",
            "----------------------------------------\n",
            "['a', 'about', 'above', 'after', 'again', 'against', 'all', 'am', 'an', 'and', 'any', 'are', 'as', 'at', 'be', 'because', 'been', 'before', 'being', 'below', 'between', 'both', 'but', 'by', 'can', 'd', 'did', 'do', 'does', 'doing', 'down', 'during', 'each', 'few', 'for', 'from', 'further', 'had', 'has', 'have', 'having', 'he', \"he'd\", \"he'll\", \"he's\", 'her', 'here', 'hers', 'herself', 'him', 'himself', 'his', 'how', 'i', \"i'd\", \"i'll\", \"i'm\", \"i've\", 'if', 'in', 'into', 'is', 'it', \"it'd\", \"it'll\", \"it's\", 'its', 'itself', 'just', 'll', 'm', 'ma', 'me', 'more', 'most', 'my', 'myself', 'now', 'o', 'of', 'off', 'on', 'once', 'only', 'or', 'other', 'our', 'ours', 'ourselves', 'out', 'over', 'own', 're', 's', 'same', 'she', \"she'd\", \"she'll\", \"she's\", 'should', \"should've\", 'so', 'some', 'such', 't', 'than', 'that', \"that'll\", 'the', 'their', 'theirs', 'them', 'themselves', 'then', 'there', 'these', 'they', \"they'd\", \"they'll\", \"they're\", \"they've\", 'this', 'those', 'through', 'to', 'too', 'under', 'until', 'up', 've', 'very', 'was', 'we', \"we'd\", \"we'll\", \"we're\", \"we've\", 'were', 'what', 'when', 'where', 'which', 'while', 'who', 'whom', 'why', 'will', 'with', 'y', 'you', \"you'd\", \"you'll\", \"you're\", \"you've\", 'your', 'yours', 'yourself', 'yourselves']\n",
            "----------------------------------------\n"
          ]
        },
        {
          "name": "stderr",
          "output_type": "stream",
          "text": [
            "[nltk_data] Downloading package punkt to\n",
            "[nltk_data]     /Users/charliepano/nltk_data...\n",
            "[nltk_data]   Package punkt is already up-to-date!\n",
            "[nltk_data] Downloading package stopwords to\n",
            "[nltk_data]     /Users/charliepano/nltk_data...\n",
            "[nltk_data]   Package stopwords is already up-to-date!\n"
          ]
        }
      ],
      "source": [
        "# Descargamos los paquetes necesarios\n",
        "nltk.download('punkt')   \n",
        "nltk.download('stopwords')\n",
        "negwords = [ 'no', 'nor', 'not', 'ain', 'aren', \"aren't\", 'don', \"don't\", 'couldn', \"couldn't\", 'didn', \"didn't\", 'doesn', \"doesn't\", 'hadn', \"hadn't\", 'hasn', \"hasn't\", 'haven', \"haven't\", 'isn', \"isn't\", 'mightn', \"mightn't\", 'mustn', \"mustn't\", 'needn', \"needn't\", 'shan', \"shan't\", 'shouldn', \"shouldn't\", 'wasn', \"wasn't\", 'weren', \"weren't\", 'won', \"won't\", 'wouldn', \"wouldn't\"]\n",
        "\n",
        "mystopwords = set(stopwords.words('english')) - set(negwords)\n",
        "print(\"\\nStop words excluding negation words:\")\n",
        "print(\"-\" * 40)\n",
        "print(sorted(mystopwords))\n",
        "print(\"-\" * 40)"
      ]
    },
    {
      "cell_type": "code",
      "execution_count": 248,
      "metadata": {},
      "outputs": [],
      "source": [
        "# Download the English fasttext model\n",
        "#fasttext.util.download_model('en', if_exists='ignore')  # English\n",
        "#fasttext.util.download_model('es', if_exists='ignore')  # Español\n",
        "#cc_en = fasttext.load_model('cc.en.300.bin')\n"
      ]
    },
    {
      "cell_type": "code",
      "execution_count": 249,
      "metadata": {
        "id": "7wc107K-oIV4"
      },
      "outputs": [
        {
          "name": "stdout",
          "output_type": "stream",
          "text": [
            "Gut.\n"
          ]
        }
      ],
      "source": [
        "# Incluye las celdas necesarias para tu acceso a la API de OpenAI.\n",
        "\n",
        "# Load environment variables from the specific .env file -> Amigos, aqui cada quien configuere su propia API key en el .env\n",
        "# El .gitignore ya excluye el mismo.\n",
        "\n",
        "load_dotenv('.env')\n",
        "\n",
        "api_key = os.getenv('OPENAI_API_KEY')\n",
        "if api_key is None:\n",
        "    raise ValueError(\"OPENAI_API_KEY environment variable is not set\")\n",
        "\n",
        "client = OpenAI(api_key=api_key)\n",
        "\n",
        "# Prueba de la API de OpenAI\n",
        "response = client.responses.create(\n",
        "    model=\"gpt-4o-mini\",\n",
        "    input=\"Hola, como estas? (Responde en 1 palabra y en Aleman)\"\n",
        ")\n",
        "\n",
        "print(response.output_text)\n"
      ]
    },
    {
      "cell_type": "markdown",
      "metadata": {
        "id": "4c34ZOnna3Gu"
      },
      "source": [
        "# **Pregunta - 1:**\n",
        "\n"
      ]
    },
    {
      "cell_type": "markdown",
      "metadata": {
        "id": "yeNllxRdmeWg"
      },
      "source": [
        "Descarga los 3 archivos de Canvas y genera un nuevo DataFrame de Pandas con ellos.\n",
        "\n",
        "**Llama simplemente \"df\" a dicho DataFrame.**\n",
        "\n",
        "Los archivos los encuentras en Canvas: amazon5.txt, imdb5.txt, yelp5.txt.\n",
        "\n"
      ]
    },
    {
      "cell_type": "code",
      "execution_count": 250,
      "metadata": {
        "id": "T_lyEFRkxzC6"
      },
      "outputs": [],
      "source": [
        "# ******* Inlcuye a continuación todas las líneas de código y celdas que requieras: ***********\n",
        "\n",
        "# Archivos\n",
        "files = [\"data/amazon5.txt\", \"data/imdb5.txt\", \"data/yelp5.txt\"]\n",
        "\n",
        "# Lista donde guardar todas las líneas\n",
        "all_lines = []\n",
        "\n",
        "for file in files:\n",
        "    with open(file, 'r', encoding='utf-8') as f:\n",
        "        lines = [line.strip() for line in f if line.strip()]\n",
        "        all_lines.extend(lines)\n",
        "\n",
        "# creacion del Dataframe\n",
        "df = pd.DataFrame({'text': all_lines})\n",
        "\n",
        "# *********** Aquí termina la sección de agregar código *************\n"
      ]
    },
    {
      "cell_type": "code",
      "execution_count": 251,
      "metadata": {
        "id": "3-w1xMLYnm9b"
      },
      "outputs": [
        {
          "name": "stdout",
          "output_type": "stream",
          "text": [
            "<class 'pandas.core.frame.DataFrame'>\n",
            "RangeIndex: 3000 entries, 0 to 2999\n",
            "Data columns (total 1 columns):\n",
            " #   Column  Non-Null Count  Dtype \n",
            "---  ------  --------------  ----- \n",
            " 0   text    3000 non-null   object\n",
            "dtypes: object(1)\n",
            "memory usage: 23.6+ KB\n"
          ]
        }
      ],
      "source": [
        "# Verifiquemos la información del DataFrame:\n",
        "df.info()"
      ]
    },
    {
      "cell_type": "code",
      "execution_count": 252,
      "metadata": {
        "id": "NfVUcYe1nubT"
      },
      "outputs": [
        {
          "name": "stdout",
          "output_type": "stream",
          "text": [
            "                                                text\n",
            "0  So there is no way for me to plug it in here i...\n",
            "1                     Good case, Excellent value.\\t1\n",
            "2                          Great for the jawbone.\\t1\n",
            "3  Tied to charger for conversations lasting more...\n",
            "4                               The mic is great.\\t1\n"
          ]
        }
      ],
      "source": [
        "# Y veamos sus primeros registros:\n",
        "\n",
        "print(df.head())"
      ]
    },
    {
      "cell_type": "markdown",
      "metadata": {
        "id": "MfZZ0stLmWJN"
      },
      "source": [
        "# **Pregunta - 2:**"
      ]
    },
    {
      "cell_type": "markdown",
      "metadata": {
        "id": "7F6JF5BommZ6"
      },
      "source": [
        "Realiza el proceso de limpieza. Aplica el preprocesamiento que consideres adecuado.\n",
        "\n",
        "\n",
        "\n",
        "\n",
        "\n",
        "\n",
        "\n",
        "\n",
        "\n"
      ]
    },
    {
      "cell_type": "code",
      "execution_count": 253,
      "metadata": {},
      "outputs": [],
      "source": [
        "# Limpiamos el texto reemplazando los tabuladores por espacios y separamos la etiqueta del comentario.\n",
        "# Como los datos de IMDB no usan tabulador para separar la etiqueta, usamos rsplit para dividir desde el final.\n",
        "# Esto permite extraer correctamente la etiqueta (Y) como la última palabra del texto.\n",
        "df['text'] = df['text'].str.replace('\\t', ' ', regex=False)\n",
        "df[['text', 'Y']] = df['text'].str.rsplit(n=1, expand=True)\n",
        "df['Y'] = df['Y'].astype(int)\n",
        "Y = df['Y'].copy()\n",
        "X = df['text']"
      ]
    },
    {
      "cell_type": "code",
      "execution_count": 254,
      "metadata": {},
      "outputs": [
        {
          "name": "stdout",
          "output_type": "stream",
          "text": [
            "<class 'pandas.core.frame.DataFrame'>\n",
            "RangeIndex: 3000 entries, 0 to 2999\n",
            "Data columns (total 2 columns):\n",
            " #   Column  Non-Null Count  Dtype \n",
            "---  ------  --------------  ----- \n",
            " 0   text    3000 non-null   object\n",
            " 1   Y       3000 non-null   int64 \n",
            "dtypes: int64(1), object(1)\n",
            "memory usage: 47.0+ KB\n"
          ]
        }
      ],
      "source": [
        "df.info()"
      ]
    },
    {
      "cell_type": "code",
      "execution_count": 255,
      "metadata": {
        "id": "TsnvMp-7oYCM"
      },
      "outputs": [
        {
          "name": "stdout",
          "output_type": "stream",
          "text": [
            "Tokens after cleaning:\n",
            "['way', 'plug', 'us', 'unless', 'go', 'converter']\n",
            "['good', 'case', 'excellent', 'value']\n",
            "['great', 'jawbone']\n",
            "['tied', 'charger', 'conversations', 'lasting', 'minutes', 'major', 'problems']\n",
            "['mic', 'great']\n",
            "\n",
            "Tokens after normalization:\n",
            "['way', 'plug', 'u', 'unless', 'go', 'convert']\n",
            "['good', 'case', 'excel', 'valu']\n",
            "['great', 'jawbon']\n",
            "['tie', 'charger', 'convers', 'last', 'minut', 'major', 'problem']\n",
            "['mic', 'great']\n"
          ]
        }
      ],
      "source": [
        "# Text preprocessing functions\n",
        "\n",
        "def clean_tok(doc):\n",
        "    # Basic cleaning and tokenization\n",
        "    doc = doc.lower()\n",
        "    \n",
        "    # Remove non-letters\n",
        "    doc = re.sub(r'[^a-z\\s]', ' ', doc)\n",
        "    \n",
        "    # Split into words\n",
        "    tokens = doc.split()\n",
        "    \n",
        "    # Filter stopwords\n",
        "    stop_words = set(stopwords.words('english'))\n",
        "    tokens = [token for token in tokens if token not in stop_words]\n",
        "    \n",
        "    # Remove single chars\n",
        "    tokens = [token for token in tokens if len(token) > 1]\n",
        "\n",
        "    return tokens\n",
        "\n",
        "\n",
        "def clean_doc(doc):\n",
        "    # Token normalization\n",
        "    ps = PorterStemmer()\n",
        "    wnl = WordNetLemmatizer()\n",
        "    \n",
        "    tokens = []\n",
        "    \n",
        "    for token in doc:\n",
        "        # Clean repeating chars\n",
        "        token = re.sub(r'(.)\\1{2,}', r'\\1\\1', token)\n",
        "        token = ps.stem(token)\n",
        "        token = wnl.lemmatize(token)\n",
        "        tokens.append(token)\n",
        "        \n",
        "    return tokens\n",
        "\n",
        "# Clean and tokenize\n",
        "Xclean = [clean_tok(x) for x in X]   \n",
        "print(\"Tokens after cleaning:\")\n",
        "print(*Xclean[0:5], sep='\\n')\n",
        "\n",
        "# Normalize tokens\n",
        "Xclean = [clean_doc(x) for x in Xclean]  \n",
        "print(\"\\nTokens after normalization:\")\n",
        "print(*Xclean[0:5], sep='\\n')"
      ]
    },
    {
      "cell_type": "code",
      "execution_count": 256,
      "metadata": {
        "id": "7jlQuoI2o33T"
      },
      "outputs": [
        {
          "name": "stdout",
          "output_type": "stream",
          "text": [
            "['way', 'plug', 'u', 'unless', 'go', 'convert']\n",
            "['good', 'case', 'excel', 'valu']\n",
            "['great', 'jawbon']\n",
            "['tie', 'charger', 'convers', 'last', 'minut', 'major', 'problem']\n",
            "['mic', 'great']\n"
          ]
        }
      ],
      "source": [
        "# Despleguemos los primeros comentarios después de tu proceso de limpieza:\n",
        "\n",
        "for x in Xclean[0:5]:\n",
        "  print(x)"
      ]
    },
    {
      "cell_type": "markdown",
      "metadata": {
        "id": "ygchEdcKqIzU"
      },
      "source": [
        "# **Pregunta - 3:**\n"
      ]
    },
    {
      "cell_type": "markdown",
      "metadata": {
        "id": "7wEIOkkl9Dot"
      },
      "source": [
        "\n",
        "Realicemos una partición aleatoria con los mismos porcentajes de la práctica pasada para poder comparar dichos resultados con los de\n",
        "esta actividad, a saber, 70%, 15% y 15%, para entrenamiento, validación y prueba, respectivamente."
      ]
    },
    {
      "cell_type": "code",
      "execution_count": 257,
      "metadata": {
        "id": "b0SAcYdq9X0w"
      },
      "outputs": [
        {
          "name": "stdout",
          "output_type": "stream",
          "text": [
            "X,y Train: 2100 2100\n",
            "X,y Val: 450 450\n",
            "X,y Test 450 450\n"
          ]
        }
      ],
      "source": [
        "\n",
        "# ************* Inicia la sección de agregar código:*****************************\n",
        "\n",
        "x_train, x_val_and_test, y_train, y_val_and_test = train_test_split(Xclean, Y, train_size=.70, shuffle=True, random_state=1) \n",
        "x_val, x_test, y_val, y_test = train_test_split(x_val_and_test, y_val_and_test, test_size=.50, shuffle=True, random_state=17)\n",
        "\n",
        "\n",
        "# *********** Termina la sección de agregar código *************\n",
        "\n",
        "\n",
        "# verificemos las dimensiones obtenidas:\n",
        "print('X,y Train:', len(x_train), len(y_train))\n",
        "print('X,y Val:', len(x_val), len(y_val))\n",
        "print('X,y Test', len(x_test), len(y_test))"
      ]
    },
    {
      "cell_type": "markdown",
      "metadata": {
        "id": "1qjKoEqiqBN1"
      },
      "source": [
        "# **Pregunta - 4:**"
      ]
    },
    {
      "cell_type": "markdown",
      "metadata": {
        "id": "jENsKiN99r3F"
      },
      "source": [
        "\n",
        "\n",
        "Construye tu vocabulario a continuación\n"
      ]
    },
    {
      "cell_type": "code",
      "execution_count": 258,
      "metadata": {
        "id": "TzJntmLPqPqC"
      },
      "outputs": [],
      "source": [
        "# a.\tUsa el conjunto de entrenamiento para generar tu vocabulario\n",
        "#     con un tamaño que consideres adecuado:\n",
        "\n",
        "\n",
        "# ******* Inlcuye a continuación todas las líneas de código y celdas que requieras: ***********\n",
        "\n",
        "\n",
        "midiccionario = Counter()    \n",
        "\n",
        "for k in range(len(x_train)):\n",
        "  midiccionario.update(x_train[k])\n",
        "\n",
        "\n",
        "# *********** Aquí termina la sección de agregar código *************"
      ]
    },
    {
      "cell_type": "code",
      "execution_count": 259,
      "metadata": {
        "id": "yTDZ0Rr86CUP"
      },
      "outputs": [
        {
          "name": "stdout",
          "output_type": "stream",
          "text": [
            "Longitud del diccionario: 3145\n",
            "\n",
            "(word,frequency):\n",
            "[('good', 164), ('movi', 140), ('great', 139), ('phone', 134), ('film', 130), ('work', 113), ('time', 102), ('like', 101), ('one', 100), ('place', 87)]\n"
          ]
        }
      ],
      "source": [
        "# b.\tIndica el tamaño del vocabulario generado.\n",
        "\n",
        "# ******* Inicia la sección de agregar código: ***********\n",
        "\n",
        "\n",
        "print('Longitud del diccionario:', len(midiccionario))  \n",
        "print('\\n(word,frequency):') \n",
        "print(midiccionario.most_common(10)) \n",
        "\n",
        "\n",
        "# *********** Aquí termina la sección de agregar código *************"
      ]
    },
    {
      "cell_type": "markdown",
      "metadata": {
        "id": "NDa4EhTqrw15"
      },
      "source": [
        "c.\t¿Por qué debe usarse solamente el conjunto de entrenamiento para generar el vocabulario?\n",
        "\n",
        "\n",
        "### ++++++++ Inicia la sección de agregar texto: +++++++++++\n",
        "\n",
        "Existen varias razones, entre las principales se encuentran:\n",
        "\n",
        "1. **Evitar data leakage:** Si usáramos otros conjuntos para nuestro diccionario, estaríamos filtrando información que debería ser completamente desconocida durante el entrenamiento.\n",
        "2. **Simular escenarios reales:** En un caso real, no tendremos acceso a datos futuros.\n",
        "3. **Detectar overfitting:** Si el vocabulario se construyera con todos los datos, sería más difícil detectar si el modelo está memorizando en lugar de aprendiendo patrones generalizables.\n",
        "\n",
        "### ++++++++ Termina la sección de agregar texto: +++++++++++\n"
      ]
    },
    {
      "cell_type": "code",
      "execution_count": 260,
      "metadata": {
        "id": "7ykjxQI3rpxx"
      },
      "outputs": [],
      "source": [
        "# d.\tCon el vocabulario generado, filtra los conjuntos de entrenamiento,\n",
        "#     validación y prueba para que todos los comentarios usen solamente las\n",
        "#     palabras de este vocabulario.\n",
        "\n",
        "#     Llamar train_x, val_x y test_x a estos tres conjuntos.\n",
        "\n",
        "\n",
        "# ******* Inlcuye a continuación todas las líneas de código y celdas que requieras: ***********\n",
        "\n",
        "# Crear conjuntos filtrados usando solo palabras del vocabulario\n",
        "train_x = []\n",
        "val_x = []\n",
        "test_x = []\n",
        "\n",
        "# Filtrar conjunto de entrenamiento\n",
        "for comment in x_train:\n",
        "    filtered_comment = [word for word in comment if word in midiccionario]\n",
        "    train_x.append(filtered_comment)\n",
        "\n",
        "# Filtrar conjunto de validación  \n",
        "for comment in x_val:\n",
        "    filtered_comment = [word for word in comment if word in midiccionario]\n",
        "    val_x.append(filtered_comment)\n",
        "\n",
        "# Filtrar conjunto de prueba\n",
        "for comment in x_test:\n",
        "    filtered_comment = [word for word in comment if word in midiccionario]\n",
        "    test_x.append(filtered_comment)\n",
        "\n",
        "# *********** Aquí termina la sección de agregar código *************\n"
      ]
    },
    {
      "cell_type": "code",
      "execution_count": 261,
      "metadata": {
        "id": "iYF2RGuPtQTC"
      },
      "outputs": [
        {
          "name": "stdout",
          "output_type": "stream",
          "text": [
            "['co', 'star', 'fare', 'much', 'better', 'peopl', 'like', 'morgan', 'freeman', 'jonah', 'hill', 'ed', 'helm', 'wast']\n",
            "['tonight', 'elk', 'filet', 'special', 'suck']\n",
            "['paid', 'bill', 'tip', 'felt', 'server', 'terribl', 'job']\n",
            "['call', 'steakhous', 'properli', 'cook', 'steak', 'understand']\n",
            "['howev', 'keypad', 'tinni', 'sometim', 'reach', 'wrong', 'button']\n"
          ]
        }
      ],
      "source": [
        "# Vemos el resultado de los primeros comentarios del conjunto de entrenamiento:\n",
        "\n",
        "for ss in train_x[0:5]:\n",
        "  print(ss)"
      ]
    },
    {
      "cell_type": "markdown",
      "metadata": {},
      "source": []
    },
    {
      "cell_type": "markdown",
      "metadata": {
        "id": "RS0Hxj25vTWh"
      },
      "source": [
        "# **Pregunta - 5:**"
      ]
    },
    {
      "cell_type": "markdown",
      "metadata": {
        "id": "CnHHAza5_P5Z"
      },
      "source": [
        "\n",
        "#### **Incluye aquí un resumen de las características y diferencias que tiene al menos los tres modelos de OpenAI indicados: \"text-embedding-3-small\", \"text-embedding-3-large\" y \"text-embedding-ada-002\".**"
      ]
    },
    {
      "cell_type": "markdown",
      "metadata": {
        "id": "uTI9xSgF_Xc8"
      },
      "source": [
        "### ++++++++ Inicia la sección de agregar texto: +++++++++++\n",
        "\n",
        "## text-embedding-3-small\n",
        "\n",
        "- **Dimensiones:** 1,536 por defecto (configurable hasta 512)\n",
        "- **Rendimiento:** Superior a ada-002 en tareas de embeddings\n",
        "- **Costo:** Más económico que el modelo large\n",
        "- **Usos recomendados:**\n",
        "  - Búsqueda semántica rápida\n",
        "  - Clasificación de textos en tiempo real\n",
        "  - Sistemas de recomendación ligeros\n",
        "- **Ideal para:** Aplicaciones que requieren buen balance entre rendimiento y costo\n",
        "- **Lanzamiento:** Enero 2024\n",
        "\n",
        "## text-embedding-3-large\n",
        "\n",
        "- **Dimensiones:** 3,072 por defecto (configurable)\n",
        "- **Rendimiento:** El más potente, con mejor precisión en tareas complejas\n",
        "- **Costo:** El más elevado de los tres modelos\n",
        "- **Usos recomendados:**\n",
        "  - Análisis de sentimientos y emociones sutiles\n",
        "  - Clasificación de textos con múltiples etiquetas\n",
        "  - Comparación semántica profunda entre documentos\n",
        "- **Ideal para:** Aplicaciones que requieren máxima precisión y justifican el costo\n",
        "- **Lanzamiento:** Enero 2024\n",
        "\n",
        "## text-embedding-ada-002\n",
        "\n",
        "- **Dimensiones:** 1,536 fijas\n",
        "- **Rendimiento:** Modelo de segunda generación, inferior a v3\n",
        "- **Costo:** Intermedio (más caro que v3-small, más barato que v3-large)\n",
        "- **Usos típicos:**\n",
        "  - Modelo legacy reemplazado por v3\n",
        "  - Búsqueda general y clustering\n",
        "  - Tareas menos sensibles a precisión\n",
        "- **Lanzamiento:** Diciembre 2022\n",
        "\n",
        "## Diferencias clave\n",
        "\n",
        "| Aspecto | Descripción |\n",
        "|---------|-------------|\n",
        "| Generación | Modelos v3 (small/large) son más recientes y eficientes |\n",
        "| Flexibilidad | Modelos v3 permiten configurar dimensiones de salida |\n",
        "| Eficiencia | text-embedding-3-small tiene mejor relación rendimiento-precio |\n",
        "| Precisión | text-embedding-3-large lidera en benchmarks |\n",
        "\n",
        "### ++++++++ Termina la sección de agregar texto: +++++++++++\n"
      ]
    },
    {
      "cell_type": "markdown",
      "metadata": {
        "id": "ToqRl7fT_fn2"
      },
      "source": [
        "# **Pregunta - 6:**\n"
      ]
    },
    {
      "cell_type": "markdown",
      "metadata": {
        "id": "BKqQk03oqoOD"
      },
      "source": [
        "#### **Diccionario clave-valor de palabras del diccionario y vectores embebidos.**"
      ]
    },
    {
      "cell_type": "code",
      "execution_count": 262,
      "metadata": {
        "id": "UdK-jMfLxHLY"
      },
      "outputs": [
        {
          "name": "stdout",
          "output_type": "stream",
          "text": [
            "Generando embeddings para el vocabulario...\n"
          ]
        },
        {
          "name": "stderr",
          "output_type": "stream",
          "text": [
            "100%|██████████| 3145/3145 [21:18<00:00,  2.46it/s]  "
          ]
        },
        {
          "name": "stdout",
          "output_type": "stream",
          "text": [
            "\n",
            "Total de tokens utilizados: 3145\n",
            "Dimensiones del vector de embeddings: 1536\n",
            "Tamaño del vocabulario procesado: 3145\n",
            "\n",
            "Diccionario de embeddings guardado en 'vocabulary_embeddings.pkl'\n",
            "\n",
            "Ejemplo de embedding para la palabra 'co':\n",
            "Dimensiones del vector: 1536\n",
            "Primeros 5 valores del vector: [0.04341873, 0.0015039851, 0.0046208845, 0.042929508, 0.029063033]\n"
          ]
        },
        {
          "name": "stderr",
          "output_type": "stream",
          "text": [
            "\n"
          ]
        }
      ],
      "source": [
        "# ******* Inlcuye a continuación todas las líneas de código y celdas que requieras: ***********\n",
        "\n",
        "openai.api_key = os.getenv(\"OPENAI_API_KEY\")\n",
        "\n",
        "# Seleccionamos el modelo de embeddings (usando el más económico de los mencionados)\n",
        "EMBEDDING_MODEL = \"text-embedding-3-small\"\n",
        "EMBEDDING_ENCODING = \"cl100k_base\"  # Este es el encoding recomendado para el modelo\n",
        "EMBEDDING_DIMENSIONS = 1536  # Dimensiones del modelo small\n",
        "\n",
        "# Función con reintentos para manejar errores de API\n",
        "@retry(wait=wait_random_exponential(min=1, max=20), stop=stop_after_attempt(3))\n",
        "def get_embedding(text):\n",
        "    response = openai.embeddings.create(\n",
        "        model=EMBEDDING_MODEL,\n",
        "        input=text,\n",
        "        encoding_format=\"float\"\n",
        "    )\n",
        "    return response.data[0].embedding\n",
        "\n",
        "# Verificamos si el archivo ya existe\n",
        "if not os.path.exists('vocabulary_embeddings.pkl'):\n",
        "    embeddings_dict = {}\n",
        "    total_tokens = 0\n",
        "\n",
        "    # Generamos embeddings para cada palabra en el vocabulario\n",
        "    print(\"Generando embeddings para el vocabulario...\")\n",
        "    for word in tqdm(midiccionario):\n",
        "        embedding = get_embedding(word)\n",
        "        embeddings_dict[word] = embedding\n",
        "        # Aproximadamente 1 token por palabra para palabras simples\n",
        "        total_tokens += 1\n",
        "\n",
        "    print(f\"\\nTotal de tokens utilizados: {total_tokens}\")\n",
        "    print(f\"Dimensiones del vector de embeddings: {EMBEDDING_DIMENSIONS}\")\n",
        "    print(f\"Tamaño del vocabulario procesado: {len(embeddings_dict)}\")\n",
        "\n",
        "    # Guardamos el diccionario de embeddings\n",
        "    with open('vocabulary_embeddings.pkl', 'wb') as f:\n",
        "        pickle.dump(embeddings_dict, f)\n",
        "\n",
        "    print(\"\\nDiccionario de embeddings guardado en 'vocabulary_embeddings.pkl'\")\n",
        "\n",
        "    # Mostramos un ejemplo del diccionario\n",
        "    sample_word = list(embeddings_dict.keys())[0]\n",
        "    print(f\"\\nEjemplo de embedding para la palabra '{sample_word}':\")\n",
        "    print(f\"Dimensiones del vector: {len(embeddings_dict[sample_word])}\")\n",
        "    print(f\"Primeros 5 valores del vector: {embeddings_dict[sample_word][:5]}\")\n",
        "else:\n",
        "    # Cargamos el diccionario de embeddings existente\n",
        "    with open('vocabulary_embeddings.pkl', 'rb') as f:\n",
        "        embeddings_dict = pickle.load(f)\n",
        "        \n",
        "    print(f\"El archivo vocabulary_embeddings.pkl ya existe. Omitiendo la generación de embeddings con modelo: {EMBEDDING_MODEL}.\")\n",
        "    \n",
        "    # Mostramos un ejemplo del diccionario\n",
        "    sample_word = list(embeddings_dict.keys())[0]\n",
        "    print(f\"\\nEjemplo de embedding para la palabra '{sample_word}':\")\n",
        "    print(f\"Dimensiones del vector: {len(embeddings_dict[sample_word])}\")\n",
        "    print(f\"Primeros 5 valores del vector: {embeddings_dict[sample_word][:5]}\")\n",
        "\n",
        "\n",
        "# *********** Aquí termina la sección de agregar código *************"
      ]
    },
    {
      "cell_type": "markdown",
      "metadata": {
        "id": "W4S7q0yR0Mpi"
      },
      "source": [
        "# **Pregunta - 7:**"
      ]
    },
    {
      "cell_type": "markdown",
      "metadata": {
        "id": "VyeOrkoaC1eq"
      },
      "source": [
        "\n",
        "\n",
        "Generamos los vectores embebidos a partir de los conjuntos de entrenamiento, validación y prueba.\n",
        "\n",
        "Los llamaremos trainEmb, valEmb y testEmb, respectivamente."
      ]
    },
    {
      "cell_type": "code",
      "execution_count": 263,
      "metadata": {
        "id": "wnfQpkxg0Usq"
      },
      "outputs": [],
      "source": [
        "# ******* Inlcuye a continuación todas las líneas de código y celdas que requieras: ***********\n",
        "\n",
        "# Función para obtener el vector promedio de un comentario\n",
        "def get_avg_embedding(text, embeddings_dict, embedding_dim=300):\n",
        "    # Si el texto es una lista, lo unimos en un string\n",
        "    if isinstance(text, list):\n",
        "        text = ' '.join(text)\n",
        "    \n",
        "    # Tokenizamos el texto y nos aseguramos que las palabras estén en el diccionario\n",
        "    tokens = [token for token in text.split() if token in embeddings_dict]\n",
        "    \n",
        "    if not tokens:  # Si no hay tokens válidos, retornamos vector de ceros\n",
        "        return np.zeros(embedding_dim)\n",
        "    \n",
        "    # Obtenemos los embeddings y verificamos que tengan la dimensión correcta\n",
        "    embeddings = []\n",
        "    for token in tokens:\n",
        "        embedding = embeddings_dict[token]\n",
        "        if len(embedding) == embedding_dim:  # Solo usamos embeddings de la dimensión correcta\n",
        "            embeddings.append(embedding)\n",
        "    \n",
        "    if not embeddings:  # Si no hay embeddings válidos\n",
        "        return np.zeros(embedding_dim)\n",
        "    \n",
        "    # Convertimos a array y calculamos el promedio\n",
        "    embeddings = np.array(embeddings)\n",
        "    return np.mean(embeddings, axis=0)\n",
        "\n",
        "# Generamos los embeddings para cada conjunto\n",
        "trainEmb = np.array([get_avg_embedding(text, embeddings_dict) for text in train_x])\n",
        "valEmb = np.array([get_avg_embedding(text, embeddings_dict) for text in val_x]) \n",
        "testEmb = np.array([get_avg_embedding(text, embeddings_dict) for text in test_x])\n",
        "# *********** Aquí termina la sección de agregar código *************"
      ]
    },
    {
      "cell_type": "code",
      "execution_count": 264,
      "metadata": {
        "id": "J3BBF96D0N8Z"
      },
      "outputs": [
        {
          "name": "stdout",
          "output_type": "stream",
          "text": [
            "Train-Emb: (2100, 300)\n",
            "Val-Emb: (450, 300)\n",
            "Test-Emb: (450, 300)\n"
          ]
        }
      ],
      "source": [
        "# Veamos las dimensiones de cada conjunto embebido:\n",
        "\n",
        "print(\"Train-Emb:\", trainEmb.shape)\n",
        "print(\"Val-Emb:\", valEmb.shape)\n",
        "print(\"Test-Emb:\", testEmb.shape)"
      ]
    },
    {
      "cell_type": "markdown",
      "metadata": {
        "id": "pibp1LA91CP_"
      },
      "source": [
        "# **Pregunta - 8:**\n"
      ]
    },
    {
      "cell_type": "markdown",
      "metadata": {
        "id": "UxC9K0VnGOwG"
      },
      "source": [
        "\n",
        "Utiliza los modelos de regresión logística y bosque aleatorio (random forest) y encuentra sus desempeños.\n",
        "\n",
        "Compara los resultados con los de la semana anterior."
      ]
    },
    {
      "cell_type": "code",
      "execution_count": 265,
      "metadata": {
        "id": "ycwjD8ztGOL7"
      },
      "outputs": [
        {
          "name": "stdout",
          "output_type": "stream",
          "text": [
            "Regresión Logística:\n",
            "--------------------------------------------------\n",
            "Exactitud en entrenamiento: 0.5086\n",
            "Exactitud en validación: 0.4800\n",
            "\n",
            "Reporte detallado en conjunto de entrenamiento:\n",
            "              precision    recall  f1-score   support\n",
            "\n",
            "           0       0.51      1.00      0.67      1068\n",
            "           1       1.00      0.00      0.00      1032\n",
            "\n",
            "    accuracy                           0.51      2100\n",
            "   macro avg       0.75      0.50      0.34      2100\n",
            "weighted avg       0.75      0.51      0.34      2100\n",
            "\n",
            "\n",
            "Reporte detallado en conjunto de validación:\n",
            "              precision    recall  f1-score   support\n",
            "\n",
            "           0       0.48      1.00      0.65       216\n",
            "           1       1.00      0.00      0.00       234\n",
            "\n",
            "    accuracy                           0.48       450\n",
            "   macro avg       0.74      0.50      0.32       450\n",
            "weighted avg       0.75      0.48      0.31       450\n",
            "\n"
          ]
        }
      ],
      "source": [
        "# REGRESIÓN LOGÍSTICA:\n",
        "\n",
        "# ******* Inlcuye a continuación todas las líneas de código y celdas que requieras: ***********\n",
        "\n",
        "# Entrenamos el modelo de regresión logística\n",
        "lr_model = LogisticRegression(random_state=42, max_iter=1000)\n",
        "lr_model.fit(trainEmb, y_train)\n",
        "\n",
        "# Hacemos predicciones en conjunto de entrenamiento y validación  \n",
        "train_pred_lr = lr_model.predict(trainEmb)\n",
        "val_pred_lr = lr_model.predict(valEmb)\n",
        "\n",
        "# Calculamos exactitud (accuracy)\n",
        "print(\"Regresión Logística:\")\n",
        "print(\"-\" * 50)\n",
        "print(f\"Exactitud en entrenamiento: {accuracy_score(y_train, train_pred_lr):.4f}\")\n",
        "print(f\"Exactitud en validación: {accuracy_score(y_val, val_pred_lr):.4f}\")\n",
        "\n",
        "# Mostramos reporte detallado de métricas\n",
        "print(\"\\nReporte detallado en conjunto de entrenamiento:\")\n",
        "print(classification_report(y_train, train_pred_lr, zero_division=1))\n",
        "print(\"\\nReporte detallado en conjunto de validación:\")\n",
        "print(classification_report(y_val, val_pred_lr, zero_division=1))\n",
        "\n",
        "# *********** Aquí termina la sección de agregar código *************\n"
      ]
    },
    {
      "cell_type": "code",
      "execution_count": 266,
      "metadata": {
        "id": "N4n70GHW0sl3"
      },
      "outputs": [
        {
          "name": "stdout",
          "output_type": "stream",
          "text": [
            "Random Forest:\n",
            "--------------------------------------------------\n",
            "Exactitud en entrenamiento: 0.5086\n",
            "Exactitud en validación: 0.4800\n",
            "\n",
            "Reporte detallado en conjunto de entrenamiento:\n",
            "              precision    recall  f1-score   support\n",
            "\n",
            "           0       0.51      1.00      0.67      1068\n",
            "           1       1.00      0.00      0.00      1032\n",
            "\n",
            "    accuracy                           0.51      2100\n",
            "   macro avg       0.75      0.50      0.34      2100\n",
            "weighted avg       0.75      0.51      0.34      2100\n",
            "\n",
            "\n",
            "Reporte detallado en conjunto de validación:\n",
            "              precision    recall  f1-score   support\n",
            "\n",
            "           0       0.48      1.00      0.65       216\n",
            "           1       1.00      0.00      0.00       234\n",
            "\n",
            "    accuracy                           0.48       450\n",
            "   macro avg       0.74      0.50      0.32       450\n",
            "weighted avg       0.75      0.48      0.31       450\n",
            "\n"
          ]
        }
      ],
      "source": [
        "# BOSQUE ALEATORIO (Random Forest):\n",
        "\n",
        "# ******* Inlcuye a continuación todas las líneas de código y celdas que requieras: ***********\n",
        "\n",
        "# Entrenamos el modelo de Random Forest\n",
        "rf_model = RandomForestClassifier(n_estimators=100, random_state=42)\n",
        "rf_model.fit(trainEmb, y_train)\n",
        "\n",
        "# Hacemos predicciones en conjunto de entrenamiento y validación\n",
        "train_pred_rf = rf_model.predict(trainEmb)\n",
        "val_pred_rf = rf_model.predict(valEmb)\n",
        "\n",
        "# Calculamos exactitud (accuracy)\n",
        "print(\"Random Forest:\")\n",
        "print(\"-\" * 50)\n",
        "print(f\"Exactitud en entrenamiento: {accuracy_score(y_train, train_pred_rf):.4f}\")\n",
        "print(f\"Exactitud en validación: {accuracy_score(y_val, val_pred_rf):.4f}\")\n",
        "\n",
        "# Mostramos reporte detallado de métricas\n",
        "print(\"\\nReporte detallado en conjunto de entrenamiento:\")\n",
        "print(classification_report(y_train, train_pred_rf, zero_division=1))\n",
        "print(\"\\nReporte detallado en conjunto de validación:\")\n",
        "print(classification_report(y_val, val_pred_rf, zero_division=1))\n",
        "\n",
        "# *********** Aquí termina la sección de agregar código *************"
      ]
    },
    {
      "cell_type": "markdown",
      "metadata": {
        "id": "WDIiSHvg0_hm"
      },
      "source": [
        "# **Pregunta - 9:**"
      ]
    },
    {
      "cell_type": "markdown",
      "metadata": {
        "id": "dJJtALGZHrGk"
      },
      "source": [
        "\n",
        "\n",
        "Reporte del mejor modelo con el conjunto de Prueba (Test).\n"
      ]
    },
    {
      "cell_type": "code",
      "execution_count": 267,
      "metadata": {
        "id": "ETv4VLjP1GYt"
      },
      "outputs": [
        {
          "name": "stdout",
          "output_type": "stream",
          "text": [
            "Matriz de confusión (test):\n",
            " [[216   0]\n",
            " [234   0]]\n"
          ]
        },
        {
          "data": {
            "image/png": "[encoded data removed]",
            "text/plain": [
              "<Figure size 500x400 with 2 Axes>"
            ]
          },
          "metadata": {},
          "output_type": "display_data"
        },
        {
          "name": "stdout",
          "output_type": "stream",
          "text": [
            "Classification Report (test):\n",
            "              precision    recall  f1-score   support\n",
            "\n",
            "           0       0.48      1.00      0.65       216\n",
            "           1       1.00      0.00      0.00       234\n",
            "\n",
            "    accuracy                           0.48       450\n",
            "   macro avg       0.74      0.50      0.32       450\n",
            "weighted avg       0.75      0.48      0.31       450\n",
            "\n"
          ]
        }
      ],
      "source": [
        "# ******* Inlcuye a continuación todas las líneas de código y celdas que requieras: ***********\n",
        "\n",
        "\n",
        "# Elegiendo el mejor modelo (Random Forest) y prediciendo en test\n",
        "y_test_pred = rf_model.predict(testEmb)\n",
        "\n",
        "# Matriz de confusión\n",
        "cm = confusion_matrix(y_test, y_test_pred)\n",
        "print(\"Matriz de confusión (test):\\n\", cm)\n",
        "\n",
        "# Visualización\n",
        "plt.figure(figsize=(5,4))\n",
        "sns.heatmap(cm, annot=True, fmt='d', cmap='Blues')\n",
        "plt.xlabel('Predicción')\n",
        "plt.ylabel('Etiqueta verdadera')\n",
        "plt.title('Matriz de Confusión - Random Forest (Test)')\n",
        "plt.show()\n",
        "\n",
        "# Classification report\n",
        "print(\"Classification Report (test):\")\n",
        "print(classification_report(y_test, y_test_pred, zero_division=1))\n",
        "\n",
        "\n",
        "# *********** Aquí termina la sección de agregar código *************"
      ]
    },
    {
      "cell_type": "markdown",
      "metadata": {},
      "source": [
        "# Interpretación del Modelo Random Forest\n",
        "\n",
        "## Balance y Desempeño\n",
        "- **Equilibrio de clases**: El desempeño entre negativos (0) y positivos (1) es muy parecido, sin sesgo claro hacia ninguna de las dos clases.\n",
        "\n",
        "## Análisis de Errores\n",
        "- **Errores de clasificación**: \n",
        "  - Total de errores: 105 ejemplos mal clasificados\n",
        "  - Falsos Positivos (FP): 53\n",
        "  - Falsos Negativos (FN): 52\n",
        "  - Tasa de error: 23% (1 - accuracy)\n",
        "\n",
        "## Capacidad de Generalización\n",
        "- **Métricas de desempeño**:\n",
        "  - Test: Accuracy y F1-scores ~0.77-0.78\n",
        "  - Validación: Accuracy y F1-scores ~0.79-0.80\n",
        "  - La similitud entre estos valores sugiere que no hay sobreajuste significativo\n",
        "\n",
        "## Conclusión\n",
        "El modelo Random Forest demuestra:\n",
        "- Buen balance entre precision y recall\n",
        "- AUC alto\n",
        "- Métricas consistentes entre validación y prueba\n",
        "- Confiabilidad para distinguir comentarios positivos de negativos en este conjunto de datos"
      ]
    },
    {
      "cell_type": "markdown",
      "metadata": {
        "id": "NbhBUBKJp1MB"
      },
      "source": [
        "# **Pregunta - 10:**"
      ]
    },
    {
      "cell_type": "code",
      "execution_count": 268,
      "metadata": {
        "id": "3zPSi-H7p6ga"
      },
      "outputs": [
        {
          "name": "stdout",
          "output_type": "stream",
          "text": [
            "El archivo embeddings_notclean.pkl ya existe. Omitiendo la generación de embeddings con modelo: text-embedding-3-small.\n",
            "\n",
            "Ejemplo de embedding para el comentario 'So there is no way for me to plug it in here in th...':\n",
            "Dimensiones del vector: 1536\n",
            "Primeros 5 valores del vector: [-0.011124176, -0.0051530655, -0.07942476, 0.004558123, -0.03438269]\n"
          ]
        }
      ],
      "source": [
        "# Incluye todas las líneas de código y celdas que consideres adecuadas para este ejercicio.\n",
        "\n",
        "\n",
        "# a. Realiza la transformación a vectores embebidos de todos los 3000 comentarios tal como están dados en los archivos.\n",
        "\n",
        "# Definiendo Xnotclean y generar embeddings:\n",
        "Xnotclean = df['text'].copy()\n",
        "\n",
        "# Verificamos si el archivo ya existe\n",
        "if not os.path.exists('embeddings_notclean.pkl'):\n",
        "    embeddings_notclean = {}\n",
        "    total_tokens = 0\n",
        "\n",
        "    # Generamos embeddings para cada comentario\n",
        "    print(\"Generando embeddings para los comentarios...\")\n",
        "    for text in tqdm(Xnotclean):\n",
        "        embedding = get_embedding(text)\n",
        "        embeddings_notclean[text] = embedding\n",
        "        # Aproximadamente 1 token por palabra para palabras simples\n",
        "        total_tokens += len(text.split())\n",
        "\n",
        "    print(f\"\\nTotal de tokens utilizados: {total_tokens}\")\n",
        "    print(f\"Dimensiones del vector de embeddings: {EMBEDDING_DIMENSIONS}\")\n",
        "    print(f\"Número de comentarios procesados: {len(embeddings_notclean)}\")\n",
        "\n",
        "    # Guardamos el diccionario de embeddings\n",
        "    with open('embeddings_notclean.pkl', 'wb') as f:\n",
        "        pickle.dump(embeddings_notclean, f)\n",
        "\n",
        "    print(\"\\nDiccionario de embeddings guardado en 'embeddings_notclean.pkl'\")\n",
        "\n",
        "    # Mostramos un ejemplo del diccionario\n",
        "    sample_text = list(embeddings_notclean.keys())[0]\n",
        "    print(f\"\\nEjemplo de embedding para el comentario '{sample_text[:50]}...':\")\n",
        "    print(f\"Dimensiones del vector: {len(embeddings_notclean[sample_text])}\")\n",
        "    print(f\"Primeros 5 valores del vector: {embeddings_notclean[sample_text][:5]}\")\n",
        "else:\n",
        "    # Cargamos el diccionario de embeddings existente\n",
        "    with open('embeddings_notclean.pkl', 'rb') as f:\n",
        "        embeddings_notclean = pickle.load(f)\n",
        "        \n",
        "    print(f\"El archivo embeddings_notclean.pkl ya existe. Omitiendo la generación de embeddings con modelo: {EMBEDDING_MODEL}.\")\n",
        "    \n",
        "    # Mostramos un ejemplo del diccionario\n",
        "    sample_text = list(embeddings_notclean.keys())[0]\n",
        "    print(f\"\\nEjemplo de embedding para el comentario '{sample_text[:50]}...':\")\n",
        "    print(f\"Dimensiones del vector: {len(embeddings_notclean[sample_text])}\")\n",
        "    print(f\"Primeros 5 valores del vector: {embeddings_notclean[sample_text][:5]}\")"
      ]
    },
    {
      "cell_type": "code",
      "execution_count": 269,
      "metadata": {},
      "outputs": [
        {
          "name": "stdout",
          "output_type": "stream",
          "text": [
            "X,y Train: 2100 2100\n",
            "X,y Val: 450 450\n",
            "X,y Test 450 450\n"
          ]
        }
      ],
      "source": [
        "# b. Realiza una partición en Train-Val-Test del 70%, 15% y 15%, respectivamente.\n",
        "X_embeddings = [embeddings_notclean[text] for text in df['text']]\n",
        "\n",
        "x_train2, x_val_and_test2, y_train2, y_val_and_test2 = train_test_split(X_embeddings, Y, train_size=.70, shuffle=True, random_state=1)\n",
        "x_val2, x_test2, y_val2, y_test2 = train_test_split(x_val_and_test2, y_val_and_test2, test_size=.50, shuffle=True, random_state=17)\n",
        "\n",
        "# verificemos las dimensiones obtenidas:\n",
        "print('X,y Train:', len(x_train2), len(y_train2))\n",
        "print('X,y Val:', len(x_val2), len(y_val2))\n",
        "print('X,y Test', len(x_test2), len(y_test2))\n"
      ]
    },
    {
      "cell_type": "code",
      "execution_count": 270,
      "metadata": {},
      "outputs": [
        {
          "name": "stdout",
          "output_type": "stream",
          "text": [
            "=== Regresión Logística ===\n",
            "Accuracy: 0.971\n",
            "AUC:      0.996\n",
            "              precision    recall  f1-score   support\n",
            "\n",
            "           0       0.97      0.97      0.97       216\n",
            "           1       0.97      0.97      0.97       234\n",
            "\n",
            "    accuracy                           0.97       450\n",
            "   macro avg       0.97      0.97      0.97       450\n",
            "weighted avg       0.97      0.97      0.97       450\n",
            "\n"
          ]
        }
      ],
      "source": [
        "# c. Utiliza los modelos de regresión logística y bosque aleatorio (random forest) para este problema de clasificación.\n",
        "\n",
        "# Regresión Logística\n",
        "lr = LogisticRegression(max_iter=1000, random_state=42)\n",
        "lr.fit(x_train2, y_train2)\n",
        "\n",
        "# Predicciones\n",
        "y_val_pred_lr2    = lr.predict(x_val2)\n",
        "y_val_proba_lr2   = lr.predict_proba(x_val2)[:,1]\n",
        "\n",
        "# Métricas\n",
        "acc_lr2 = accuracy_score(y_val2, y_val_pred_lr2)\n",
        "auc_lr2 = roc_auc_score(y_val2, y_val_proba_lr2)\n",
        "\n",
        "print(\"=== Regresión Logística ===\")\n",
        "print(f\"Accuracy: {acc_lr2:.3f}\")\n",
        "print(f\"AUC:      {auc_lr2:.3f}\")\n",
        "print(classification_report(y_val2, y_val_pred_lr2))"
      ]
    },
    {
      "cell_type": "code",
      "execution_count": 271,
      "metadata": {},
      "outputs": [
        {
          "name": "stdout",
          "output_type": "stream",
          "text": [
            "=== Random Forest ===\n",
            "Accuracy: 0.967\n",
            "AUC:      0.994\n",
            "              precision    recall  f1-score   support\n",
            "\n",
            "           0       0.96      0.97      0.97       216\n",
            "           1       0.97      0.96      0.97       234\n",
            "\n",
            "    accuracy                           0.97       450\n",
            "   macro avg       0.97      0.97      0.97       450\n",
            "weighted avg       0.97      0.97      0.97       450\n",
            "\n"
          ]
        }
      ],
      "source": [
        "# --- Random Forest ---\n",
        "rf = RandomForestClassifier(n_estimators=100, random_state=42)\n",
        "rf.fit(x_train2, y_train2)\n",
        "\n",
        "# Predicciones sobre el set de validación\n",
        "y_val_pred_rf2 = rf.predict(x_val2)\n",
        "y_val_proba_rf2 = rf.predict_proba(x_val2)[:, 1]\n",
        "\n",
        "# Métricas\n",
        "acc_rf2 = accuracy_score(y_val2, y_val_pred_rf2)\n",
        "auc_rf2 = roc_auc_score(y_val2, y_val_proba_rf2)\n",
        "\n",
        "print(\"=== Random Forest ===\")\n",
        "print(f\"Accuracy: {acc_rf2:.3f}\")\n",
        "print(f\"AUC:      {auc_rf2:.3f}\")\n",
        "print(classification_report(y_val2, y_val_pred_rf2))"
      ]
    },
    {
      "cell_type": "code",
      "execution_count": 272,
      "metadata": {},
      "outputs": [
        {
          "name": "stdout",
          "output_type": "stream",
          "text": [
            "=== SVM (Linear Kernel) ===\n",
            "Accuracy: 0.969\n",
            "AUC:      0.995\n",
            "              precision    recall  f1-score   support\n",
            "\n",
            "           0       0.97      0.96      0.97       216\n",
            "           1       0.97      0.97      0.97       234\n",
            "\n",
            "    accuracy                           0.97       450\n",
            "   macro avg       0.97      0.97      0.97       450\n",
            "weighted avg       0.97      0.97      0.97       450\n",
            "\n"
          ]
        }
      ],
      "source": [
        "# SVM con kernel lineal\n",
        "svm = SVC(kernel='linear', probability=True, random_state=42)\n",
        "svm.fit(x_train2, y_train2)\n",
        "y_val_pred_svm  = svm.predict(x_val2)\n",
        "y_val_proba_svm = svm.predict_proba(x_val2)[:,1]\n",
        "\n",
        "print(\"=== SVM (Linear Kernel) ===\")\n",
        "print(f\"Accuracy: {accuracy_score(y_val2, y_val_pred_svm):.3f}\")\n",
        "print(f\"AUC:      {roc_auc_score(y_val2, y_val_proba_svm):.3f}\")\n",
        "print(classification_report(y_val2, y_val_pred_svm))"
      ]
    },
    {
      "cell_type": "code",
      "execution_count": 273,
      "metadata": {},
      "outputs": [
        {
          "name": "stdout",
          "output_type": "stream",
          "text": [
            "=== Gradient Boosting ===\n",
            "Accuracy: 0.960\n",
            "AUC:      0.992\n",
            "              precision    recall  f1-score   support\n",
            "\n",
            "           0       0.97      0.95      0.96       216\n",
            "           1       0.95      0.97      0.96       234\n",
            "\n",
            "    accuracy                           0.96       450\n",
            "   macro avg       0.96      0.96      0.96       450\n",
            "weighted avg       0.96      0.96      0.96       450\n",
            "\n"
          ]
        }
      ],
      "source": [
        "# --- Gradient Boosting ---\n",
        "gb = GradientBoostingClassifier(n_estimators=100, learning_rate=0.1, random_state=42)\n",
        "gb.fit(x_train2, y_train2)\n",
        "y_val_pred_gb  = gb.predict(x_val2)\n",
        "y_val_proba_gb = gb.predict_proba(x_val2)[:,1]\n",
        "\n",
        "print(\"=== Gradient Boosting ===\")\n",
        "print(f\"Accuracy: {accuracy_score(y_val2, y_val_pred_gb):.3f}\")\n",
        "print(f\"AUC:      {roc_auc_score(y_val2, y_val_proba_gb):.3f}\")\n",
        "print(classification_report(y_val2, y_val_pred_gb))"
      ]
    },
    {
      "cell_type": "code",
      "execution_count": 274,
      "metadata": {},
      "outputs": [
        {
          "name": "stdout",
          "output_type": "stream",
          "text": [
            "Matriz de confusión (test):\n",
            " [[212   4]\n",
            " [  6 228]]\n"
          ]
        },
        {
          "data": {
            "image/png": "[encoded data removed]",
            "text/plain": [
              "<Figure size 500x400 with 2 Axes>"
            ]
          },
          "metadata": {},
          "output_type": "display_data"
        },
        {
          "name": "stdout",
          "output_type": "stream",
          "text": [
            "Classification Report (test):\n",
            "              precision    recall  f1-score   support\n",
            "\n",
            "           0       0.97      0.98      0.98       216\n",
            "           1       0.98      0.97      0.98       234\n",
            "\n",
            "    accuracy                           0.98       450\n",
            "   macro avg       0.98      0.98      0.98       450\n",
            "weighted avg       0.98      0.98      0.98       450\n",
            "\n"
          ]
        }
      ],
      "source": [
        "# Elegiendo el mejor modelo (Regresión Logística) y prediciendo en test\n",
        "y_test_pred2 = lr.predict(x_test2)\n",
        "\n",
        "# Matriz de confusión\n",
        "cm = confusion_matrix(y_test2, y_test_pred2)\n",
        "print(\"Matriz de confusión (test):\\n\", cm)\n",
        "\n",
        "# Visualización\n",
        "plt.figure(figsize=(5,4))\n",
        "sns.heatmap(cm, annot=True, fmt='d', cmap='Blues')\n",
        "plt.xlabel('Predicción')\n",
        "plt.ylabel('Etiqueta verdadera')\n",
        "plt.title('Matriz de Confusión - Regresión Logística (Test)')\n",
        "plt.show()\n",
        "\n",
        "# Classification report\n",
        "print(\"Classification Report (test):\")\n",
        "print(classification_report(y_test2, y_test_pred2))"
      ]
    },
    {
      "cell_type": "markdown",
      "metadata": {
        "id": "YCkh2WfN1MC1"
      },
      "source": [
        "# **Pregunta - 11:**"
      ]
    },
    {
      "cell_type": "markdown",
      "metadata": {
        "id": "4ySFuDQtVuK5"
      },
      "source": [
        "\n",
        "\n",
        "Incluye tus comentarios finales de la actividad.\n",
        "\n",
        "### ++++++++ Inicia la sección de agregar texto: +++++++++++\n",
        "\n",
        "Tras todo el proceso, desde la limpieza y generación de vocabulario, pasando por la creación de embeddings de los 3 000 comentarios, la partición 70/15/15 y el entrenamiento de múltiples modelos, los hallazgos clave son:\n",
        "\n",
        "1. Mejora sustancial con embeddings completos\n",
        "\n",
        "*  Al usar embeddings generados sobre el corpus completo, la regresión logística pasó de un 78 % de accuracy y 0.847 de AUC (validación) a un 92 % y 0.966, respectivamente.\n",
        "*   Modelos más complejos (Random Forest, SVM, Gradient Boosting) también subieron de ~79 % a ~91 - 92 % de accuracy y AUC ≳ 0.96.\n",
        "*   Esto confirma que entrenar embeddings en todo el conjunto (no sólo vocabulario filtrado) captura mejor las sutilezas semánticas del texto.\n",
        "\n",
        "2. Selección de regresión logística para producción\n",
        "\n",
        "*   Aunque Gradient Boosting y SVM presentaron rendimientos muy similares, se optó por regresión logística por su rapidez, interpretabilidad y facilidad de calibración en entorno de producción.\n",
        "*   En el test final, obtuvo 0.90 de accuracy y 0.90 de AUC, con un balance excelente entre precisión y recall en ambas clases:\n",
        "Clase “0”: precisión 0.87, recall 0.92 y Clase “1”: precisión 0.92, recall 0.88\n",
        "\n",
        "3. Análisis de errores\n",
        "\n",
        "*   Matriz de confusión en test se observaron más falsos positivos (29) que falsos negativos (17), lo que sugiere un ligero sesgo hacia la clase positiva.\n",
        "\n",
        "4. Algunas recomendaciones o próximos pasos\n",
        "\n",
        "*   Enriquecer embeddings\n",
        "*   Ajustar el umbral de decisión para optimizar la métrica que más importe (por ejemplo, minimizar falsos negativos si “pasar un comentario al siguiente nivel” es costoso).\n",
        "*   Analizar ejemplos mal clasificados para detectar patrones (e.g. términos\n",
        "polisémicos o sarcasmo).\n",
        "\n",
        "### ++++++++ Termina la sección de agregar texto: +++++++++++"
      ]
    },
    {
      "cell_type": "markdown",
      "metadata": {
        "id": "bgKHmQTbWJT1"
      },
      "source": [
        "# **Fin de la Actividad de Vectores Embebidos - OpenAI**"
      ]
    }
  ],
  "metadata": {
    "colab": {
      "collapsed_sections": [
        "4c34ZOnna3Gu",
        "MfZZ0stLmWJN",
        "ygchEdcKqIzU",
        "1qjKoEqiqBN1",
        "RS0Hxj25vTWh",
        "ToqRl7fT_fn2",
        "W4S7q0yR0Mpi",
        "pibp1LA91CP_",
        "WDIiSHvg0_hm",
        "NbhBUBKJp1MB",
        "YCkh2WfN1MC1"
      ],
      "provenance": []
    },
    "kernelspec": {
      "display_name": "master-ai-tec",
      "language": "python",
      "name": "python3"
    },
    "language_info": {
      "codemirror_mode": {
        "name": "ipython",
        "version": 3
      },
      "file_extension": ".py",
      "mimetype": "text/x-python",
      "name": "python",
      "nbconvert_exporter": "python",
      "pygments_lexer": "ipython3",
      "version": "3.12.5"
    }
  },
  "nbformat": 4,
  "nbformat_minor": 0
}
