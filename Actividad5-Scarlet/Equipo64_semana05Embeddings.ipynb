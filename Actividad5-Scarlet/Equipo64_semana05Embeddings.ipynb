{
  "cells": [
    {
      "cell_type": "markdown",
      "metadata": {
        "id": "lNl8G3vHkPSX"
      },
      "source": [
        "# **Maestría en Inteligencia Artificial Aplicada**\n",
        "\n",
        "## Curso: **Procesamiento de Lenguaje Natural**\n",
        "\n",
        "### Tecnológico de Monterrey\n",
        "\n",
        "### Prof Luis Eduardo Falcón Morales\n",
        "\n",
        "## Adtividad Semana 5\n",
        "\n",
        "### **Vectores Embebidos de OpenAI**"
      ]
    },
    {
      "cell_type": "markdown",
      "metadata": {
        "id": "U69mHA6i201G"
      },
      "source": [
        "#### **Nombres y matrículas de los integrantes del equipo:**\n",
        "\n",
        "\n",
        "\n",
        "*   Scarlet Marie Wessin Romero A01796242\n",
        "*   Emmanuel Merida Toledo A01795858\n",
        "*   Carlos Pano Hernández A01066264\n",
        "*   Mireya Isabel Pérez Del Razo A01795608\n"
      ]
    },
    {
      "cell_type": "code",
      "execution_count": 9,
      "metadata": {
        "collapsed": true,
        "id": "J26DyKKIIdXg"
      },
      "outputs": [],
      "source": [
        "# !pip install numpy==1.23.5\n",
        "# !pip install gensim==4.3.1"
      ]
    },
    {
      "cell_type": "code",
      "execution_count": 10,
      "metadata": {
        "collapsed": true,
        "id": "DQQ9SBKfJAuU"
      },
      "outputs": [],
      "source": [
        "# !python3 -m spacy download en_core_web_lg"
      ]
    },
    {
      "cell_type": "code",
      "execution_count": 11,
      "metadata": {
        "collapsed": true,
        "id": "GzT-z83TJLOU"
      },
      "outputs": [],
      "source": [
        "# !pip install fasttext"
      ]
    },
    {
      "cell_type": "code",
      "execution_count": 12,
      "metadata": {
        "id": "wCL2p6MA8NuT"
      },
      "outputs": [
        {
          "ename": "ModuleNotFoundError",
          "evalue": "No module named 'google.colab'",
          "output_type": "error",
          "traceback": [
            "\u001b[0;31m---------------------------------------------------------------------------\u001b[0m",
            "\u001b[0;31mModuleNotFoundError\u001b[0m                       Traceback (most recent call last)",
            "Cell \u001b[0;32mIn[12], line 13\u001b[0m\n\u001b[1;32m     11\u001b[0m \u001b[38;5;28;01mimport\u001b[39;00m \u001b[38;5;21;01mzipfile\u001b[39;00m\n\u001b[1;32m     12\u001b[0m \u001b[38;5;28;01mimport\u001b[39;00m \u001b[38;5;21;01mos\u001b[39;00m\n\u001b[0;32m---> 13\u001b[0m \u001b[38;5;28;01mfrom\u001b[39;00m \u001b[38;5;21;01mgoogle\u001b[39;00m\u001b[38;5;21;01m.\u001b[39;00m\u001b[38;5;21;01mcolab\u001b[39;00m \u001b[38;5;28;01mimport\u001b[39;00m drive\n\u001b[1;32m     14\u001b[0m \u001b[38;5;28;01mfrom\u001b[39;00m \u001b[38;5;21;01mgoogle\u001b[39;00m\u001b[38;5;21;01m.\u001b[39;00m\u001b[38;5;21;01mcolab\u001b[39;00m \u001b[38;5;28;01mimport\u001b[39;00m userdata\n\u001b[1;32m     15\u001b[0m \u001b[38;5;28;01mfrom\u001b[39;00m \u001b[38;5;21;01mopenai\u001b[39;00m \u001b[38;5;28;01mimport\u001b[39;00m OpenAI\n",
            "\u001b[0;31mModuleNotFoundError\u001b[0m: No module named 'google.colab'"
          ]
        }
      ],
      "source": [
        "# Aquí deberás incluir todas las librerías que requieras durante esta actividad:\n",
        "import pandas as pd\n",
        "import numpy as np\n",
        "\n",
        "import nltk\n",
        "from nltk.corpus import stopwords\n",
        "from nltk.tokenize import word_tokenize\n",
        "\n",
        "import re\n",
        "import string\n",
        "import zipfile\n",
        "import os\n",
        "from openai import OpenAI\n",
        "import gensim\n",
        "import spacy\n",
        "import en_core_web_lg\n",
        "from scipy.spatial import distance\n",
        "import fasttext\n",
        "import fasttext.util"
      ]
    },
    {
      "cell_type": "code",
      "execution_count": 3,
      "metadata": {
        "colab": {
          "base_uri": "https://localhost:8080/"
        },
        "id": "1CXQLbBY-ViF",
        "outputId": "a772cfbf-0f7f-491f-e46c-95edcf3c9c6b"
      },
      "outputs": [
        {
          "name": "stdout",
          "output_type": "stream",
          "text": [
            "ChatCompletionMessage(content='A profound emotional connection characterized by affection, care, and commitment.', refusal=None, role='assistant', annotations=[], audio=None, function_call=None, tool_calls=None)\n"
          ]
        }
      ],
      "source": [
        "# Incluye las celdas necesarias para tu acceso a la API de OpenAI.\n",
        "\n",
        "client = OpenAI(\n",
        "  api_key=userdata.get(\"key\")\n",
        ")\n",
        "\n",
        "completion = client.chat.completions.create(\n",
        "  model=\"gpt-4o-mini\",\n",
        "  store=True,\n",
        "  messages=[\n",
        "    {\"role\": \"user\", \"content\": \"write a short 10 words definition of love\"}\n",
        "  ]\n",
        ")\n",
        "\n",
        "print(completion.choices[0].message);"
      ]
    },
    {
      "cell_type": "markdown",
      "metadata": {
        "id": "4c34ZOnna3Gu"
      },
      "source": [
        "# **Pregunta - 1:**\n",
        "\n"
      ]
    },
    {
      "cell_type": "markdown",
      "metadata": {
        "id": "yeNllxRdmeWg"
      },
      "source": [
        "Descarga los 3 archivos de Canvas y genera un nuevo DataFrame de Pandas con ellos.\n",
        "\n",
        "**Llama simplemente \"df\" a dicho DataFrame.**\n",
        "\n",
        "Los archivos los encuentras en Canvas: amazon5.txt, imdb5.txt, yelp5.txt.\n",
        "\n"
      ]
    },
    {
      "cell_type": "code",
      "execution_count": 4,
      "metadata": {
        "colab": {
          "base_uri": "https://localhost:8080/"
        },
        "id": "T_lyEFRkxzC6",
        "outputId": "1358c55d-4e6d-49af-fd31-79ecf6e3c9b3"
      },
      "outputs": [
        {
          "name": "stdout",
          "output_type": "stream",
          "text": [
            "Drive already mounted at /content/drive; to attempt to forcibly remount, call drive.mount(\"/content/drive\", force_remount=True).\n"
          ]
        }
      ],
      "source": [
        "\n",
        "# ******* Inlcuye a continuación todas las líneas de código y celdas que requieras: ***********\n",
        "amazon_df = pd.read_csv('Data/amazon5.txt', sep='\\t', header=None, names=['text', 'label'])\n",
        "imdb_df = pd.read_csv('Data/imdb5.txt', sep='\\t', header=None, names=['text', 'label']) \n",
        "yelp_df = pd.read_csv('Data/yelp5.txt', sep='\\t', header=None, names=['text', 'label'])\n",
        "\n",
        "# Add source column to identify which dataset each review came from\n",
        "amazon_df['source'] = 'amazon'\n",
        "imdb_df['source'] = 'imdb'\n",
        "yelp_df['source'] = 'yelp'\n",
        "\n",
        "# Concatenate\n",
        "df = pd.concat([amazon_df, imdb_df, yelp_df], ignore_index=True)\n",
        "\n",
        "# *********** Aquí termina la sección de agregar código *************\n"
      ]
    },
    {
      "cell_type": "code",
      "execution_count": 5,
      "metadata": {
        "colab": {
          "base_uri": "https://localhost:8080/"
        },
        "id": "3-w1xMLYnm9b",
        "outputId": "19ec9863-f8b0-4681-ddc1-f3d3b09ff072"
      },
      "outputs": [
        {
          "name": "stdout",
          "output_type": "stream",
          "text": [
            "<class 'pandas.core.frame.DataFrame'>\n",
            "RangeIndex: 3000 entries, 0 to 2999\n",
            "Data columns (total 1 columns):\n",
            " #   Column  Non-Null Count  Dtype \n",
            "---  ------  --------------  ----- \n",
            " 0   text    3000 non-null   object\n",
            "dtypes: object(1)\n",
            "memory usage: 23.6+ KB\n"
          ]
        }
      ],
      "source": [
        "# Verifiquemos la información del DataFrame:\n",
        "df.info()"
      ]
    },
    {
      "cell_type": "code",
      "execution_count": 6,
      "metadata": {
        "colab": {
          "base_uri": "https://localhost:8080/",
          "height": 206
        },
        "id": "NfVUcYe1nubT",
        "outputId": "3d317403-8fe0-4fa8-9499-c4ac7a025d8b"
      },
      "outputs": [
        {
          "data": {
            "application/vnd.google.colaboratory.intrinsic+json": {
              "summary": "{\n  \"name\": \"df\",\n  \"rows\": 3000,\n  \"fields\": [\n    {\n      \"column\": \"text\",\n      \"properties\": {\n        \"dtype\": \"string\",\n        \"num_unique_values\": 2983,\n        \"samples\": [\n          \"We've tried to like this place but after 10+ times I think we're done with them.\\t0\",\n          \"The script is a big flawed mess.    0\",\n          \"It was that loud.Glad to say that the Plantronics 510 maintains a flawless connection to my cell and with no static during normal use.\\t1\"\n        ],\n        \"semantic_type\": \"\",\n        \"description\": \"\"\n      }\n    }\n  ]\n}",
              "type": "dataframe",
              "variable_name": "df"
            },
            "text/html": [
              "\n",
              "  <div id=\"df-064a6b21-9249-40fe-b42c-74da7101d7cf\" class=\"colab-df-container\">\n",
              "    <div>\n",
              "<style scoped>\n",
              "    .dataframe tbody tr th:only-of-type {\n",
              "        vertical-align: middle;\n",
              "    }\n",
              "\n",
              "    .dataframe tbody tr th {\n",
              "        vertical-align: top;\n",
              "    }\n",
              "\n",
              "    .dataframe thead th {\n",
              "        text-align: right;\n",
              "    }\n",
              "</style>\n",
              "<table border=\"1\" class=\"dataframe\">\n",
              "  <thead>\n",
              "    <tr style=\"text-align: right;\">\n",
              "      <th></th>\n",
              "      <th>text</th>\n",
              "    </tr>\n",
              "  </thead>\n",
              "  <tbody>\n",
              "    <tr>\n",
              "      <th>0</th>\n",
              "      <td>So there is no way for me to plug it in here i...</td>\n",
              "    </tr>\n",
              "    <tr>\n",
              "      <th>1</th>\n",
              "      <td>Good case, Excellent value.\\t1</td>\n",
              "    </tr>\n",
              "    <tr>\n",
              "      <th>2</th>\n",
              "      <td>Great for the jawbone.\\t1</td>\n",
              "    </tr>\n",
              "    <tr>\n",
              "      <th>3</th>\n",
              "      <td>Tied to charger for conversations lasting more...</td>\n",
              "    </tr>\n",
              "    <tr>\n",
              "      <th>4</th>\n",
              "      <td>The mic is great.\\t1</td>\n",
              "    </tr>\n",
              "  </tbody>\n",
              "</table>\n",
              "</div>\n",
              "    <div class=\"colab-df-buttons\">\n",
              "\n",
              "  <div class=\"colab-df-container\">\n",
              "    <button class=\"colab-df-convert\" onclick=\"convertToInteractive('df-064a6b21-9249-40fe-b42c-74da7101d7cf')\"\n",
              "            title=\"Convert this dataframe to an interactive table.\"\n",
              "            style=\"display:none;\">\n",
              "\n",
              "  <svg xmlns=\"http://www.w3.org/2000/svg\" height=\"24px\" viewBox=\"0 -960 960 960\">\n",
              "    <path d=\"M120-120v-720h720v720H120Zm60-500h600v-160H180v160Zm220 220h160v-160H400v160Zm0 220h160v-160H400v160ZM180-400h160v-160H180v160Zm440 0h160v-160H620v160ZM180-180h160v-160H180v160Zm440 0h160v-160H620v160Z\"/>\n",
              "  </svg>\n",
              "    </button>\n",
              "\n",
              "  <style>\n",
              "    .colab-df-container {\n",
              "      display:flex;\n",
              "      gap: 12px;\n",
              "    }\n",
              "\n",
              "    .colab-df-convert {\n",
              "      background-color: #E8F0FE;\n",
              "      border: none;\n",
              "      border-radius: 50%;\n",
              "      cursor: pointer;\n",
              "      display: none;\n",
              "      fill: #1967D2;\n",
              "      height: 32px;\n",
              "      padding: 0 0 0 0;\n",
              "      width: 32px;\n",
              "    }\n",
              "\n",
              "    .colab-df-convert:hover {\n",
              "      background-color: #E2EBFA;\n",
              "      box-shadow: 0px 1px 2px rgba(60, 64, 67, 0.3), 0px 1px 3px 1px rgba(60, 64, 67, 0.15);\n",
              "      fill: #174EA6;\n",
              "    }\n",
              "\n",
              "    .colab-df-buttons div {\n",
              "      margin-bottom: 4px;\n",
              "    }\n",
              "\n",
              "    [theme=dark] .colab-df-convert {\n",
              "      background-color: #3B4455;\n",
              "      fill: #D2E3FC;\n",
              "    }\n",
              "\n",
              "    [theme=dark] .colab-df-convert:hover {\n",
              "      background-color: #434B5C;\n",
              "      box-shadow: 0px 1px 3px 1px rgba(0, 0, 0, 0.15);\n",
              "      filter: drop-shadow(0px 1px 2px rgba(0, 0, 0, 0.3));\n",
              "      fill: #FFFFFF;\n",
              "    }\n",
              "  </style>\n",
              "\n",
              "    <script>\n",
              "      const buttonEl =\n",
              "        document.querySelector('#df-064a6b21-9249-40fe-b42c-74da7101d7cf button.colab-df-convert');\n",
              "      buttonEl.style.display =\n",
              "        google.colab.kernel.accessAllowed ? 'block' : 'none';\n",
              "\n",
              "      async function convertToInteractive(key) {\n",
              "        const element = document.querySelector('#df-064a6b21-9249-40fe-b42c-74da7101d7cf');\n",
              "        const dataTable =\n",
              "          await google.colab.kernel.invokeFunction('convertToInteractive',\n",
              "                                                    [key], {});\n",
              "        if (!dataTable) return;\n",
              "\n",
              "        const docLinkHtml = 'Like what you see? Visit the ' +\n",
              "          '<a target=\"_blank\" href=https://colab.research.google.com/notebooks/data_table.ipynb>data table notebook</a>'\n",
              "          + ' to learn more about interactive tables.';\n",
              "        element.innerHTML = '';\n",
              "        dataTable['output_type'] = 'display_data';\n",
              "        await google.colab.output.renderOutput(dataTable, element);\n",
              "        const docLink = document.createElement('div');\n",
              "        docLink.innerHTML = docLinkHtml;\n",
              "        element.appendChild(docLink);\n",
              "      }\n",
              "    </script>\n",
              "  </div>\n",
              "\n",
              "\n",
              "    <div id=\"df-515873f0-927c-4b87-927d-fbc4eb6cb51d\">\n",
              "      <button class=\"colab-df-quickchart\" onclick=\"quickchart('df-515873f0-927c-4b87-927d-fbc4eb6cb51d')\"\n",
              "                title=\"Suggest charts\"\n",
              "                style=\"display:none;\">\n",
              "\n",
              "<svg xmlns=\"http://www.w3.org/2000/svg\" height=\"24px\"viewBox=\"0 0 24 24\"\n",
              "     width=\"24px\">\n",
              "    <g>\n",
              "        <path d=\"M19 3H5c-1.1 0-2 .9-2 2v14c0 1.1.9 2 2 2h14c1.1 0 2-.9 2-2V5c0-1.1-.9-2-2-2zM9 17H7v-7h2v7zm4 0h-2V7h2v10zm4 0h-2v-4h2v4z\"/>\n",
              "    </g>\n",
              "</svg>\n",
              "      </button>\n",
              "\n",
              "<style>\n",
              "  .colab-df-quickchart {\n",
              "      --bg-color: #E8F0FE;\n",
              "      --fill-color: #1967D2;\n",
              "      --hover-bg-color: #E2EBFA;\n",
              "      --hover-fill-color: #174EA6;\n",
              "      --disabled-fill-color: #AAA;\n",
              "      --disabled-bg-color: #DDD;\n",
              "  }\n",
              "\n",
              "  [theme=dark] .colab-df-quickchart {\n",
              "      --bg-color: #3B4455;\n",
              "      --fill-color: #D2E3FC;\n",
              "      --hover-bg-color: #434B5C;\n",
              "      --hover-fill-color: #FFFFFF;\n",
              "      --disabled-bg-color: #3B4455;\n",
              "      --disabled-fill-color: #666;\n",
              "  }\n",
              "\n",
              "  .colab-df-quickchart {\n",
              "    background-color: var(--bg-color);\n",
              "    border: none;\n",
              "    border-radius: 50%;\n",
              "    cursor: pointer;\n",
              "    display: none;\n",
              "    fill: var(--fill-color);\n",
              "    height: 32px;\n",
              "    padding: 0;\n",
              "    width: 32px;\n",
              "  }\n",
              "\n",
              "  .colab-df-quickchart:hover {\n",
              "    background-color: var(--hover-bg-color);\n",
              "    box-shadow: 0 1px 2px rgba(60, 64, 67, 0.3), 0 1px 3px 1px rgba(60, 64, 67, 0.15);\n",
              "    fill: var(--button-hover-fill-color);\n",
              "  }\n",
              "\n",
              "  .colab-df-quickchart-complete:disabled,\n",
              "  .colab-df-quickchart-complete:disabled:hover {\n",
              "    background-color: var(--disabled-bg-color);\n",
              "    fill: var(--disabled-fill-color);\n",
              "    box-shadow: none;\n",
              "  }\n",
              "\n",
              "  .colab-df-spinner {\n",
              "    border: 2px solid var(--fill-color);\n",
              "    border-color: transparent;\n",
              "    border-bottom-color: var(--fill-color);\n",
              "    animation:\n",
              "      spin 1s steps(1) infinite;\n",
              "  }\n",
              "\n",
              "  @keyframes spin {\n",
              "    0% {\n",
              "      border-color: transparent;\n",
              "      border-bottom-color: var(--fill-color);\n",
              "      border-left-color: var(--fill-color);\n",
              "    }\n",
              "    20% {\n",
              "      border-color: transparent;\n",
              "      border-left-color: var(--fill-color);\n",
              "      border-top-color: var(--fill-color);\n",
              "    }\n",
              "    30% {\n",
              "      border-color: transparent;\n",
              "      border-left-color: var(--fill-color);\n",
              "      border-top-color: var(--fill-color);\n",
              "      border-right-color: var(--fill-color);\n",
              "    }\n",
              "    40% {\n",
              "      border-color: transparent;\n",
              "      border-right-color: var(--fill-color);\n",
              "      border-top-color: var(--fill-color);\n",
              "    }\n",
              "    60% {\n",
              "      border-color: transparent;\n",
              "      border-right-color: var(--fill-color);\n",
              "    }\n",
              "    80% {\n",
              "      border-color: transparent;\n",
              "      border-right-color: var(--fill-color);\n",
              "      border-bottom-color: var(--fill-color);\n",
              "    }\n",
              "    90% {\n",
              "      border-color: transparent;\n",
              "      border-bottom-color: var(--fill-color);\n",
              "    }\n",
              "  }\n",
              "</style>\n",
              "\n",
              "      <script>\n",
              "        async function quickchart(key) {\n",
              "          const quickchartButtonEl =\n",
              "            document.querySelector('#' + key + ' button');\n",
              "          quickchartButtonEl.disabled = true;  // To prevent multiple clicks.\n",
              "          quickchartButtonEl.classList.add('colab-df-spinner');\n",
              "          try {\n",
              "            const charts = await google.colab.kernel.invokeFunction(\n",
              "                'suggestCharts', [key], {});\n",
              "          } catch (error) {\n",
              "            console.error('Error during call to suggestCharts:', error);\n",
              "          }\n",
              "          quickchartButtonEl.classList.remove('colab-df-spinner');\n",
              "          quickchartButtonEl.classList.add('colab-df-quickchart-complete');\n",
              "        }\n",
              "        (() => {\n",
              "          let quickchartButtonEl =\n",
              "            document.querySelector('#df-515873f0-927c-4b87-927d-fbc4eb6cb51d button');\n",
              "          quickchartButtonEl.style.display =\n",
              "            google.colab.kernel.accessAllowed ? 'block' : 'none';\n",
              "        })();\n",
              "      </script>\n",
              "    </div>\n",
              "\n",
              "    </div>\n",
              "  </div>\n"
            ],
            "text/plain": [
              "                                                text\n",
              "0  So there is no way for me to plug it in here i...\n",
              "1                     Good case, Excellent value.\\t1\n",
              "2                          Great for the jawbone.\\t1\n",
              "3  Tied to charger for conversations lasting more...\n",
              "4                               The mic is great.\\t1"
            ]
          },
          "execution_count": 6,
          "metadata": {},
          "output_type": "execute_result"
        }
      ],
      "source": [
        "# Y veamos sus primeros registros:\n",
        "df.head()"
      ]
    },
    {
      "cell_type": "markdown",
      "metadata": {
        "id": "MfZZ0stLmWJN"
      },
      "source": [
        "# **Pregunta - 2:**"
      ]
    },
    {
      "cell_type": "markdown",
      "metadata": {
        "id": "7F6JF5BommZ6"
      },
      "source": [
        "Realiza el proceso de limpieza. Aplica el preprocesamiento que consideres adecuado.\n",
        "\n",
        "\n",
        "\n",
        "\n",
        "\n",
        "\n",
        "\n",
        "\n",
        "\n"
      ]
    },
    {
      "cell_type": "code",
      "execution_count": 7,
      "metadata": {
        "id": "TsnvMp-7oYCM"
      },
      "outputs": [],
      "source": [
        "\n",
        "# ******* Inlcuye a continuación todas las líneas de código y celdas que requieras: ***********\n",
        "\n",
        "# Limpiamos el texto reemplazando los tabuladores por espacios y separamos la etiqueta del comentario.\n",
        "# Como los datos de IMDB no usan tabulador para separar la etiqueta, usamos rsplit para dividir desde el final.\n",
        "# Esto permite extraer correctamente la etiqueta (Y) como la última palabra del texto.\n",
        "df['text'] = df['text'].str.replace('\\t', ' ', regex=False)\n",
        "df[['text', 'Y']] = df['text'].str.rsplit(n=1, expand=True)\n",
        "df['Y'] = df['Y'].astype(int)\n",
        "Y = df['Y'].copy()"
      ]
    },
    {
      "cell_type": "code",
      "execution_count": 7,
      "metadata": {
        "colab": {
          "base_uri": "https://localhost:8080/"
        },
        "id": "_s5L70rGCFI8",
        "outputId": "efa41225-de3b-4774-c163-c039539b939e"
      },
      "outputs": [
        {
          "name": "stdout",
          "output_type": "stream",
          "text": [
            "<class 'pandas.core.frame.DataFrame'>\n",
            "RangeIndex: 3000 entries, 0 to 2999\n",
            "Data columns (total 2 columns):\n",
            " #   Column  Non-Null Count  Dtype \n",
            "---  ------  --------------  ----- \n",
            " 0   text    3000 non-null   object\n",
            " 1   Y       3000 non-null   int64 \n",
            "dtypes: int64(1), object(1)\n",
            "memory usage: 47.0+ KB\n"
          ]
        }
      ],
      "source": [
        "df.info()"
      ]
    },
    {
      "cell_type": "code",
      "execution_count": 8,
      "metadata": {
        "id": "n0nal5QJJUSV"
      },
      "outputs": [],
      "source": [
        "pd.set_option('display.max_colwidth', None)\n",
        "pd.set_option('display.width', 200)"
      ]
    },
    {
      "cell_type": "code",
      "execution_count": 9,
      "metadata": {
        "colab": {
          "base_uri": "https://localhost:8080/"
        },
        "id": "9CbwlB6LJVQp",
        "outputId": "7bece07d-7278-4152-bae9-5b46d766ca61"
      },
      "outputs": [
        {
          "name": "stdout",
          "output_type": "stream",
          "text": [
            "=== First 10 comments ===\n",
            "1. So there is no way for me to plug it in here in the US unless I go by a converter.\n",
            "\n",
            "2. Good case, Excellent value.\n",
            "\n",
            "3. Great for the jawbone.\n",
            "\n",
            "4. Tied to charger for conversations lasting more than 45 minutes.MAJOR PROBLEMS!!\n",
            "\n",
            "5. The mic is great.\n",
            "\n",
            "6. I have to jiggle the plug to get it to line up right to get decent volume.\n",
            "\n",
            "7. If you have several dozen or several hundred contacts, then imagine the fun of sending each of them one by one.\n",
            "\n",
            "8. If you are Razr owner...you must have this!\n",
            "\n",
            "9. Needless to say, I wasted my money.\n",
            "\n",
            "10. What a waste of money and time!.\n",
            "\n"
          ]
        }
      ],
      "source": [
        "# visualizando los comentarios para evaluar que procesos de limpieza son pertinentes\n",
        "print(\"=== First 10 comments ===\")\n",
        "for i, text in enumerate(df['text'].head(10), start=1):\n",
        "    print(f\"{i}. {text}\\n\")"
      ]
    },
    {
      "cell_type": "code",
      "execution_count": 10,
      "metadata": {
        "colab": {
          "base_uri": "https://localhost:8080/"
        },
        "id": "iRrq-2sSJXsp",
        "outputId": "9a4411da-0df8-4942-d8f4-7945c286358e"
      },
      "outputs": [
        {
          "name": "stdout",
          "output_type": "stream",
          "text": [
            "=== Random sample of 10 comments ===\n",
            "1. It was forced, like everything in this movie.\n",
            "\n",
            "2. They really want to make your experience a good one.\n",
            "\n",
            "3. I bought this battery with a coupon from Amazon and I'm very happy with my purchase.\n",
            "\n",
            "4. Good show, Samsung.\n",
            "\n",
            "5. Everything about this product is wrong.First\n",
            "\n",
            "6. I could care less... The interior is just beautiful.\n",
            "\n",
            "7. It works fine on my Motorola 325 cellphone, and a lot better than the worn-out battery did.\n",
            "\n",
            "8. But the premise of the film was so ridiculous: that the President of the U.S.\n",
            "\n",
            "9. SWEETEST PHONE!!!\n",
            "\n",
            "10. A great film by a great director.\n",
            "\n"
          ]
        }
      ],
      "source": [
        "# visualizando los comentarios para evaluar que procesos de limpieza son pertinentes\n",
        "print(\"=== Random sample of 10 comments ===\")\n",
        "for i, text in enumerate(df['text'].sample(10), start=1):\n",
        "    print(f\"{i}. {text}\\n\")"
      ]
    },
    {
      "cell_type": "code",
      "execution_count": 11,
      "metadata": {
        "colab": {
          "base_uri": "https://localhost:8080/"
        },
        "id": "vwzlTsM9MPQt",
        "outputId": "907d9ded-6d20-4524-aefc-5f708af4d0a1"
      },
      "outputs": [
        {
          "name": "stderr",
          "output_type": "stream",
          "text": [
            "[nltk_data] Downloading package punkt_tab to /root/nltk_data...\n",
            "[nltk_data]   Package punkt_tab is already up-to-date!\n",
            "[nltk_data] Downloading package stopwords to /root/nltk_data...\n",
            "[nltk_data]   Package stopwords is already up-to-date!\n"
          ]
        },
        {
          "data": {
            "text/plain": [
              "True"
            ]
          },
          "execution_count": 11,
          "metadata": {},
          "output_type": "execute_result"
        }
      ],
      "source": [
        "# Descargar el tokenizador y las stopwords\n",
        "nltk.download('punkt_tab')\n",
        "nltk.download('stopwords')"
      ]
    },
    {
      "cell_type": "code",
      "execution_count": 12,
      "metadata": {
        "id": "mr3SRds-Ll-h"
      },
      "outputs": [],
      "source": [
        "# limpieza\n",
        "\n",
        "# Modelo spaCy\n",
        "nlp = spacy.load(\"en_core_web_sm\")\n",
        "\n",
        "# Stopwords de NLTK\n",
        "stop_words = set(stopwords.words('english'))\n",
        "\n",
        "def clean_text(text):\n",
        "    # Pasar a minúsculas\n",
        "    text = text.lower()\n",
        "\n",
        "    # Eliminar URLs\n",
        "    text = re.sub(r'https?://\\S+|www\\.\\S+', '', text)\n",
        "\n",
        "    # Eliminar cualquier carácter que no sea letra o espacio\n",
        "    text = re.sub(r'[^a-z\\s]', '', text)\n",
        "\n",
        "    # Colapsar múltiples espacios en uno solo\n",
        "    text = re.sub(r'\\s+', ' ', text).strip()\n",
        "\n",
        "    # Tokenizar\n",
        "    tokens = word_tokenize(text)\n",
        "\n",
        "    # Quitar stopwords\n",
        "    tokens = [tok for tok in tokens if tok not in stop_words]\n",
        "\n",
        "    # Lematizar con spaCy\n",
        "    doc = nlp(\" \".join(tokens))\n",
        "    lemmas = [token.lemma_ for token in doc]\n",
        "\n",
        "    # Reconstruir el texto limpio\n",
        "    return \" \".join(lemmas)\n",
        "\n",
        "# Crear Xclean\n",
        "Xclean = df['text'].apply(clean_text)\n",
        "\n",
        "# *********** Aquí termina la sección de agregar código *************"
      ]
    },
    {
      "cell_type": "code",
      "execution_count": 13,
      "metadata": {
        "colab": {
          "base_uri": "https://localhost:8080/"
        },
        "id": "7jlQuoI2o33T",
        "outputId": "8ae321f4-be4f-48a9-ed34-c18a486eed5b"
      },
      "outputs": [
        {
          "name": "stdout",
          "output_type": "stream",
          "text": [
            "way plug we unless go converter\n",
            "good case excellent value\n",
            "great jawbone\n",
            "tie charger conversation last minutesmajor problem\n",
            "mic great\n"
          ]
        }
      ],
      "source": [
        "# Despleguemos los primeros comentarios después de tu proceso de limpieza:\n",
        "for x in Xclean[0:5]:\n",
        "  print(x)"
      ]
    },
    {
      "cell_type": "markdown",
      "metadata": {
        "id": "ygchEdcKqIzU"
      },
      "source": [
        "# **Pregunta - 3:**\n"
      ]
    },
    {
      "cell_type": "markdown",
      "metadata": {
        "id": "7wEIOkkl9Dot"
      },
      "source": [
        "\n",
        "Realicemos una partición aleatoria con los mismos porcentajes de la práctica pasada para poder comparar dichos resultados con los de\n",
        "esta actividad, a saber, 70%, 15% y 15%, para entrenamiento, validación y prueba, respectivamente."
      ]
    },
    {
      "cell_type": "code",
      "execution_count": null,
      "metadata": {
        "colab": {
          "base_uri": "https://localhost:8080/"
        },
        "id": "b0SAcYdq9X0w",
        "outputId": "3d7b56f3-cd6b-421d-ca55-9ff4d822e4d4"
      },
      "outputs": [
        {
          "ename": "NameError",
          "evalue": "name 'Xclean' is not defined",
          "output_type": "error",
          "traceback": [
            "\u001b[0;31m---------------------------------------------------------------------------\u001b[0m",
            "\u001b[0;31mNameError\u001b[0m                                 Traceback (most recent call last)",
            "Cell \u001b[0;32mIn[8], line 5\u001b[0m\n\u001b[1;32m      1\u001b[0m \u001b[38;5;66;03m# ************* Inicia la sección de agregar código:*****************************\u001b[39;00m\n\u001b[1;32m      3\u001b[0m \u001b[38;5;28;01mfrom\u001b[39;00m \u001b[38;5;21;01msklearn\u001b[39;00m\u001b[38;5;21;01m.\u001b[39;00m\u001b[38;5;21;01mmodel_selection\u001b[39;00m \u001b[38;5;28;01mimport\u001b[39;00m train_test_split\n\u001b[0;32m----> 5\u001b[0m x_train, x_val_and_test, y_train, y_val_and_test \u001b[38;5;241m=\u001b[39m train_test_split(Xclean, Y, train_size\u001b[38;5;241m=\u001b[39m\u001b[38;5;241m.70\u001b[39m, shuffle\u001b[38;5;241m=\u001b[39m\u001b[38;5;28;01mTrue\u001b[39;00m, random_state\u001b[38;5;241m=\u001b[39m\u001b[38;5;241m1\u001b[39m)\n\u001b[1;32m      6\u001b[0m x_val, x_test, y_val, y_test \u001b[38;5;241m=\u001b[39m train_test_split(x_val_and_test, y_val_and_test, test_size\u001b[38;5;241m=\u001b[39m\u001b[38;5;241m.50\u001b[39m, shuffle\u001b[38;5;241m=\u001b[39m\u001b[38;5;28;01mTrue\u001b[39;00m, random_state\u001b[38;5;241m=\u001b[39m\u001b[38;5;241m17\u001b[39m)\n\u001b[1;32m      9\u001b[0m \u001b[38;5;66;03m# *********** Termina la sección de agregar código *************\u001b[39;00m\n\u001b[1;32m     10\u001b[0m \n\u001b[1;32m     11\u001b[0m \n\u001b[1;32m     12\u001b[0m \u001b[38;5;66;03m# verificemos las dimensiones obtenidas:\u001b[39;00m\n",
            "\u001b[0;31mNameError\u001b[0m: name 'Xclean' is not defined"
          ]
        }
      ],
      "source": [
        "\n",
        "# ************* Inicia la sección de agregar código:*****************************\n",
        "\n",
        "from sklearn.model_selection import train_test_split\n",
        "\n",
        "x_train, x_val_and_test, y_train, y_val_and_test = train_test_split(Xclean, Y, train_size=.70, shuffle=True, random_state=1)\n",
        "x_val, x_test, y_val, y_test = train_test_split(x_val_and_test, y_val_and_test, test_size=.50, shuffle=True, random_state=17)\n",
        "\n",
        "\n",
        "# *********** Termina la sección de agregar código *************\n",
        "\n",
        "\n",
        "# verificemos las dimensiones obtenidas:\n",
        "print('X,y Train:', len(x_train), len(y_train))\n",
        "print('X,y Val:', len(x_val), len(y_val))\n",
        "print('X,y Test', len(x_test), len(y_test))"
      ]
    },
    {
      "cell_type": "code",
      "execution_count": 7,
      "metadata": {},
      "outputs": [
        {
          "ename": "NameError",
          "evalue": "name 'x_train' is not defined",
          "output_type": "error",
          "traceback": [
            "\u001b[0;31m---------------------------------------------------------------------------\u001b[0m",
            "\u001b[0;31mNameError\u001b[0m                                 Traceback (most recent call last)",
            "Cell \u001b[0;32mIn[7], line 1\u001b[0m\n\u001b[0;32m----> 1\u001b[0m \u001b[38;5;28mprint\u001b[39m(x_train)\n",
            "\u001b[0;31mNameError\u001b[0m: name 'x_train' is not defined"
          ]
        }
      ],
      "source": [
        "print(x_train)"
      ]
    },
    {
      "cell_type": "markdown",
      "metadata": {
        "id": "1qjKoEqiqBN1"
      },
      "source": [
        "# **Pregunta - 4:**"
      ]
    },
    {
      "cell_type": "markdown",
      "metadata": {
        "id": "jENsKiN99r3F"
      },
      "source": [
        "\n",
        "\n",
        "Construye tu vocabulario a continuación\n"
      ]
    },
    {
      "cell_type": "code",
      "execution_count": 15,
      "metadata": {
        "colab": {
          "base_uri": "https://localhost:8080/"
        },
        "id": "eUIrQ0F8TVQz",
        "outputId": "500ab68f-b285-47f4-bdaf-628c35940b43"
      },
      "outputs": [
        {
          "name": "stdout",
          "output_type": "stream",
          "text": [
            "=== Estadísticas de frecuencia ===\n",
            "count    3492.000000\n",
            "mean        3.771764\n",
            "std        10.481273\n",
            "min         1.000000\n",
            "25%         1.000000\n",
            "50%         1.000000\n",
            "75%         3.000000\n",
            "max       212.000000\n",
            "Name: count, dtype: float64 \n",
            "\n",
            "=== Estadísticas de longitud ===\n",
            "count    3492.000000\n",
            "mean        6.593356\n",
            "std         2.599527\n",
            "min         1.000000\n",
            "25%         5.000000\n",
            "50%         6.000000\n",
            "75%         8.000000\n",
            "max        33.000000\n",
            "Name: length, dtype: float64 \n",
            "\n",
            "Términos necesarios para cubrir el 90 %: 2174\n"
          ]
        }
      ],
      "source": [
        "# a.\tUsa el conjunto de entrenamiento para generar tu vocabulario\n",
        "#     con un tamaño que consideres adecuado:\n",
        "\n",
        "\n",
        "# ******* Inlcuye a continuación todas las líneas de código y celdas que requieras: ***********\n",
        "from collections import Counter\n",
        "import pandas as pd\n",
        "from typing import List, Tuple\n",
        "\n",
        "# funcion para tokenizar, contar frecuencias y longitudes de tokens en una Serie de textos. Devuelve un DataFrame con columnas ['token','count','length'].\n",
        "def compute_token_stats(texts: pd.Series) -> pd.DataFrame:\n",
        "    token_counts = Counter()\n",
        "    for tokens in texts.str.split():\n",
        "        token_counts.update(tokens)\n",
        "    df = pd.DataFrame(token_counts.items(), columns=['token','count'])\n",
        "    df['length'] = df['token'].str.len()\n",
        "    return df.sort_values('count', ascending=False).reset_index(drop=True)\n",
        "\n",
        "# dada la distribución de frecuencias en df['count'], devuelve cuántos tokens cubren al menos `coverage` de las apariciones.\n",
        "def determine_vocab_size(df: pd.DataFrame, coverage: float = 0.90) -> int:\n",
        "    df = df.copy()\n",
        "    df['cum_freq'] = df['count'].cumsum() / df['count'].sum()\n",
        "    return int((df['cum_freq'] <= coverage).sum())\n",
        "\n",
        "# filtrar tokens con count>=min_freq y length>=min_len, luego toma los max_vocab más frecuentes.\n",
        "def build_vocab(token_stats: pd.DataFrame,\n",
        "                min_freq: int,\n",
        "                min_len: int,\n",
        "                max_vocab: int) -> List[str]:\n",
        "\n",
        "    filtered = token_stats[\n",
        "        (token_stats['count'] >= min_freq) &\n",
        "        (token_stats['length'] >= min_len)\n",
        "    ]\n",
        "    return filtered['token'].tolist()[:max_vocab]\n",
        "\n",
        "# estadisticas sobre el conjunto de entrenamiento\n",
        "token_stats = compute_token_stats(x_train)\n",
        "\n",
        "print(\"=== Estadísticas de frecuencia ===\")\n",
        "print(token_stats['count'].describe(), \"\\n\")\n",
        "print(\"=== Estadísticas de longitud ===\")\n",
        "print(token_stats['length'].describe(), \"\\n\")\n",
        "\n",
        "# tamaño de vocabulario para 90% de cobertura\n",
        "vocab_size_90 = determine_vocab_size(token_stats, coverage=0.90)\n",
        "print(f\"Términos necesarios para cubrir el 90 %: {vocab_size_90}\")\n",
        "\n",
        "# definir los umbrales\n",
        "min_freq = 3\n",
        "min_len  = 3\n",
        "\n",
        "# construir vocabulario final\n",
        "vocab = build_vocab(token_stats, min_freq, min_len, vocab_size_90)"
      ]
    },
    {
      "cell_type": "code",
      "execution_count": 16,
      "metadata": {
        "colab": {
          "base_uri": "https://localhost:8080/"
        },
        "id": "yTDZ0Rr86CUP",
        "outputId": "b864bd6d-00c3-4f86-dc05-df1b6e4ab916"
      },
      "outputs": [
        {
          "name": "stdout",
          "output_type": "stream",
          "text": [
            "Longitud del vocabulario generado: 884\n",
            "Primeros 20 términos del vocabulario: ['not', 'good', 'great', 'movie', 'phone', 'film', 'work', 'bad', 'well', 'like', 'time', 'one', 'place', 'service', 'food', 'get', 'make', 'really', 'use', 'would']\n"
          ]
        }
      ],
      "source": [
        "# b.\tIndica el tamaño del vocabulario generado.\n",
        "\n",
        "# ******* Inicia la sección de agregar código: ***********\n",
        "\n",
        "print(f\"Longitud del vocabulario generado: {len(vocab)}\")\n",
        "print(\"Primeros 20 términos del vocabulario:\", vocab[:20])\n",
        "\n",
        "# *********** Aquí termina la sección de agregar código *************"
      ]
    },
    {
      "cell_type": "markdown",
      "metadata": {
        "id": "NDa4EhTqrw15"
      },
      "source": [
        "c.\t¿Por qué debe usarse solamente el conjunto de entrenamiento para generar el vocabulario?\n",
        "\n",
        "\n",
        "### ++++++++ Inicia la sección de agregar texto: +++++++++++\n",
        "\n",
        "Para evitar fugas de información (data leakage), el vocabulario debe construirse únicamente a partir del conjunto de entrenamiento. El vocabulario determina qué palabras el modelo conoce y puede procesar.\n",
        "\n",
        "Si se genera utilizando todo el conjunto de datos (entrenamiento + prueba), el modelo estaría expuesto a ejemplos que, en teoría, aún no ha visto. Esto implica que podría aprender patrones o palabras presentes en el conjunto de prueba, lo cual sesga el aprendizaje y compromete la objetividad de la evaluación.\n",
        "\n",
        "Como consecuencia, las métricas de rendimiento (como precisión, recall, y F1) podrían estar artificialmente infladas, ya que el modelo estaría “prediciendo” sobre datos que, en realidad, ya conoce parcialmente.\n",
        "\n",
        "### ++++++++ Termina la sección de agregar texto: +++++++++++\n"
      ]
    },
    {
      "cell_type": "code",
      "execution_count": 17,
      "metadata": {
        "id": "7ykjxQI3rpxx"
      },
      "outputs": [],
      "source": [
        "# d.\tCon el vocabulario generado, filtra los conjuntos de entrenamiento,\n",
        "#     validación y prueba para que todos los comentarios usen solamente las\n",
        "#     palabras de este vocabulario.\n",
        "\n",
        "#     Llamar train_x, val_x y test_x a estos tres conjuntos.\n",
        "\n",
        "\n",
        "# ******* Inlcuye a continuación todas las líneas de código y celdas que requieras: ***********\n",
        "\n",
        "def filter_by_vocab(text_series: pd.Series, vocab: List[str]) -> pd.Series:\n",
        "    vocab_set = set(vocab)\n",
        "    return text_series.apply(\n",
        "        lambda txt: \" \".join(tok for tok in txt.split() if tok in vocab_set)\n",
        "    )\n",
        "\n",
        "# Aplicar el filtrado a cada partición\n",
        "train_x = filter_by_vocab(x_train, vocab)\n",
        "val_x   = filter_by_vocab(x_val,   vocab)\n",
        "test_x  = filter_by_vocab(x_test,  vocab)\n",
        "\n",
        "\n",
        "# *********** Aquí termina la sección de agregar código *************\n"
      ]
    },
    {
      "cell_type": "code",
      "execution_count": 18,
      "metadata": {
        "colab": {
          "base_uri": "https://localhost:8080/"
        },
        "id": "iYF2RGuPtQTC",
        "outputId": "6f8ad60e-9ea1-44ad-d314-8ebf0b642c31"
      },
      "outputs": [
        {
          "name": "stdout",
          "output_type": "stream",
          "text": [
            "not much well people like waste\n",
            "suck\n",
            "pay bill tip feel server terrible job\n",
            "call can not cook steak not understand\n",
            "however keypad tinny sometimes wrong button\n"
          ]
        }
      ],
      "source": [
        "# Vemos el resultado de los primeros comentarios del conjunto de entrenamiento:\n",
        "\n",
        "for ss in train_x[0:5]:\n",
        "  print(ss)"
      ]
    },
    {
      "cell_type": "markdown",
      "metadata": {
        "id": "RS0Hxj25vTWh"
      },
      "source": [
        "# **Pregunta - 5:**"
      ]
    },
    {
      "cell_type": "markdown",
      "metadata": {
        "id": "CnHHAza5_P5Z"
      },
      "source": [
        "\n",
        "#### **Incluye aquí un resumen de las características y diferencias que tiene al menos los tres modelos de OpenAI indicados: \"text-embedding-3-small\", \"text-embedding-3-large\" y \"text-embedding-ada-002\".**"
      ]
    },
    {
      "cell_type": "markdown",
      "metadata": {
        "id": "uTI9xSgF_Xc8"
      },
      "source": [
        "### ++++++++ Inicia la sección de agregar texto: +++++++++++\n",
        "\n",
        "**text-embedding-3-small**\n",
        "- 1,536 dimensiones por defecto (configurable hasta 512)\n",
        "- Rendimiento: Mejor que ada-002 en tareas de embeddings\n",
        "- Más económico que el modelo large\n",
        "- Uso recomendados: búsqueda semántica rápida, clasificación de textos en tiempo real, y sistemas de recomendación ligeros.\n",
        "- Ideal para aplicaciones que requieren un buen balance entre rendimiento y costo,\n",
        "- Fecha de lanzamiento: enero de 2024\n",
        "\n",
        "**text-embedding-3-large**\n",
        "\n",
        "- 3,072 dimensiones por defecto (configurable)\n",
        "- Rendimiento: El más potente de los tres, con mejor precisión en tareas complejas\n",
        "- El más caro de los tres modelos\n",
        "- Uso recomendados: Análisis de sentimientos y emociones sutiles, clasificación de textos con múltiples etiquetas, y comparación semántica profunda entre documentos.\n",
        "- Recomendado para aplicaciones que requieren máxima precisión y pueden justificar el costo adicional\n",
        "- Fecha de lanzamiento: enero de 2024.\n",
        "\n",
        "**text-embedding-ada-002**\n",
        "\n",
        "- 1,536 dimensiones fijas\n",
        "- Rendimiento: Modelo de segunda generación, inferior a los modelos v3\n",
        "- Generalmente más caro que text-embedding-3-small pero más barato que large\n",
        "- Casos de uso: Modelo legacy, reemplazado por los modelos v3, aplicaciones generales de búsqueda o clustering y tareas menos sensibles donde no se necesita la mejor precisión posible.\n",
        "- Fecha de lanzamiento: diciembre de 2022.\n",
        "\n",
        "**Diferencias clave:**\n",
        "\n",
        "- Generación: Los modelos v3 (small y large) son más recientes y ofieren mejor rendimiento\n",
        "- Flexibilidad: Los modelos v3 permiten configurar las dimensiones de salida\n",
        "- Eficiencia: text-embedding-3-small ofrece la mejor relación rendimiento-precio\n",
        "- Precisión: text-embedding-3-large proporciona los mejores resultados en benchmarks\n",
        "\n",
        "### ++++++++ Termina la sección de agregar texto: +++++++++++\n"
      ]
    },
    {
      "cell_type": "markdown",
      "metadata": {
        "id": "ToqRl7fT_fn2"
      },
      "source": [
        "# **Pregunta - 6:**\n"
      ]
    },
    {
      "cell_type": "markdown",
      "metadata": {
        "id": "BKqQk03oqoOD"
      },
      "source": [
        "#### **Diccionario clave-valor de palabras del diccionario y vectores embebidos.**"
      ]
    },
    {
      "cell_type": "code",
      "execution_count": 20,
      "metadata": {
        "colab": {
          "base_uri": "https://localhost:8080/",
          "height": 1000
        },
        "collapsed": true,
        "id": "fP4hR4gqhbJo",
        "outputId": "2f286e23-80e5-43a4-9b4b-8f7513b321bd"
      },
      "outputs": [
        {
          "name": "stdout",
          "output_type": "stream",
          "text": [
            "Collecting numpy==1.25.0\n",
            "  Downloading numpy-1.25.0-cp311-cp311-manylinux_2_17_x86_64.manylinux2014_x86_64.whl.metadata (5.6 kB)\n",
            "Downloading numpy-1.25.0-cp311-cp311-manylinux_2_17_x86_64.manylinux2014_x86_64.whl (17.6 MB)\n",
            "\u001b[2K   \u001b[90m━━━━━━━━━━━━━━━━━━━━━━━━━━━━━━━━━━━━━━━━\u001b[0m \u001b[32m17.6/17.6 MB\u001b[0m \u001b[31m52.7 MB/s\u001b[0m eta \u001b[36m0:00:00\u001b[0m\n",
            "\u001b[?25hInstalling collected packages: numpy\n",
            "  Attempting uninstall: numpy\n",
            "    Found existing installation: numpy 1.23.5\n",
            "    Uninstalling numpy-1.23.5:\n",
            "      Successfully uninstalled numpy-1.23.5\n",
            "\u001b[31mERROR: pip's dependency resolver does not currently take into account all the packages that are installed. This behaviour is the source of the following dependency conflicts.\n",
            "tensorflow 2.18.0 requires numpy<2.1.0,>=1.26.0, but you have numpy 1.25.0 which is incompatible.\n",
            "blosc2 3.3.2 requires numpy>=1.26, but you have numpy 1.25.0 which is incompatible.\n",
            "treescope 0.1.9 requires numpy>=1.25.2, but you have numpy 1.25.0 which is incompatible.\n",
            "thinc 8.3.6 requires numpy<3.0.0,>=2.0.0, but you have numpy 1.25.0 which is incompatible.\n",
            "tsfresh 0.21.0 requires scipy>=1.14.0; python_version >= \"3.10\", but you have scipy 1.13.1 which is incompatible.\u001b[0m\u001b[31m\n",
            "\u001b[0mSuccessfully installed numpy-1.25.0\n"
          ]
        },
        {
          "data": {
            "application/vnd.colab-display-data+json": {
              "id": "bde26b3e721c499a952bd14c8779e30e",
              "pip_warning": {
                "packages": [
                  "numpy"
                ]
              }
            }
          },
          "metadata": {},
          "output_type": "display_data"
        },
        {
          "name": "stdout",
          "output_type": "stream",
          "text": [
            "Requirement already satisfied: sentence-transformers in /usr/local/lib/python3.11/dist-packages (4.1.0)\n",
            "Requirement already satisfied: transformers<5.0.0,>=4.41.0 in /usr/local/lib/python3.11/dist-packages (from sentence-transformers) (4.51.3)\n",
            "Requirement already satisfied: tqdm in /usr/local/lib/python3.11/dist-packages (from sentence-transformers) (4.67.1)\n",
            "Requirement already satisfied: torch>=1.11.0 in /usr/local/lib/python3.11/dist-packages (from sentence-transformers) (2.6.0+cu124)\n",
            "Requirement already satisfied: scikit-learn in /usr/local/lib/python3.11/dist-packages (from sentence-transformers) (1.6.1)\n",
            "Requirement already satisfied: scipy in /usr/local/lib/python3.11/dist-packages (from sentence-transformers) (1.13.1)\n",
            "Requirement already satisfied: huggingface-hub>=0.20.0 in /usr/local/lib/python3.11/dist-packages (from sentence-transformers) (0.31.2)\n",
            "Requirement already satisfied: Pillow in /usr/local/lib/python3.11/dist-packages (from sentence-transformers) (11.2.1)\n",
            "Requirement already satisfied: typing_extensions>=4.5.0 in /usr/local/lib/python3.11/dist-packages (from sentence-transformers) (4.13.2)\n",
            "Requirement already satisfied: filelock in /usr/local/lib/python3.11/dist-packages (from huggingface-hub>=0.20.0->sentence-transformers) (3.18.0)\n",
            "Requirement already satisfied: fsspec>=2023.5.0 in /usr/local/lib/python3.11/dist-packages (from huggingface-hub>=0.20.0->sentence-transformers) (2025.3.2)\n",
            "Requirement already satisfied: packaging>=20.9 in /usr/local/lib/python3.11/dist-packages (from huggingface-hub>=0.20.0->sentence-transformers) (24.2)\n",
            "Requirement already satisfied: pyyaml>=5.1 in /usr/local/lib/python3.11/dist-packages (from huggingface-hub>=0.20.0->sentence-transformers) (6.0.2)\n",
            "Requirement already satisfied: requests in /usr/local/lib/python3.11/dist-packages (from huggingface-hub>=0.20.0->sentence-transformers) (2.32.3)\n",
            "Requirement already satisfied: networkx in /usr/local/lib/python3.11/dist-packages (from torch>=1.11.0->sentence-transformers) (3.4.2)\n",
            "Requirement already satisfied: jinja2 in /usr/local/lib/python3.11/dist-packages (from torch>=1.11.0->sentence-transformers) (3.1.6)\n",
            "Requirement already satisfied: nvidia-cuda-nvrtc-cu12==12.4.127 in /usr/local/lib/python3.11/dist-packages (from torch>=1.11.0->sentence-transformers) (12.4.127)\n",
            "Requirement already satisfied: nvidia-cuda-runtime-cu12==12.4.127 in /usr/local/lib/python3.11/dist-packages (from torch>=1.11.0->sentence-transformers) (12.4.127)\n",
            "Requirement already satisfied: nvidia-cuda-cupti-cu12==12.4.127 in /usr/local/lib/python3.11/dist-packages (from torch>=1.11.0->sentence-transformers) (12.4.127)\n",
            "Requirement already satisfied: nvidia-cudnn-cu12==9.1.0.70 in /usr/local/lib/python3.11/dist-packages (from torch>=1.11.0->sentence-transformers) (9.1.0.70)\n",
            "Requirement already satisfied: nvidia-cublas-cu12==12.4.5.8 in /usr/local/lib/python3.11/dist-packages (from torch>=1.11.0->sentence-transformers) (12.4.5.8)\n",
            "Requirement already satisfied: nvidia-cufft-cu12==11.2.1.3 in /usr/local/lib/python3.11/dist-packages (from torch>=1.11.0->sentence-transformers) (11.2.1.3)\n",
            "Requirement already satisfied: nvidia-curand-cu12==10.3.5.147 in /usr/local/lib/python3.11/dist-packages (from torch>=1.11.0->sentence-transformers) (10.3.5.147)\n",
            "Requirement already satisfied: nvidia-cusolver-cu12==11.6.1.9 in /usr/local/lib/python3.11/dist-packages (from torch>=1.11.0->sentence-transformers) (11.6.1.9)\n",
            "Requirement already satisfied: nvidia-cusparse-cu12==12.3.1.170 in /usr/local/lib/python3.11/dist-packages (from torch>=1.11.0->sentence-transformers) (12.3.1.170)\n",
            "Requirement already satisfied: nvidia-cusparselt-cu12==0.6.2 in /usr/local/lib/python3.11/dist-packages (from torch>=1.11.0->sentence-transformers) (0.6.2)\n",
            "Requirement already satisfied: nvidia-nccl-cu12==2.21.5 in /usr/local/lib/python3.11/dist-packages (from torch>=1.11.0->sentence-transformers) (2.21.5)\n",
            "Requirement already satisfied: nvidia-nvtx-cu12==12.4.127 in /usr/local/lib/python3.11/dist-packages (from torch>=1.11.0->sentence-transformers) (12.4.127)\n",
            "Requirement already satisfied: nvidia-nvjitlink-cu12==12.4.127 in /usr/local/lib/python3.11/dist-packages (from torch>=1.11.0->sentence-transformers) (12.4.127)\n",
            "Requirement already satisfied: triton==3.2.0 in /usr/local/lib/python3.11/dist-packages (from torch>=1.11.0->sentence-transformers) (3.2.0)\n",
            "Requirement already satisfied: sympy==1.13.1 in /usr/local/lib/python3.11/dist-packages (from torch>=1.11.0->sentence-transformers) (1.13.1)\n",
            "Requirement already satisfied: mpmath<1.4,>=1.1.0 in /usr/local/lib/python3.11/dist-packages (from sympy==1.13.1->torch>=1.11.0->sentence-transformers) (1.3.0)\n",
            "Requirement already satisfied: numpy>=1.17 in /usr/local/lib/python3.11/dist-packages (from transformers<5.0.0,>=4.41.0->sentence-transformers) (1.25.0)\n",
            "Requirement already satisfied: regex!=2019.12.17 in /usr/local/lib/python3.11/dist-packages (from transformers<5.0.0,>=4.41.0->sentence-transformers) (2024.11.6)\n",
            "Requirement already satisfied: tokenizers<0.22,>=0.21 in /usr/local/lib/python3.11/dist-packages (from transformers<5.0.0,>=4.41.0->sentence-transformers) (0.21.1)\n",
            "Requirement already satisfied: safetensors>=0.4.3 in /usr/local/lib/python3.11/dist-packages (from transformers<5.0.0,>=4.41.0->sentence-transformers) (0.5.3)\n",
            "Requirement already satisfied: joblib>=1.2.0 in /usr/local/lib/python3.11/dist-packages (from scikit-learn->sentence-transformers) (1.5.0)\n",
            "Requirement already satisfied: threadpoolctl>=3.1.0 in /usr/local/lib/python3.11/dist-packages (from scikit-learn->sentence-transformers) (3.6.0)\n",
            "Requirement already satisfied: MarkupSafe>=2.0 in /usr/local/lib/python3.11/dist-packages (from jinja2->torch>=1.11.0->sentence-transformers) (3.0.2)\n",
            "Requirement already satisfied: charset-normalizer<4,>=2 in /usr/local/lib/python3.11/dist-packages (from requests->huggingface-hub>=0.20.0->sentence-transformers) (3.4.2)\n",
            "Requirement already satisfied: idna<4,>=2.5 in /usr/local/lib/python3.11/dist-packages (from requests->huggingface-hub>=0.20.0->sentence-transformers) (3.10)\n",
            "Requirement already satisfied: urllib3<3,>=1.21.1 in /usr/local/lib/python3.11/dist-packages (from requests->huggingface-hub>=0.20.0->sentence-transformers) (2.4.0)\n",
            "Requirement already satisfied: certifi>=2017.4.17 in /usr/local/lib/python3.11/dist-packages (from requests->huggingface-hub>=0.20.0->sentence-transformers) (2025.4.26)\n",
            "Traceback (most recent call last):\n",
            "  File \"/usr/local/lib/python3.11/dist-packages/pip/_internal/cli/base_command.py\", line 179, in exc_logging_wrapper\n",
            "    status = run_func(*args)\n",
            "             ^^^^^^^^^^^^^^^\n",
            "  File \"/usr/local/lib/python3.11/dist-packages/pip/_internal/cli/req_command.py\", line 67, in wrapper\n",
            "^C\n"
          ]
        }
      ],
      "source": [
        "!pip install --upgrade numpy==1.25.0\n",
        "!pip install --upgrade sentence-transformers"
      ]
    },
    {
      "cell_type": "code",
      "execution_count": 19,
      "metadata": {
        "colab": {
          "base_uri": "https://localhost:8080/",
          "height": 66,
          "referenced_widgets": [
            "9730fe5ddc88448f8f2d2faf3088f09a",
            "0c4eda83c987492888a52457cc4e01b6",
            "e14910ca7d304f11949d283845469ef6",
            "f7a2b40a8815471ab024e9e51407ef0f",
            "8d5235b2e05e44dab90eac7f0c658884",
            "b04fe5010eeb482ab590ad502b3ca09a",
            "e0ede8035a814eb8a60274b469a6308e",
            "168a8edfb13e4520b0c1bb48ea528eeb",
            "4ddd02b0e95741f8a8abfa4713f733c3",
            "c09f1395705b4dcdbb0f13cdcccc992d",
            "24ed08e2e45b4a4794124c97ae478582"
          ]
        },
        "id": "UdK-jMfLxHLY",
        "outputId": "4d21de20-7edd-4923-bb22-5214e0f79d3e"
      },
      "outputs": [
        {
          "data": {
            "application/vnd.jupyter.widget-view+json": {
              "model_id": "9730fe5ddc88448f8f2d2faf3088f09a",
              "version_major": 2,
              "version_minor": 0
            },
            "text/plain": [
              "Batches:   0%|          | 0/28 [00:00<?, ?it/s]"
            ]
          },
          "metadata": {},
          "output_type": "display_data"
        },
        {
          "name": "stdout",
          "output_type": "stream",
          "text": [
            "Generated 884 embeddings, each of dim 384.\n"
          ]
        }
      ],
      "source": [
        "# ******* Inlcuye a continuación todas las líneas de código y celdas que requieras: ***********\n",
        "\n",
        "from sentence_transformers import SentenceTransformer\n",
        "import pickle\n",
        "\n",
        "# Cargando el modelo\n",
        "model = SentenceTransformer('paraphrase-MiniLM-L6-v2')\n",
        "\n",
        "# Generando embeddings para cada palabra del vocabulario\n",
        "embeddings = model.encode(\n",
        "    vocab,\n",
        "    batch_size=32,\n",
        "    show_progress_bar=True\n",
        ")\n",
        "\n",
        "# Diccionario palabra → vector embebido\n",
        "emb_dict_local = { token: emb for token, emb in zip(vocab, embeddings) }\n",
        "\n",
        "# Guardando el diccionario en un archivo pickle para reutilizarlo después\n",
        "with open(\"vocab_embeddings_local.pkl\", \"wb\") as f:\n",
        "    pickle.dump(emb_dict_local, f)\n",
        "\n",
        "print(f\"Generated {len(emb_dict_local)} embeddings, each of dim {len(embeddings[0])}.\")\n",
        "\n",
        "\n",
        "# *********** Aquí termina la sección de agregar código *************"
      ]
    },
    {
      "cell_type": "markdown",
      "metadata": {
        "id": "W4S7q0yR0Mpi"
      },
      "source": [
        "# **Pregunta - 7:**"
      ]
    },
    {
      "cell_type": "markdown",
      "metadata": {
        "id": "VyeOrkoaC1eq"
      },
      "source": [
        "\n",
        "\n",
        "Generamos los vectores embebidos a partir de los conjuntos de entrenamiento, validación y prueba.\n",
        "\n",
        "Los llamaremos trainEmb, valEmb y testEmb, respectivamente."
      ]
    },
    {
      "cell_type": "code",
      "execution_count": 20,
      "metadata": {
        "id": "wnfQpkxg0Usq"
      },
      "outputs": [],
      "source": [
        "# ******* Inlcuye a continuación todas las líneas de código y celdas que requieras: ***********\n",
        "\n",
        "# Detectar dimensión del embedding\n",
        "embedding_dim = len(next(iter(emb_dict_local.values())))\n",
        "\n",
        "# Función para convertir un comentario en su embedding por promedio. Si no hay tokens válidos, devuelve un vector de ceros de dimensión dim.\n",
        "def comment_to_avg_embedding(text: str,\n",
        "                             emb_dict: dict,\n",
        "                             dim: int) -> np.ndarray:\n",
        "    tokens = text.split()\n",
        "    vecs = [emb_dict[tok] for tok in tokens if tok in emb_dict]\n",
        "    if len(vecs) > 0:\n",
        "        return np.mean(vecs, axis=0)\n",
        "    else:\n",
        "        return np.zeros(dim, dtype=float)\n",
        "\n",
        "# Generar trainEmb, valEmb y testEmb\n",
        "trainEmb = np.vstack([\n",
        "    comment_to_avg_embedding(txt, emb_dict_local, embedding_dim)\n",
        "    for txt in train_x\n",
        "])\n",
        "\n",
        "valEmb = np.vstack([\n",
        "    comment_to_avg_embedding(txt, emb_dict_local, embedding_dim)\n",
        "    for txt in val_x\n",
        "])\n",
        "\n",
        "testEmb = np.vstack([\n",
        "    comment_to_avg_embedding(txt, emb_dict_local, embedding_dim)\n",
        "    for txt in test_x\n",
        "])\n",
        "\n",
        "\n",
        "# *********** Aquí termina la sección de agregar código *************"
      ]
    },
    {
      "cell_type": "code",
      "execution_count": 21,
      "metadata": {
        "colab": {
          "base_uri": "https://localhost:8080/"
        },
        "id": "J3BBF96D0N8Z",
        "outputId": "4f4d7d9b-734b-458d-a6f0-0d60c3ed72ff"
      },
      "outputs": [
        {
          "name": "stdout",
          "output_type": "stream",
          "text": [
            "Train-Emb: (2100, 384)\n",
            "Val-Emb: (450, 384)\n",
            "Test-Emb: (450, 384)\n"
          ]
        }
      ],
      "source": [
        "# Veamos las dimensiones de cada conjunto embebido:\n",
        "\n",
        "print(\"Train-Emb:\", trainEmb.shape)\n",
        "print(\"Val-Emb:\", valEmb.shape)\n",
        "print(\"Test-Emb:\", testEmb.shape)"
      ]
    },
    {
      "cell_type": "code",
      "execution_count": 2,
      "metadata": {},
      "outputs": [
        {
          "ename": "NameError",
          "evalue": "name 'y_train' is not defined",
          "output_type": "error",
          "traceback": [
            "\u001b[0;31m---------------------------------------------------------------------------\u001b[0m",
            "\u001b[0;31mNameError\u001b[0m                                 Traceback (most recent call last)",
            "Cell \u001b[0;32mIn[2], line 1\u001b[0m\n\u001b[0;32m----> 1\u001b[0m y_train\n",
            "\u001b[0;31mNameError\u001b[0m: name 'y_train' is not defined"
          ]
        }
      ],
      "source": [
        "y_train"
      ]
    },
    {
      "cell_type": "markdown",
      "metadata": {
        "id": "pibp1LA91CP_"
      },
      "source": [
        "# **Pregunta - 8:**\n"
      ]
    },
    {
      "cell_type": "markdown",
      "metadata": {
        "id": "UxC9K0VnGOwG"
      },
      "source": [
        "\n",
        "Utiliza los modelos de regresión logística y bosque aleatorio (random forest) y encuentra sus desempeños.\n",
        "\n",
        "Compara los resultados con los de la semana anterior."
      ]
    },
    {
      "cell_type": "code",
      "execution_count": 25,
      "metadata": {
        "colab": {
          "base_uri": "https://localhost:8080/"
        },
        "id": "ycwjD8ztGOL7",
        "outputId": "fa63f779-6303-40ce-e081-70fa979aecaf"
      },
      "outputs": [
        {
          "name": "stdout",
          "output_type": "stream",
          "text": [
            "=== Regresión Logística ===\n",
            "Accuracy: 0.784\n",
            "AUC:      0.847\n",
            "              precision    recall  f1-score   support\n",
            "\n",
            "           0       0.80      0.74      0.77       216\n",
            "           1       0.78      0.82      0.80       234\n",
            "\n",
            "    accuracy                           0.78       450\n",
            "   macro avg       0.79      0.78      0.78       450\n",
            "weighted avg       0.79      0.78      0.78       450\n",
            "\n"
          ]
        }
      ],
      "source": [
        "# REGRESIÓN LOGÍSTICA:\n",
        "\n",
        "# ******* Inlcuye a continuación todas las líneas de código y celdas que requieras: ***********\n",
        "\n",
        "from sklearn.linear_model import LogisticRegression\n",
        "from sklearn.ensemble import RandomForestClassifier\n",
        "from sklearn.metrics import accuracy_score, roc_auc_score, classification_report\n",
        "\n",
        "# Regresión Logística\n",
        "lr = LogisticRegression(max_iter=1000, random_state=42)\n",
        "lr.fit(trainEmb, y_train)\n",
        "\n",
        "# Predicciones\n",
        "y_val_pred_lr    = lr.predict(valEmb)\n",
        "y_val_proba_lr   = lr.predict_proba(valEmb)[:,1]\n",
        "\n",
        "# Métricas\n",
        "acc_lr = accuracy_score(y_val, y_val_pred_lr)\n",
        "auc_lr = roc_auc_score(y_val, y_val_proba_lr)\n",
        "\n",
        "print(\"=== Regresión Logística ===\")\n",
        "print(f\"Accuracy: {acc_lr:.3f}\")\n",
        "print(f\"AUC:      {auc_lr:.3f}\")\n",
        "print(classification_report(y_val, y_val_pred_lr))\n",
        "\n",
        "# *********** Aquí termina la sección de agregar código *************\n"
      ]
    },
    {
      "cell_type": "code",
      "execution_count": 26,
      "metadata": {
        "colab": {
          "base_uri": "https://localhost:8080/"
        },
        "id": "N4n70GHW0sl3",
        "outputId": "09572214-d379-4fa9-e605-b0475d2d5e20"
      },
      "outputs": [
        {
          "name": "stdout",
          "output_type": "stream",
          "text": [
            "=== Random Forest ===\n",
            "Accuracy: 0.787\n",
            "AUC:      0.866\n",
            "              precision    recall  f1-score   support\n",
            "\n",
            "           0       0.79      0.76      0.77       216\n",
            "           1       0.79      0.81      0.80       234\n",
            "\n",
            "    accuracy                           0.79       450\n",
            "   macro avg       0.79      0.79      0.79       450\n",
            "weighted avg       0.79      0.79      0.79       450\n",
            "\n"
          ]
        }
      ],
      "source": [
        "# BOSQUE ALEATORIO (Random Forest):\n",
        "\n",
        "# ******* Inlcuye a continuación todas las líneas de código y celdas que requieras: ***********\n",
        "\n",
        "# Random Forest\n",
        "rf = RandomForestClassifier(n_estimators=100, random_state=42)\n",
        "rf.fit(trainEmb, y_train)\n",
        "\n",
        "# Predicciones\n",
        "y_val_pred_rf  = rf.predict(valEmb)\n",
        "y_val_proba_rf = rf.predict_proba(valEmb)[:,1]\n",
        "\n",
        "# Métricas\n",
        "acc_rf = accuracy_score(y_val, y_val_pred_rf)\n",
        "auc_rf = roc_auc_score(y_val, y_val_proba_rf)\n",
        "\n",
        "print(\"=== Random Forest ===\")\n",
        "print(f\"Accuracy: {acc_rf:.3f}\")\n",
        "print(f\"AUC:      {auc_rf:.3f}\")\n",
        "print(classification_report(y_val, y_val_pred_rf))\n",
        "\n",
        "# *********** Aquí termina la sección de agregar código *************"
      ]
    },
    {
      "cell_type": "markdown",
      "metadata": {
        "id": "WDIiSHvg0_hm"
      },
      "source": [
        "# **Pregunta - 9:**"
      ]
    },
    {
      "cell_type": "markdown",
      "metadata": {
        "id": "dJJtALGZHrGk"
      },
      "source": [
        "\n",
        "\n",
        "Reporte del mejor modelo con el conjunto de Prueba (Test).\n"
      ]
    },
    {
      "cell_type": "code",
      "execution_count": 27,
      "metadata": {
        "colab": {
          "base_uri": "https://localhost:8080/",
          "height": 636
        },
        "id": "ETv4VLjP1GYt",
        "outputId": "71b18806-e92b-4209-ef0e-41ea7da29a8c"
      },
      "outputs": [
        {
          "name": "stdout",
          "output_type": "stream",
          "text": [
            "Matriz de confusión (test):\n",
            " [[163  53]\n",
            " [ 52 182]]\n"
          ]
        },
        {
          "data": {
            "image/png": "[encoded data removed]",
            "text/plain": [
              "<Figure size 500x400 with 2 Axes>"
            ]
          },
          "metadata": {},
          "output_type": "display_data"
        },
        {
          "name": "stdout",
          "output_type": "stream",
          "text": [
            "Classification Report (test):\n",
            "              precision    recall  f1-score   support\n",
            "\n",
            "           0       0.76      0.75      0.76       216\n",
            "           1       0.77      0.78      0.78       234\n",
            "\n",
            "    accuracy                           0.77       450\n",
            "   macro avg       0.77      0.77      0.77       450\n",
            "weighted avg       0.77      0.77      0.77       450\n",
            "\n"
          ]
        }
      ],
      "source": [
        "# ******* Inlcuye a continuación todas las líneas de código y celdas que requieras: ***********\n",
        "\n",
        "from sklearn.metrics import confusion_matrix\n",
        "import matplotlib.pyplot as plt\n",
        "import seaborn as sns\n",
        "\n",
        "# Elegiendo el mejor modelo (Random Forest) y prediciendo en test\n",
        "y_test_pred = rf.predict(testEmb)\n",
        "\n",
        "# Matriz de confusión\n",
        "cm = confusion_matrix(y_test, y_test_pred)\n",
        "print(\"Matriz de confusión (test):\\n\", cm)\n",
        "\n",
        "# Visualización\n",
        "plt.figure(figsize=(5,4))\n",
        "sns.heatmap(cm, annot=True, fmt='d', cmap='Blues')\n",
        "plt.xlabel('Predicción')\n",
        "plt.ylabel('Etiqueta verdadera')\n",
        "plt.title('Matriz de Confusión - Random Forest (Test)')\n",
        "plt.show()\n",
        "\n",
        "# Classification report\n",
        "print(\"Classification Report (test):\")\n",
        "print(classification_report(y_test, y_test_pred))\n",
        "\n",
        "\n",
        "# *********** Aquí termina la sección de agregar código *************"
      ]
    },
    {
      "cell_type": "markdown",
      "metadata": {
        "id": "vnY9BGA3u39N"
      },
      "source": [
        "Interpretación\n",
        "- Equilibrio de clases: el desempeño entre negativos (0) y positivos (1) es muy parecido, sin sesgo claro hacia ninguna de las dos.\n",
        "\n",
        "- Errores: hay 105 ejemplos mal clasificados en total (53 FP + 52 FN), lo que explica un 23 % de error (1 - accuracy).\n",
        "\n",
        "- Generalización: la accuracy y los F1-scores en test (~ 0.77 - 0.78) son muy similares a los de validación (~ 0.79 - 0.80), lo que sugiere que no hay sobreajuste significativo.\n",
        "\n",
        "- Conclusión: el modelo (Random Forest) mantiene un buen balance entre precision y recall, con un AUC alto y métricas consistentes entre validación y prueba. Es confiable para distinguir comentarios positivos de negativos en este conjunto."
      ]
    },
    {
      "cell_type": "markdown",
      "metadata": {
        "id": "NbhBUBKJp1MB"
      },
      "source": [
        "# **Pregunta - 10:**"
      ]
    },
    {
      "cell_type": "code",
      "execution_count": 35,
      "metadata": {
        "colab": {
          "base_uri": "https://localhost:8080/",
          "height": 101,
          "referenced_widgets": [
            "167bf20e47604cc99531d0c87dc50849",
            "3ffbb7a6639c462da847b1edffccbc29",
            "e3b2d99e15fc4ea9a376ebcb95598f8a",
            "a0b053055c994308a3514af485239e22",
            "d4647372267f4ad28089d36880aa4a30",
            "0ae75aff6c2d43ae8437f65b3d837148",
            "9fcaa448192e4760bc76bed8f41d029e",
            "6f1614089a4e4391b605bc0dd89b5968",
            "946969d14b1a4f0f95c1ab75df85e746",
            "8e4f2ddcc0d941f4a460d7e3a7dfec50",
            "9990e71bb6194775ae1cd002d42eb4e1"
          ]
        },
        "id": "3zPSi-H7p6ga",
        "outputId": "83196d16-3ab7-4615-8000-74577a28d56c"
      },
      "outputs": [
        {
          "data": {
            "application/vnd.jupyter.widget-view+json": {
              "model_id": "167bf20e47604cc99531d0c87dc50849",
              "version_major": 2,
              "version_minor": 0
            },
            "text/plain": [
              "Batches:   0%|          | 0/94 [00:00<?, ?it/s]"
            ]
          },
          "metadata": {},
          "output_type": "display_data"
        },
        {
          "name": "stdout",
          "output_type": "stream",
          "text": [
            "Embeddings generados para 3000 comentarios.\n",
            "Modelo de embeddings local: paraphrase-MiniLM-L6-v2\n",
            "Dimensión de cada embedding: 384\n"
          ]
        }
      ],
      "source": [
        "# Incluye todas las líneas de código y celdas que consideres adecuadas para este ejercicio.\n",
        "\n",
        "\n",
        "# a. Realiza la transformación a vectores embebidos de todos los 3000 comentarios tal como están dados en los archivos.\n",
        "\n",
        "# Definiendo Xnotclean y generar embeddings:\n",
        "Xnotclean = df['text'].copy()\n",
        "\n",
        "embeddings_notclean = model.encode(\n",
        "    Xnotclean.tolist(),\n",
        "    batch_size=32,\n",
        "    show_progress_bar=True\n",
        ")\n",
        "\n",
        "emb_dict_notclean = {\n",
        "    comentario: vector\n",
        "    for comentario, vector in zip(Xnotclean, embeddings_notclean)\n",
        "}\n",
        "\n",
        "with open(\"emb_dict_notclean.pkl\", \"wb\") as f:\n",
        "    pickle.dump(emb_dict_notclean, f)\n",
        "\n",
        "print(f\"Embeddings generados para {len(Xnotclean)} comentarios.\")\n",
        "print(\"Modelo de embeddings local: paraphrase-MiniLM-L6-v2\")\n",
        "print(f\"Dimensión de cada embedding: {embeddings_notclean.shape[1]}\")\n"
      ]
    },
    {
      "cell_type": "code",
      "execution_count": 36,
      "metadata": {
        "colab": {
          "base_uri": "https://localhost:8080/"
        },
        "id": "F0R1dDKFvfhM",
        "outputId": "447f443c-3a02-467d-ca63-1526a3038501"
      },
      "outputs": [
        {
          "name": "stdout",
          "output_type": "stream",
          "text": [
            "X,y Train: 2100 2100\n",
            "X,y Val: 450 450\n",
            "X,y Test 450 450\n"
          ]
        }
      ],
      "source": [
        "# b. Realiza una partición en Train-Val-Test del 70%, 15% y 15%, respectivamente.\n",
        "X_embeddings = embeddings_notclean\n",
        "\n",
        "x_train2, x_val_and_test2, y_train2, y_val_and_test2 = train_test_split(X_embeddings, Y, train_size=.70, shuffle=True, random_state=1)\n",
        "x_val2, x_test2, y_val2, y_test2 = train_test_split(x_val_and_test2, y_val_and_test2, test_size=.50, shuffle=True, random_state=17)\n",
        "\n",
        "# verificemos las dimensiones obtenidas:\n",
        "print('X,y Train:', len(x_train2), len(y_train2))\n",
        "print('X,y Val:', len(x_val2), len(y_val2))\n",
        "print('X,y Test', len(x_test2), len(y_test2))"
      ]
    },
    {
      "cell_type": "code",
      "execution_count": 38,
      "metadata": {
        "colab": {
          "base_uri": "https://localhost:8080/"
        },
        "id": "F92gNQwXvl-H",
        "outputId": "a7ad4e84-e3ca-4dbe-8b47-5c7625f3f60c"
      },
      "outputs": [
        {
          "name": "stdout",
          "output_type": "stream",
          "text": [
            "=== Regresión Logística ===\n",
            "Accuracy: 0.922\n",
            "AUC:      0.966\n",
            "              precision    recall  f1-score   support\n",
            "\n",
            "           0       0.91      0.93      0.92       216\n",
            "           1       0.93      0.92      0.92       234\n",
            "\n",
            "    accuracy                           0.92       450\n",
            "   macro avg       0.92      0.92      0.92       450\n",
            "weighted avg       0.92      0.92      0.92       450\n",
            "\n"
          ]
        }
      ],
      "source": [
        "# c. Utiliza los modelos de regresión logística y bosque aleatorio (random forest) para este problema de clasificación.\n",
        "\n",
        "# Regresión Logística\n",
        "lr = LogisticRegression(max_iter=1000, random_state=42)\n",
        "lr.fit(x_train2, y_train2)\n",
        "\n",
        "# Predicciones\n",
        "y_val_pred_lr2    = lr.predict(x_val2)\n",
        "y_val_proba_lr2   = lr.predict_proba(x_val2)[:,1]\n",
        "\n",
        "# Métricas\n",
        "acc_lr2 = accuracy_score(y_val2, y_val_pred_lr2)\n",
        "auc_lr2 = roc_auc_score(y_val2, y_val_proba_lr2)\n",
        "\n",
        "print(\"=== Regresión Logística ===\")\n",
        "print(f\"Accuracy: {acc_lr2:.3f}\")\n",
        "print(f\"AUC:      {auc_lr2:.3f}\")\n",
        "print(classification_report(y_val2, y_val_pred_lr2))"
      ]
    },
    {
      "cell_type": "code",
      "execution_count": 39,
      "metadata": {
        "colab": {
          "base_uri": "https://localhost:8080/"
        },
        "id": "Txv2QynU0IVu",
        "outputId": "2e79eded-e099-4205-b7a1-185e2dad23e8"
      },
      "outputs": [
        {
          "name": "stdout",
          "output_type": "stream",
          "text": [
            "=== Random Forest ===\n",
            "Accuracy: 0.909\n",
            "AUC:      0.964\n",
            "              precision    recall  f1-score   support\n",
            "\n",
            "           0       0.89      0.93      0.91       216\n",
            "           1       0.93      0.89      0.91       234\n",
            "\n",
            "    accuracy                           0.91       450\n",
            "   macro avg       0.91      0.91      0.91       450\n",
            "weighted avg       0.91      0.91      0.91       450\n",
            "\n"
          ]
        }
      ],
      "source": [
        "# --- Random Forest ---\n",
        "rf = RandomForestClassifier(n_estimators=100, random_state=42)\n",
        "rf.fit(x_train2, y_train2)\n",
        "\n",
        "# Predicciones sobre el set de validación\n",
        "y_val_pred_rf2 = rf.predict(x_val2)\n",
        "y_val_proba_rf2 = rf.predict_proba(x_val2)[:, 1]\n",
        "\n",
        "# Métricas\n",
        "acc_rf2 = accuracy_score(y_val2, y_val_pred_rf2)\n",
        "auc_rf2 = roc_auc_score(y_val2, y_val_proba_rf2)\n",
        "\n",
        "print(\"=== Random Forest ===\")\n",
        "print(f\"Accuracy: {acc_rf2:.3f}\")\n",
        "print(f\"AUC:      {auc_rf2:.3f}\")\n",
        "print(classification_report(y_val2, y_val_pred_rf2))"
      ]
    },
    {
      "cell_type": "code",
      "execution_count": 40,
      "metadata": {
        "colab": {
          "base_uri": "https://localhost:8080/"
        },
        "id": "oZCyBfGU1ADo",
        "outputId": "34ac0a21-5382-4eb7-a5c1-0ccda8b98743"
      },
      "outputs": [
        {
          "name": "stdout",
          "output_type": "stream",
          "text": [
            "=== SVM (Linear Kernel) ===\n",
            "Accuracy: 0.913\n",
            "AUC:      0.959\n",
            "              precision    recall  f1-score   support\n",
            "\n",
            "           0       0.90      0.92      0.91       216\n",
            "           1       0.92      0.91      0.92       234\n",
            "\n",
            "    accuracy                           0.91       450\n",
            "   macro avg       0.91      0.91      0.91       450\n",
            "weighted avg       0.91      0.91      0.91       450\n",
            "\n"
          ]
        }
      ],
      "source": [
        "from sklearn.svm import SVC\n",
        "from sklearn.ensemble import GradientBoostingClassifier\n",
        "\n",
        "\n",
        "# SVM con kernel lineal\n",
        "svm = SVC(kernel='linear', probability=True, random_state=42)\n",
        "svm.fit(x_train2, y_train2)\n",
        "y_val_pred_svm  = svm.predict(x_val2)\n",
        "y_val_proba_svm = svm.predict_proba(x_val2)[:,1]\n",
        "\n",
        "print(\"=== SVM (Linear Kernel) ===\")\n",
        "print(f\"Accuracy: {accuracy_score(y_val2, y_val_pred_svm):.3f}\")\n",
        "print(f\"AUC:      {roc_auc_score(y_val2, y_val_proba_svm):.3f}\")\n",
        "print(classification_report(y_val2, y_val_pred_svm))"
      ]
    },
    {
      "cell_type": "code",
      "execution_count": 41,
      "metadata": {
        "colab": {
          "base_uri": "https://localhost:8080/"
        },
        "id": "fgNaNb8j1Xyr",
        "outputId": "3f545377-0704-4de1-b0d0-55d5b483e041"
      },
      "outputs": [
        {
          "name": "stdout",
          "output_type": "stream",
          "text": [
            "=== Gradient Boosting ===\n",
            "Accuracy: 0.913\n",
            "AUC:      0.965\n",
            "              precision    recall  f1-score   support\n",
            "\n",
            "           0       0.91      0.91      0.91       216\n",
            "           1       0.92      0.91      0.92       234\n",
            "\n",
            "    accuracy                           0.91       450\n",
            "   macro avg       0.91      0.91      0.91       450\n",
            "weighted avg       0.91      0.91      0.91       450\n",
            "\n"
          ]
        }
      ],
      "source": [
        "# --- Gradient Boosting ---\n",
        "gb = GradientBoostingClassifier(n_estimators=100, learning_rate=0.1, random_state=42)\n",
        "gb.fit(x_train2, y_train2)\n",
        "y_val_pred_gb  = gb.predict(x_val2)\n",
        "y_val_proba_gb = gb.predict_proba(x_val2)[:,1]\n",
        "\n",
        "print(\"=== Gradient Boosting ===\")\n",
        "print(f\"Accuracy: {accuracy_score(y_val2, y_val_pred_gb):.3f}\")\n",
        "print(f\"AUC:      {roc_auc_score(y_val2, y_val_proba_gb):.3f}\")\n",
        "print(classification_report(y_val2, y_val_pred_gb))"
      ]
    },
    {
      "cell_type": "code",
      "execution_count": 42,
      "metadata": {
        "colab": {
          "base_uri": "https://localhost:8080/",
          "height": 637
        },
        "id": "kWHylDIu2q-X",
        "outputId": "d2943f91-d577-4104-8135-208245ad1323"
      },
      "outputs": [
        {
          "name": "stdout",
          "output_type": "stream",
          "text": [
            "Matriz de confusión (test):\n",
            " [[199  17]\n",
            " [ 29 205]]\n"
          ]
        },
        {
          "data": {
            "image/png": "[encoded data removed]",
            "text/plain": [
              "<Figure size 500x400 with 2 Axes>"
            ]
          },
          "metadata": {},
          "output_type": "display_data"
        },
        {
          "name": "stdout",
          "output_type": "stream",
          "text": [
            "Classification Report (test):\n",
            "              precision    recall  f1-score   support\n",
            "\n",
            "           0       0.87      0.92      0.90       216\n",
            "           1       0.92      0.88      0.90       234\n",
            "\n",
            "    accuracy                           0.90       450\n",
            "   macro avg       0.90      0.90      0.90       450\n",
            "weighted avg       0.90      0.90      0.90       450\n",
            "\n"
          ]
        }
      ],
      "source": [
        "# Elegiendo el mejor modelo (Regresión Logística) y prediciendo en test\n",
        "y_test_pred2 = lr.predict(x_test2)\n",
        "\n",
        "# Matriz de confusión\n",
        "cm = confusion_matrix(y_test2, y_test_pred2)\n",
        "print(\"Matriz de confusión (test):\\n\", cm)\n",
        "\n",
        "# Visualización\n",
        "plt.figure(figsize=(5,4))\n",
        "sns.heatmap(cm, annot=True, fmt='d', cmap='Blues')\n",
        "plt.xlabel('Predicción')\n",
        "plt.ylabel('Etiqueta verdadera')\n",
        "plt.title('Matriz de Confusión - Regresión Logística (Test)')\n",
        "plt.show()\n",
        "\n",
        "# Classification report\n",
        "print(\"Classification Report (test):\")\n",
        "print(classification_report(y_test2, y_test_pred2))"
      ]
    },
    {
      "cell_type": "markdown",
      "metadata": {
        "id": "YCkh2WfN1MC1"
      },
      "source": [
        "# **Pregunta - 11:**"
      ]
    },
    {
      "cell_type": "markdown",
      "metadata": {
        "id": "4ySFuDQtVuK5"
      },
      "source": [
        "\n",
        "\n",
        "Incluye tus comentarios finales de la actividad.\n",
        "\n",
        "### ++++++++ Inicia la sección de agregar texto: +++++++++++\n",
        "\n",
        "Tras todo el proceso, desde la limpieza y generación de vocabulario, pasando por la creación de embeddings de los 3 000 comentarios, la partición 70/15/15 y el entrenamiento de múltiples modelos, los hallazgos clave son:\n",
        "\n",
        "1. Mejora sustancial con embeddings completos\n",
        "\n",
        "*  Al usar embeddings generados sobre el corpus completo, la regresión logística pasó de un 78 % de accuracy y 0.847 de AUC (validación) a un 92 % y 0.966, respectivamente.\n",
        "*   Modelos más complejos (Random Forest, SVM, Gradient Boosting) también subieron de ~79 % a ~91 - 92 % de accuracy y AUC ≳ 0.96.\n",
        "*   Esto confirma que entrenar embeddings en todo el conjunto (no sólo vocabulario filtrado) captura mejor las sutilezas semánticas del texto.\n",
        "\n",
        "2. Selección de regresión logística para producción\n",
        "\n",
        "*   Aunque Gradient Boosting y SVM presentaron rendimientos muy similares, se optó por regresión logística por su rapidez, interpretabilidad y facilidad de calibración en entorno de producción.\n",
        "*   En el test final, obtuvo 0.90 de accuracy y 0.90 de AUC, con un balance excelente entre precisión y recall en ambas clases:\n",
        "Clase “0”: precisión 0.87, recall 0.92 y Clase “1”: precisión 0.92, recall 0.88\n",
        "\n",
        "3. Análisis de errores\n",
        "\n",
        "*   Matriz de confusión en test se observaron más falsos positivos (29) que falsos negativos (17), lo que sugiere un ligero sesgo hacia la clase positiva.\n",
        "\n",
        "4. Algunas recomendaciones o próximos pasos\n",
        "\n",
        "*   Enriquecer embeddings\n",
        "*   Ajustar el umbral de decisión para optimizar la métrica que más importe (por ejemplo, minimizar falsos negativos si “pasar un comentario al siguiente nivel” es costoso).\n",
        "*   Analizar ejemplos mal clasificados para detectar patrones (e.g. términos\n",
        "polisémicos o sarcasmo).\n",
        "\n",
        "### ++++++++ Termina la sección de agregar texto: +++++++++++"
      ]
    },
    {
      "cell_type": "markdown",
      "metadata": {
        "id": "bgKHmQTbWJT1"
      },
      "source": [
        "# **Fin de la Actividad de Vectores Embebidos - OpenAI**"
      ]
    }
  ],
  "metadata": {
    "colab": {
      "provenance": []
    },
    "kernelspec": {
      "display_name": "master-ai-tec",
      "language": "python",
      "name": "python3"
    },
    "language_info": {
      "codemirror_mode": {
        "name": "ipython",
        "version": 3
      },
      "file_extension": ".py",
      "mimetype": "text/x-python",
      "name": "python",
      "nbconvert_exporter": "python",
      "pygments_lexer": "ipython3",
      "version": "3.12.5"
    },
    "widgets": {
      "application/vnd.jupyter.widget-state+json": {
        "0ae75aff6c2d43ae8437f65b3d837148": {
          "model_module": "@jupyter-widgets/base",
          "model_module_version": "1.2.0",
          "model_name": "LayoutModel",
          "state": {
            "_model_module": "@jupyter-widgets/base",
            "_model_module_version": "1.2.0",
            "_model_name": "LayoutModel",
            "_view_count": null,
            "_view_module": "@jupyter-widgets/base",
            "_view_module_version": "1.2.0",
            "_view_name": "LayoutView",
            "align_content": null,
            "align_items": null,
            "align_self": null,
            "border": null,
            "bottom": null,
            "display": null,
            "flex": null,
            "flex_flow": null,
            "grid_area": null,
            "grid_auto_columns": null,
            "grid_auto_flow": null,
            "grid_auto_rows": null,
            "grid_column": null,
            "grid_gap": null,
            "grid_row": null,
            "grid_template_areas": null,
            "grid_template_columns": null,
            "grid_template_rows": null,
            "height": null,
            "justify_content": null,
            "justify_items": null,
            "left": null,
            "margin": null,
            "max_height": null,
            "max_width": null,
            "min_height": null,
            "min_width": null,
            "object_fit": null,
            "object_position": null,
            "order": null,
            "overflow": null,
            "overflow_x": null,
            "overflow_y": null,
            "padding": null,
            "right": null,
            "top": null,
            "visibility": null,
            "width": null
          }
        },
        "0c4eda83c987492888a52457cc4e01b6": {
          "model_module": "@jupyter-widgets/controls",
          "model_module_version": "1.5.0",
          "model_name": "HTMLModel",
          "state": {
            "_dom_classes": [],
            "_model_module": "@jupyter-widgets/controls",
            "_model_module_version": "1.5.0",
            "_model_name": "HTMLModel",
            "_view_count": null,
            "_view_module": "@jupyter-widgets/controls",
            "_view_module_version": "1.5.0",
            "_view_name": "HTMLView",
            "description": "",
            "description_tooltip": null,
            "layout": "IPY_MODEL_b04fe5010eeb482ab590ad502b3ca09a",
            "placeholder": "​",
            "style": "IPY_MODEL_e0ede8035a814eb8a60274b469a6308e",
            "value": "Batches: 100%"
          }
        },
        "167bf20e47604cc99531d0c87dc50849": {
          "model_module": "@jupyter-widgets/controls",
          "model_module_version": "1.5.0",
          "model_name": "HBoxModel",
          "state": {
            "_dom_classes": [],
            "_model_module": "@jupyter-widgets/controls",
            "_model_module_version": "1.5.0",
            "_model_name": "HBoxModel",
            "_view_count": null,
            "_view_module": "@jupyter-widgets/controls",
            "_view_module_version": "1.5.0",
            "_view_name": "HBoxView",
            "box_style": "",
            "children": [
              "IPY_MODEL_3ffbb7a6639c462da847b1edffccbc29",
              "IPY_MODEL_e3b2d99e15fc4ea9a376ebcb95598f8a",
              "IPY_MODEL_a0b053055c994308a3514af485239e22"
            ],
            "layout": "IPY_MODEL_d4647372267f4ad28089d36880aa4a30"
          }
        },
        "168a8edfb13e4520b0c1bb48ea528eeb": {
          "model_module": "@jupyter-widgets/base",
          "model_module_version": "1.2.0",
          "model_name": "LayoutModel",
          "state": {
            "_model_module": "@jupyter-widgets/base",
            "_model_module_version": "1.2.0",
            "_model_name": "LayoutModel",
            "_view_count": null,
            "_view_module": "@jupyter-widgets/base",
            "_view_module_version": "1.2.0",
            "_view_name": "LayoutView",
            "align_content": null,
            "align_items": null,
            "align_self": null,
            "border": null,
            "bottom": null,
            "display": null,
            "flex": null,
            "flex_flow": null,
            "grid_area": null,
            "grid_auto_columns": null,
            "grid_auto_flow": null,
            "grid_auto_rows": null,
            "grid_column": null,
            "grid_gap": null,
            "grid_row": null,
            "grid_template_areas": null,
            "grid_template_columns": null,
            "grid_template_rows": null,
            "height": null,
            "justify_content": null,
            "justify_items": null,
            "left": null,
            "margin": null,
            "max_height": null,
            "max_width": null,
            "min_height": null,
            "min_width": null,
            "object_fit": null,
            "object_position": null,
            "order": null,
            "overflow": null,
            "overflow_x": null,
            "overflow_y": null,
            "padding": null,
            "right": null,
            "top": null,
            "visibility": null,
            "width": null
          }
        },
        "24ed08e2e45b4a4794124c97ae478582": {
          "model_module": "@jupyter-widgets/controls",
          "model_module_version": "1.5.0",
          "model_name": "DescriptionStyleModel",
          "state": {
            "_model_module": "@jupyter-widgets/controls",
            "_model_module_version": "1.5.0",
            "_model_name": "DescriptionStyleModel",
            "_view_count": null,
            "_view_module": "@jupyter-widgets/base",
            "_view_module_version": "1.2.0",
            "_view_name": "StyleView",
            "description_width": ""
          }
        },
        "3ffbb7a6639c462da847b1edffccbc29": {
          "model_module": "@jupyter-widgets/controls",
          "model_module_version": "1.5.0",
          "model_name": "HTMLModel",
          "state": {
            "_dom_classes": [],
            "_model_module": "@jupyter-widgets/controls",
            "_model_module_version": "1.5.0",
            "_model_name": "HTMLModel",
            "_view_count": null,
            "_view_module": "@jupyter-widgets/controls",
            "_view_module_version": "1.5.0",
            "_view_name": "HTMLView",
            "description": "",
            "description_tooltip": null,
            "layout": "IPY_MODEL_0ae75aff6c2d43ae8437f65b3d837148",
            "placeholder": "​",
            "style": "IPY_MODEL_9fcaa448192e4760bc76bed8f41d029e",
            "value": "Batches: 100%"
          }
        },
        "4ddd02b0e95741f8a8abfa4713f733c3": {
          "model_module": "@jupyter-widgets/controls",
          "model_module_version": "1.5.0",
          "model_name": "ProgressStyleModel",
          "state": {
            "_model_module": "@jupyter-widgets/controls",
            "_model_module_version": "1.5.0",
            "_model_name": "ProgressStyleModel",
            "_view_count": null,
            "_view_module": "@jupyter-widgets/base",
            "_view_module_version": "1.2.0",
            "_view_name": "StyleView",
            "bar_color": null,
            "description_width": ""
          }
        },
        "6f1614089a4e4391b605bc0dd89b5968": {
          "model_module": "@jupyter-widgets/base",
          "model_module_version": "1.2.0",
          "model_name": "LayoutModel",
          "state": {
            "_model_module": "@jupyter-widgets/base",
            "_model_module_version": "1.2.0",
            "_model_name": "LayoutModel",
            "_view_count": null,
            "_view_module": "@jupyter-widgets/base",
            "_view_module_version": "1.2.0",
            "_view_name": "LayoutView",
            "align_content": null,
            "align_items": null,
            "align_self": null,
            "border": null,
            "bottom": null,
            "display": null,
            "flex": null,
            "flex_flow": null,
            "grid_area": null,
            "grid_auto_columns": null,
            "grid_auto_flow": null,
            "grid_auto_rows": null,
            "grid_column": null,
            "grid_gap": null,
            "grid_row": null,
            "grid_template_areas": null,
            "grid_template_columns": null,
            "grid_template_rows": null,
            "height": null,
            "justify_content": null,
            "justify_items": null,
            "left": null,
            "margin": null,
            "max_height": null,
            "max_width": null,
            "min_height": null,
            "min_width": null,
            "object_fit": null,
            "object_position": null,
            "order": null,
            "overflow": null,
            "overflow_x": null,
            "overflow_y": null,
            "padding": null,
            "right": null,
            "top": null,
            "visibility": null,
            "width": null
          }
        },
        "8d5235b2e05e44dab90eac7f0c658884": {
          "model_module": "@jupyter-widgets/base",
          "model_module_version": "1.2.0",
          "model_name": "LayoutModel",
          "state": {
            "_model_module": "@jupyter-widgets/base",
            "_model_module_version": "1.2.0",
            "_model_name": "LayoutModel",
            "_view_count": null,
            "_view_module": "@jupyter-widgets/base",
            "_view_module_version": "1.2.0",
            "_view_name": "LayoutView",
            "align_content": null,
            "align_items": null,
            "align_self": null,
            "border": null,
            "bottom": null,
            "display": null,
            "flex": null,
            "flex_flow": null,
            "grid_area": null,
            "grid_auto_columns": null,
            "grid_auto_flow": null,
            "grid_auto_rows": null,
            "grid_column": null,
            "grid_gap": null,
            "grid_row": null,
            "grid_template_areas": null,
            "grid_template_columns": null,
            "grid_template_rows": null,
            "height": null,
            "justify_content": null,
            "justify_items": null,
            "left": null,
            "margin": null,
            "max_height": null,
            "max_width": null,
            "min_height": null,
            "min_width": null,
            "object_fit": null,
            "object_position": null,
            "order": null,
            "overflow": null,
            "overflow_x": null,
            "overflow_y": null,
            "padding": null,
            "right": null,
            "top": null,
            "visibility": null,
            "width": null
          }
        },
        "8e4f2ddcc0d941f4a460d7e3a7dfec50": {
          "model_module": "@jupyter-widgets/base",
          "model_module_version": "1.2.0",
          "model_name": "LayoutModel",
          "state": {
            "_model_module": "@jupyter-widgets/base",
            "_model_module_version": "1.2.0",
            "_model_name": "LayoutModel",
            "_view_count": null,
            "_view_module": "@jupyter-widgets/base",
            "_view_module_version": "1.2.0",
            "_view_name": "LayoutView",
            "align_content": null,
            "align_items": null,
            "align_self": null,
            "border": null,
            "bottom": null,
            "display": null,
            "flex": null,
            "flex_flow": null,
            "grid_area": null,
            "grid_auto_columns": null,
            "grid_auto_flow": null,
            "grid_auto_rows": null,
            "grid_column": null,
            "grid_gap": null,
            "grid_row": null,
            "grid_template_areas": null,
            "grid_template_columns": null,
            "grid_template_rows": null,
            "height": null,
            "justify_content": null,
            "justify_items": null,
            "left": null,
            "margin": null,
            "max_height": null,
            "max_width": null,
            "min_height": null,
            "min_width": null,
            "object_fit": null,
            "object_position": null,
            "order": null,
            "overflow": null,
            "overflow_x": null,
            "overflow_y": null,
            "padding": null,
            "right": null,
            "top": null,
            "visibility": null,
            "width": null
          }
        },
        "946969d14b1a4f0f95c1ab75df85e746": {
          "model_module": "@jupyter-widgets/controls",
          "model_module_version": "1.5.0",
          "model_name": "ProgressStyleModel",
          "state": {
            "_model_module": "@jupyter-widgets/controls",
            "_model_module_version": "1.5.0",
            "_model_name": "ProgressStyleModel",
            "_view_count": null,
            "_view_module": "@jupyter-widgets/base",
            "_view_module_version": "1.2.0",
            "_view_name": "StyleView",
            "bar_color": null,
            "description_width": ""
          }
        },
        "9730fe5ddc88448f8f2d2faf3088f09a": {
          "model_module": "@jupyter-widgets/controls",
          "model_module_version": "1.5.0",
          "model_name": "HBoxModel",
          "state": {
            "_dom_classes": [],
            "_model_module": "@jupyter-widgets/controls",
            "_model_module_version": "1.5.0",
            "_model_name": "HBoxModel",
            "_view_count": null,
            "_view_module": "@jupyter-widgets/controls",
            "_view_module_version": "1.5.0",
            "_view_name": "HBoxView",
            "box_style": "",
            "children": [
              "IPY_MODEL_0c4eda83c987492888a52457cc4e01b6",
              "IPY_MODEL_e14910ca7d304f11949d283845469ef6",
              "IPY_MODEL_f7a2b40a8815471ab024e9e51407ef0f"
            ],
            "layout": "IPY_MODEL_8d5235b2e05e44dab90eac7f0c658884"
          }
        },
        "9990e71bb6194775ae1cd002d42eb4e1": {
          "model_module": "@jupyter-widgets/controls",
          "model_module_version": "1.5.0",
          "model_name": "DescriptionStyleModel",
          "state": {
            "_model_module": "@jupyter-widgets/controls",
            "_model_module_version": "1.5.0",
            "_model_name": "DescriptionStyleModel",
            "_view_count": null,
            "_view_module": "@jupyter-widgets/base",
            "_view_module_version": "1.2.0",
            "_view_name": "StyleView",
            "description_width": ""
          }
        },
        "9fcaa448192e4760bc76bed8f41d029e": {
          "model_module": "@jupyter-widgets/controls",
          "model_module_version": "1.5.0",
          "model_name": "DescriptionStyleModel",
          "state": {
            "_model_module": "@jupyter-widgets/controls",
            "_model_module_version": "1.5.0",
            "_model_name": "DescriptionStyleModel",
            "_view_count": null,
            "_view_module": "@jupyter-widgets/base",
            "_view_module_version": "1.2.0",
            "_view_name": "StyleView",
            "description_width": ""
          }
        },
        "a0b053055c994308a3514af485239e22": {
          "model_module": "@jupyter-widgets/controls",
          "model_module_version": "1.5.0",
          "model_name": "HTMLModel",
          "state": {
            "_dom_classes": [],
            "_model_module": "@jupyter-widgets/controls",
            "_model_module_version": "1.5.0",
            "_model_name": "HTMLModel",
            "_view_count": null,
            "_view_module": "@jupyter-widgets/controls",
            "_view_module_version": "1.5.0",
            "_view_name": "HTMLView",
            "description": "",
            "description_tooltip": null,
            "layout": "IPY_MODEL_8e4f2ddcc0d941f4a460d7e3a7dfec50",
            "placeholder": "​",
            "style": "IPY_MODEL_9990e71bb6194775ae1cd002d42eb4e1",
            "value": " 94/94 [00:34&lt;00:00,  3.76it/s]"
          }
        },
        "b04fe5010eeb482ab590ad502b3ca09a": {
          "model_module": "@jupyter-widgets/base",
          "model_module_version": "1.2.0",
          "model_name": "LayoutModel",
          "state": {
            "_model_module": "@jupyter-widgets/base",
            "_model_module_version": "1.2.0",
            "_model_name": "LayoutModel",
            "_view_count": null,
            "_view_module": "@jupyter-widgets/base",
            "_view_module_version": "1.2.0",
            "_view_name": "LayoutView",
            "align_content": null,
            "align_items": null,
            "align_self": null,
            "border": null,
            "bottom": null,
            "display": null,
            "flex": null,
            "flex_flow": null,
            "grid_area": null,
            "grid_auto_columns": null,
            "grid_auto_flow": null,
            "grid_auto_rows": null,
            "grid_column": null,
            "grid_gap": null,
            "grid_row": null,
            "grid_template_areas": null,
            "grid_template_columns": null,
            "grid_template_rows": null,
            "height": null,
            "justify_content": null,
            "justify_items": null,
            "left": null,
            "margin": null,
            "max_height": null,
            "max_width": null,
            "min_height": null,
            "min_width": null,
            "object_fit": null,
            "object_position": null,
            "order": null,
            "overflow": null,
            "overflow_x": null,
            "overflow_y": null,
            "padding": null,
            "right": null,
            "top": null,
            "visibility": null,
            "width": null
          }
        },
        "c09f1395705b4dcdbb0f13cdcccc992d": {
          "model_module": "@jupyter-widgets/base",
          "model_module_version": "1.2.0",
          "model_name": "LayoutModel",
          "state": {
            "_model_module": "@jupyter-widgets/base",
            "_model_module_version": "1.2.0",
            "_model_name": "LayoutModel",
            "_view_count": null,
            "_view_module": "@jupyter-widgets/base",
            "_view_module_version": "1.2.0",
            "_view_name": "LayoutView",
            "align_content": null,
            "align_items": null,
            "align_self": null,
            "border": null,
            "bottom": null,
            "display": null,
            "flex": null,
            "flex_flow": null,
            "grid_area": null,
            "grid_auto_columns": null,
            "grid_auto_flow": null,
            "grid_auto_rows": null,
            "grid_column": null,
            "grid_gap": null,
            "grid_row": null,
            "grid_template_areas": null,
            "grid_template_columns": null,
            "grid_template_rows": null,
            "height": null,
            "justify_content": null,
            "justify_items": null,
            "left": null,
            "margin": null,
            "max_height": null,
            "max_width": null,
            "min_height": null,
            "min_width": null,
            "object_fit": null,
            "object_position": null,
            "order": null,
            "overflow": null,
            "overflow_x": null,
            "overflow_y": null,
            "padding": null,
            "right": null,
            "top": null,
            "visibility": null,
            "width": null
          }
        },
        "d4647372267f4ad28089d36880aa4a30": {
          "model_module": "@jupyter-widgets/base",
          "model_module_version": "1.2.0",
          "model_name": "LayoutModel",
          "state": {
            "_model_module": "@jupyter-widgets/base",
            "_model_module_version": "1.2.0",
            "_model_name": "LayoutModel",
            "_view_count": null,
            "_view_module": "@jupyter-widgets/base",
            "_view_module_version": "1.2.0",
            "_view_name": "LayoutView",
            "align_content": null,
            "align_items": null,
            "align_self": null,
            "border": null,
            "bottom": null,
            "display": null,
            "flex": null,
            "flex_flow": null,
            "grid_area": null,
            "grid_auto_columns": null,
            "grid_auto_flow": null,
            "grid_auto_rows": null,
            "grid_column": null,
            "grid_gap": null,
            "grid_row": null,
            "grid_template_areas": null,
            "grid_template_columns": null,
            "grid_template_rows": null,
            "height": null,
            "justify_content": null,
            "justify_items": null,
            "left": null,
            "margin": null,
            "max_height": null,
            "max_width": null,
            "min_height": null,
            "min_width": null,
            "object_fit": null,
            "object_position": null,
            "order": null,
            "overflow": null,
            "overflow_x": null,
            "overflow_y": null,
            "padding": null,
            "right": null,
            "top": null,
            "visibility": null,
            "width": null
          }
        },
        "e0ede8035a814eb8a60274b469a6308e": {
          "model_module": "@jupyter-widgets/controls",
          "model_module_version": "1.5.0",
          "model_name": "DescriptionStyleModel",
          "state": {
            "_model_module": "@jupyter-widgets/controls",
            "_model_module_version": "1.5.0",
            "_model_name": "DescriptionStyleModel",
            "_view_count": null,
            "_view_module": "@jupyter-widgets/base",
            "_view_module_version": "1.2.0",
            "_view_name": "StyleView",
            "description_width": ""
          }
        },
        "e14910ca7d304f11949d283845469ef6": {
          "model_module": "@jupyter-widgets/controls",
          "model_module_version": "1.5.0",
          "model_name": "FloatProgressModel",
          "state": {
            "_dom_classes": [],
            "_model_module": "@jupyter-widgets/controls",
            "_model_module_version": "1.5.0",
            "_model_name": "FloatProgressModel",
            "_view_count": null,
            "_view_module": "@jupyter-widgets/controls",
            "_view_module_version": "1.5.0",
            "_view_name": "ProgressView",
            "bar_style": "success",
            "description": "",
            "description_tooltip": null,
            "layout": "IPY_MODEL_168a8edfb13e4520b0c1bb48ea528eeb",
            "max": 28,
            "min": 0,
            "orientation": "horizontal",
            "style": "IPY_MODEL_4ddd02b0e95741f8a8abfa4713f733c3",
            "value": 28
          }
        },
        "e3b2d99e15fc4ea9a376ebcb95598f8a": {
          "model_module": "@jupyter-widgets/controls",
          "model_module_version": "1.5.0",
          "model_name": "FloatProgressModel",
          "state": {
            "_dom_classes": [],
            "_model_module": "@jupyter-widgets/controls",
            "_model_module_version": "1.5.0",
            "_model_name": "FloatProgressModel",
            "_view_count": null,
            "_view_module": "@jupyter-widgets/controls",
            "_view_module_version": "1.5.0",
            "_view_name": "ProgressView",
            "bar_style": "success",
            "description": "",
            "description_tooltip": null,
            "layout": "IPY_MODEL_6f1614089a4e4391b605bc0dd89b5968",
            "max": 94,
            "min": 0,
            "orientation": "horizontal",
            "style": "IPY_MODEL_946969d14b1a4f0f95c1ab75df85e746",
            "value": 94
          }
        },
        "f7a2b40a8815471ab024e9e51407ef0f": {
          "model_module": "@jupyter-widgets/controls",
          "model_module_version": "1.5.0",
          "model_name": "HTMLModel",
          "state": {
            "_dom_classes": [],
            "_model_module": "@jupyter-widgets/controls",
            "_model_module_version": "1.5.0",
            "_model_name": "HTMLModel",
            "_view_count": null,
            "_view_module": "@jupyter-widgets/controls",
            "_view_module_version": "1.5.0",
            "_view_name": "HTMLView",
            "description": "",
            "description_tooltip": null,
            "layout": "IPY_MODEL_c09f1395705b4dcdbb0f13cdcccc992d",
            "placeholder": "​",
            "style": "IPY_MODEL_24ed08e2e45b4a4794124c97ae478582",
            "value": " 28/28 [00:02&lt;00:00, 15.72it/s]"
          }
        }
      }
    }
  },
  "nbformat": 4,
  "nbformat_minor": 0
}
