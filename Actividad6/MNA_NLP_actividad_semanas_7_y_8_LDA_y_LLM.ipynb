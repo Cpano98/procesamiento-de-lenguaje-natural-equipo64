{
  "cells": [
    {
      "cell_type": "markdown",
      "metadata": {
        "id": "-hVND8xY2OKY"
      },
      "source": [
        "# **Procesamiento de Lenguaje Natural**\n",
        "\n",
        "## Maestría en Inteligencia Artificial Aplicada\n",
        "#### Tecnológico de Monterrey\n",
        "#### Prof Luis Eduardo Falcón Morales\n",
        "\n",
        "### **Adtividad en Equipos Semanas 7 y 8 : LDA y LMM audio-a-texto**"
      ]
    },
    {
      "cell_type": "markdown",
      "metadata": {
        "id": "aimHVFOv23lm"
      },
      "source": [
        "* **Nombres y matrículas:**\n",
        "\n",
        "  *   Carlos Pano Hernandez - A01066264\n",
        "  *   Elemento de lista\n",
        "  *   Elemento de lista\n",
        "\n",
        "* **Número de Equipo:**\n"
      ]
    },
    {
      "cell_type": "markdown",
      "metadata": {
        "id": "7jimvsiVgjMg"
      },
      "source": [
        "* ##### **En cada ejercicio pueden importar los paquetes o librerías que requieran.**\n",
        "\n",
        "* ##### **En cada ejercicio pueden incluir las celdas y líneas de código que deseen.**"
      ]
    },
    {
      "cell_type": "markdown",
      "metadata": {
        "id": "1BtP-Sk0DT-M"
      },
      "source": [
        "# **Ejercicio 1:**"
      ]
    },
    {
      "cell_type": "markdown",
      "metadata": {
        "id": "Oh78pKeMghfe"
      },
      "source": [
        "* #### **Liga de los audios de las fábulas de Esopo:** https://www.gutenberg.org/ebooks/21144\n",
        "\n",
        "* #### **Descargar los 10 archivos de audio solicitados: 1, 4, 5, 6, 14, 22, 24, 25, 26, 27.**\n",
        "\n"
      ]
    },
    {
      "cell_type": "code",
      "execution_count": 37,
      "metadata": {
        "id": "Bfs5Zxc9j7Uf"
      },
      "outputs": [
        {
          "name": "stdout",
          "output_type": "stream",
          "text": [
            "audio_1 already exists\n",
            "Duración de audio_1: 72.6 segundos\n",
            "audio_4 already exists\n",
            "Duración de audio_4: 67.1 segundos\n",
            "audio_5 already exists\n",
            "Duración de audio_5: 58.4 segundos\n",
            "audio_6 already exists\n",
            "Duración de audio_6: 71.8 segundos\n",
            "audio_14 already exists\n",
            "Duración de audio_14: 58.1 segundos\n",
            "audio_22 already exists\n",
            "Duración de audio_22: 57.2 segundos\n",
            "audio_24 already exists\n",
            "Duración de audio_24: 64.5 segundos\n",
            "audio_25 already exists\n",
            "Duración de audio_25: 56.5 segundos\n",
            "audio_26 already exists\n",
            "Duración de audio_26: 63.7 segundos\n",
            "audio_27 already exists\n",
            "Duración de audio_27: 60.3 segundos\n"
          ]
        }
      ],
      "source": [
        "# Incluyan a continuación todas las celdas (de código o texto) que deseen...\n",
        "\n",
        "import os\n",
        "import requests\n",
        "import librosa\n",
        "\n",
        "# Define the download directory\n",
        "download_dir = \"data\"\n",
        "\n",
        "# Create directory if it doesn't exist\n",
        "if not os.path.exists(download_dir):\n",
        "    os.makedirs(download_dir)\n",
        "\n",
        "# URLs for Aesop's Fables audio files\n",
        "audio_urls = {\n",
        "    \"audio_1\": \"https://www.gutenberg.org/files/21144/mp3/21144-01.mp3\",\n",
        "    \"audio_4\": \"https://www.gutenberg.org/files/21144/mp3/21144-04.mp3\", \n",
        "    \"audio_5\": \"https://www.gutenberg.org/files/21144/mp3/21144-05.mp3\",\n",
        "    \"audio_6\": \"https://www.gutenberg.org/files/21144/mp3/21144-06.mp3\",\n",
        "    \"audio_14\": \"https://www.gutenberg.org/files/21144/mp3/21144-14.mp3\",\n",
        "    \"audio_22\": \"https://www.gutenberg.org/files/21144/mp3/21144-22.mp3\",\n",
        "    \"audio_24\": \"https://www.gutenberg.org/files/21144/mp3/21144-24.mp3\",\n",
        "    \"audio_25\": \"https://www.gutenberg.org/files/21144/mp3/21144-25.mp3\",\n",
        "    \"audio_26\": \"https://www.gutenberg.org/files/21144/mp3/21144-26.mp3\",\n",
        "    \"audio_27\": \"https://www.gutenberg.org/files/21144/mp3/21144-27.mp3\"\n",
        "}\n",
        "\n",
        "# Download each audio file\n",
        "for audio_name, url in audio_urls.items():\n",
        "    file_path = os.path.join(download_dir, f\"{audio_name}.mp3\")\n",
        "    \n",
        "    # Only download if file doesn't exist\n",
        "    if not os.path.exists(file_path):\n",
        "        response = requests.get(url)\n",
        "        if response.status_code == 200:\n",
        "            with open(file_path, 'wb') as f:\n",
        "                f.write(response.content)\n",
        "            print(f\"Downloaded {audio_name}\")\n",
        "        else:\n",
        "            print(f\"Failed to download {audio_name}\")\n",
        "    else:\n",
        "        print(f\"{audio_name} already exists\")\n",
        "        \n",
        "    # Load and print duration for each audio file\n",
        "    audio, sample_rate = librosa.load(file_path)\n",
        "    print(f\"Duración de {audio_name}: {len(audio)/sample_rate:.1f} segundos\")\n"
      ]
    },
    {
      "cell_type": "markdown",
      "metadata": {},
      "source": [
        "## Cargamos credenciales de OpenAI"
      ]
    },
    {
      "cell_type": "code",
      "execution_count": 38,
      "metadata": {},
      "outputs": [
        {
          "name": "stdout",
          "output_type": "stream",
          "text": [
            "Gut.\n"
          ]
        }
      ],
      "source": [
        "# Load environment variables from the specific .env file -> Amigos, aqui cada quien configuere su propia API key en el .env\n",
        "# El .gitignore ya excluye el mismo.\n",
        "\n",
        "from openai import OpenAI\n",
        "import openai\n",
        "from dotenv import load_dotenv\n",
        "\n",
        "load_dotenv('.env')\n",
        "\n",
        "api_key = os.getenv('OPENAI_API_KEY')\n",
        "if api_key is None:\n",
        "    raise ValueError(\"OPENAI_API_KEY environment variable is not set\")\n",
        "\n",
        "client = OpenAI(api_key=api_key)\n",
        "\n",
        "# Prueba de la API de OpenAI\n",
        "response = client.responses.create(\n",
        "    model=\"gpt-4o-mini\",\n",
        "    input=\"Hola, como estas? (Responde en 1 palabra y en Aleman)\"\n",
        ")\n",
        "\n",
        "# Imprimir la respuesta como test\n",
        "print(response.output_text)"
      ]
    },
    {
      "cell_type": "markdown",
      "metadata": {
        "id": "6uYgtCvvJSmq"
      },
      "source": [
        "# **Ejercicio 2a:**"
      ]
    },
    {
      "cell_type": "markdown",
      "metadata": {
        "id": "rAQjVP2HkoZY"
      },
      "source": [
        "* #### **Comenten el por qué del modelo seleccionado para extracción del texto de los audios.**\n",
        "\n",
        "* #### **Extraer el contenido de los audios en texto.**\n",
        "\n",
        "* #### **Sugerencia:** pueden extraerlo en un formato de diccionario, clave:valor $→$ {audio01:fabula01, ...}"
      ]
    },
    {
      "cell_type": "code",
      "execution_count": 39,
      "metadata": {
        "id": "C3k5sLGhnO1d"
      },
      "outputs": [
        {
          "name": "stdout",
          "output_type": "stream",
          "text": [
            "\n",
            "Transcripciones:\n",
            "----------------\n",
            "\n",
            "Audio audio_27:\n",
            "Las fábulas de Esopo. Grabado para LibriVox.org por Elo Chito. Fábula número 87. El perro que perseguía al león. Un perro de casa se encontró con un león y partió en su persecución. Pero el león se volvió rugiendo y el perro, todo temorizado, retrocedió rápidamente por el mismo camino. Le vio una zorra y le dijo, ¡Perro infeliz! Primero perseguías al león y ya ni siquiera soportas sus surgidos. Cuando entres a una empresa, mantente siempre listo a afrontar imprevistos que no te imaginabas. Fin de la fábula. Esta grabación es del dominio público.\n",
            "\n",
            "Audio audio_26:\n",
            "Las fábulas de Esopo. Grabado para LibriVox.org por El Ochito. Fábula número 86. El perro con campanilla. Había un perro que acostumbraba a morder sin razón. Le puso su amo una campanilla para advertirle a la gente de su presencia cercana. Y el can, sonando la campanilla, se fue a la plaza pública a presumir. Mas una sabia perra, ya avanzada de años, le dijo. ¿De qué presumes tanto, amigo? Sé que no llevas esa campanilla por tus grandes virtudes, sino para anunciar tu maldad oculta. Los halagos que se hacen a sí mismo, los fanfarrones, sólo delatan sus mayores defectos. Fin de la fábula. Esta grabación es del dominio público. Subtítulos realizados por la comunidad de Amara.org\n",
            "\n",
            "Audio audio_24:\n",
            "Las fábulas de Sopo. Grabado para LibriVox.org por Karen Savage. Fábula número 84. El perro y el reflejo en el río. Badeaba un perro un río, llevando en su hocico un sabroso pedazo de carne. Vio su propio reflejo en el agua del río y creyó que aquel reflejo era en realidad otro perro que llevaba un trozo de carne mayor que el suyo. Y deseando adueñarse del pedazo ajeno, soltó el suyo para arrebatar el trozo a su supuesto compadre. Pero el resultado fue que se quedó sin el propio y sin el ajeno. Este porque no existía, solo era un reflejo, y el otro, el verdadero, porque se lo llevó a la corriente. Nunca codices el bien ajeno, pues puedes perder lo que ya has adquirido con tu esfuerzo. Fin de fábula. Esta grabación es de dominio público.\n",
            "\n",
            "Audio audio_25:\n",
            "Las fábulas de Sopo, grabado para Librevox.org Fábula número 85, El perro y el carnicero Penetró un perro en una carnicería, y notando que el carnicero estaba muy ocupado con sus clientes, cogió un trozo de carne y salió corriendo. Se volvió el carnicero, y viéndole huir, y sin poder hacer ni nada, exclamó, —¡Oye, amigo! Ahí donde te encuentre, no dejaré de mirarte. No esperes a que suceda un accidente para pensar en cómo evitarlo. Fin de fábula. Esta grabación es del dominio público. Subtítulos realizados por la comunidad de Amara.org\n",
            "\n",
            "Audio audio_22:\n",
            "Las fábulas de Esopo. Grabado para LibriVox.org por El Ochito. Fábula número 82. El perro y la almeja. Un perro de esos, acostumbrados a comer huevos, al ver una almeja, no lo pensó dos veces, y creyendo que se trataba de un huevo, se la tragó inmediatamente. Desgarradas luego sus entrañas, se sintió muy mal, y se dijo, bien merecido lo tengo, por creer que todo lo que veo redondo son huevos. Nunca tomes un asunto sin antes reflexionar, para no entrar luego en extrañas dificultades. Fin de la fábula. Esta grabación es del dominio público. Subtítulos realizados por la comunidad de Amara.org\n",
            "\n",
            "Audio audio_5:\n",
            "Las fábulas de Sopo. Grabado para LibriVox.org por Karen Savage. Fábula número 65. El lobo y el caballo. Pasaba un lobo por un sembrado de cebada, pero como no era comida de su gusto, la dejó y siguió su camino. Encontró al rato a un caballo y le llevó al campo comentándole la gran cantidad de cebada que había hallado, pero que en vez de comérsela a él, mejor se la había dejado porque le agradaba más oír el ruido de sus dientes al masticarla. Pero el caballo le repuso. Amigo, si los lobos comieran cebada, no hubieras preferido complacer a tus oídos sino a tu estómago. A todo malvado, aunque parezca actuar como bueno, no debe de creérsele. Fin de fábula. Esta grabación es de dominio público. Subtítulos realizados por la comunidad de Amara.org\n",
            "\n",
            "Audio audio_4:\n",
            "Las fábulas de Esopo, grabado para LibriVox.org por Roberto Antonio Muñoz, fábula número 64, El Lobo y la Cruz. A un lobo que comía un hueso, se le atragantó el hueso en la garganta y corría por todas partes en busca de auxilio. Encontró en su correra a una grulla y le pidió que le salvara de aquella situación y que enseguida le pagaría por ello. Aceptó la grulla e introdujo su cabeza en la boca del lobo, sacando de la garganta el hueso atravesado. Pidió entonces la cancelación de la paga convenida. Oye, amiga, dijo el lobo, ¿no crees que es suficiente paga con haber sacado tu cabeza sana y salva de mi boca? Nunca hagas favores a malvados, traficantes o corruptos, pues mucha paga tendrías si te dejan sano y salvo. Fin de fábula. Esta grabación es de dominio público.\n",
            "\n",
            "Audio audio_6:\n",
            "Las fábulas de Esopo, grabado para LibriVox.org por Alejandro González Calderón. Fábula número 66. El Lobo y el Asno. Un lobo fue elegido rey entre sus congéneres y decretó una ley ordenando que lo que cada uno capturase en la casa, lo pusiera en común y lo repartiese por partes iguales entre todos. De esta manera ya no tendrían los lobos que devorarse unos a otros en épocas de hambre. Pero en eso le escuchó un asno, que estaba por ahí cerca, y moviendo sus orejas le dijo ¡Magnífica idea ha brotado de tu corazón! Pero, ¿por qué has escondido todo tu botín en tu cueva? Llévalo a la comunidad y repártelo también como lo has decretado. El lobo, descubierto y confundido, derogó su ley. Si alguna vez llegas a tener poder de legislar, sé el primero en cumplir tus propias leyes. Fin de la fábula. Esta grabación es de dominio público.\n",
            "\n",
            "Audio audio_14:\n",
            "Las fábulas de Sopo. Grabado para LibriVox.org por El Ochito. Fábula número 74. El Lobo y el Cabrito Encerrado. Protegido por la seguridad del corral de una casa, un cabrito vio pasar a un lobo y comenzó a insultarle burlándose ampliamente de él. El lobo serenamente le replicó. ¡Infeliz! Sé que no eres tú quien me está insultando, sino el sitio en que te encuentras. Muy a menudo no es el valor, sino la ocasión y el lugar quienes proveen el enfrentamiento arrogante ante los poderosos. Fin de la fábula. Esta grabación es del dominio público. Subtítulos realizados por la comunidad de Amara.org\n",
            "\n",
            "Audio audio_1:\n",
            "Las fábulas de Sopo Grabado para LibriVox.org por Paulino www.paulino.info Fábula número 61 El lobo y el cordero en el templo Dándose cuenta de que era perseguido por un lobo, un pequeño corderito decidió refugiarse en un templo cercano. Lo llamó lobo y le dijo que si el sacrificador lo encontraba allí adentro, lo inmolaría a su dios. Mejor así, replicó el cordero, prefiero ser víctima para un dios a tener que perecer en tus colmillos. Si sin remedio vamos a ser sacrificados, más nos vale que sea con el mayor honor. Fin de la fábula Esta es una grabación del dominio público.\n"
          ]
        }
      ],
      "source": [
        "import json\n",
        "\n",
        "# Diccionario para almacenar las transcripciones\n",
        "transcriptions = {}\n",
        "\n",
        "# Crear directorio para transcripciones si no existe\n",
        "transcriptions_dir = 'data-transcriptions'\n",
        "if not os.path.exists(transcriptions_dir):\n",
        "    os.makedirs(transcriptions_dir)\n",
        "\n",
        "# Iteramos sobre cada archivo de audio y lo transcribimos\n",
        "for filename in os.listdir('data'):\n",
        "    # Extraemos el ID del audio del nombre del archivo\n",
        "    audio_id = os.path.splitext(filename)[0]\n",
        "    audio_path = os.path.join('data', filename)\n",
        "    transcript_path = os.path.join(transcriptions_dir, f'{audio_id}.txt')\n",
        "    \n",
        "    # Si ya existe la transcripción, la cargamos del archivo\n",
        "    if os.path.exists(transcript_path):\n",
        "        with open(transcript_path, 'r', encoding='utf-8') as f:\n",
        "            transcriptions[audio_id] = f.read()\n",
        "            continue\n",
        "    \n",
        "    # Si no existe, transcribimos el audio y guardamos el resultado\n",
        "    try:\n",
        "        with open(audio_path, \"rb\") as audio_file:\n",
        "            transcript = client.audio.transcriptions.create(\n",
        "                model=\"whisper-1\", # Usamos Whisper por su buen rendimiento en español\n",
        "                file=audio_file,\n",
        "                language=\"es\"\n",
        "            )\n",
        "            transcriptions[audio_id] = transcript.text\n",
        "            \n",
        "            # Guardamos la transcripción en un archivo\n",
        "            with open(transcript_path, 'w', encoding='utf-8') as f:\n",
        "                f.write(transcript.text)\n",
        "    except Exception as e:\n",
        "        print(f\"Error al procesar {audio_id}: {str(e)}\")\n",
        "\n",
        "# Guardamos las transcripciones en formato JSON\n",
        "json_path = os.path.join(transcriptions_dir, 'transcriptions.json')\n",
        "with open(json_path, 'w', encoding='utf-8') as f:\n",
        "    json.dump(transcriptions, f, indent=2, ensure_ascii=False)\n",
        "\n",
        "# Mostramos las transcripciones\n",
        "print(\"\\nTranscripciones:\")\n",
        "print(\"----------------\")\n",
        "for audio_id, text in transcriptions.items():\n",
        "    print(f\"\\nAudio {audio_id}:\")\n",
        "    print(text)\n"
      ]
    },
    {
      "cell_type": "markdown",
      "metadata": {},
      "source": [
        "# **Comentario sobre el modelo seleccionado (Whisper):**\n",
        "# \n",
        "El modelo Whisper fue seleccionado para la transcripción de audio por las siguientes razones:\n",
        "* Tiene excelente rendimiento en español, con alta precisión en el reconocimiento de palabras y acentos\n",
        "* Es un modelo multilingüe entrenado con una gran cantidad de datos en diversos idiomas\n",
        "* Maneja bien diferentes acentos y variaciones del español\n",
        "* Es robusto ante ruido de fondo y diferentes calidades de audio\n",
        "* Está optimizado para transcripción de voz a texto, que es exactamente nuestra tarea\n"
      ]
    },
    {
      "cell_type": "markdown",
      "metadata": {
        "id": "NM0D83j8EWiN"
      },
      "source": [
        "# **Ejercicio 2b:**"
      ]
    },
    {
      "cell_type": "markdown",
      "metadata": {
        "id": "xiFG5q88EYHU"
      },
      "source": [
        "* #### **Eliminar el inicio y final comunes de los textos extraídos de cada fábula.**\n",
        "\n",
        "* #### **Sugerencia:** Pueden guardar esta información en un archivo tipo JSON, para que al estar probando diferentes opciones en los ejercicios siguientes, puedan recuperar rápidamente la información de cada video/fábula."
      ]
    },
    {
      "cell_type": "code",
      "execution_count": 40,
      "metadata": {
        "id": "KkbeTmeon_RP"
      },
      "outputs": [
        {
          "name": "stdout",
          "output_type": "stream",
          "text": [
            "\n",
            "Ejemplos de transcripciones limpias:\n",
            "-----------------------------------\n",
            "\n",
            "Audio audio_27:\n",
            "El perro que perseguía al león. Un perro de casa se encontró con un león y partió en su persecución. Pero el león se volvió rugiendo y el perro, todo temorizado, retrocedió rápidamente por el mismo camino. Le vio una zorra y le dijo, ¡Perro infeliz! Primero perseguías al león y ya ni siquiera soportas sus surgidos. Cuando entres a una empresa, mantente siempre listo a afrontar imprevistos que no te imaginabas.\n",
            "\n",
            "Audio audio_26:\n",
            "El perro con campanilla. Había un perro que acostumbraba a morder sin razón. Le puso su amo una campanilla para advertirle a la gente de su presencia cercana. Y el can, sonando la campanilla, se fue a la plaza pública a presumir. Mas una sabia perra, ya avanzada de años, le dijo. ¿De qué presumes tanto, amigo? Sé que no llevas esa campanilla por tus grandes virtudes, sino para anunciar tu maldad oculta. Los halagos que se hacen a sí mismo, los fanfarrones, sólo delatan sus mayores defectos. Fin de la fábula.\n",
            "\n",
            "Audio audio_24:\n",
            "El perro y el reflejo en el río. Badeaba un perro un río, llevando en su hocico un sabroso pedazo de carne. Vio su propio reflejo en el agua del río y creyó que aquel reflejo era en realidad otro perro que llevaba un trozo de carne mayor que el suyo. Y deseando adueñarse del pedazo ajeno, soltó el suyo para arrebatar el trozo a su supuesto compadre. Pero el resultado fue que se quedó sin el propio y sin el ajeno. Este porque no existía, solo era un reflejo, y el otro, el verdadero, porque se lo llevó a la corriente. Nunca codices el bien ajeno, pues puedes perder lo que ya has adquirido con tu esfuerzo.\n"
          ]
        }
      ],
      "source": [
        "# Incluyan a continuación todas las celdas (de código o texto) que deseen...\n",
        "\n",
        "import re\n",
        "\n",
        "# Patrones comunes al inicio y final de las transcripciones\n",
        "inicio_patterns = [\n",
        "    r\"Las fábulas de (?:Esopo|Sopo)\\.?\\s*(?:Grabado para LibriVox\\.org|grabado para Librevox\\.org)\\s*(?:por\\s+)?\",\n",
        "    r\"(?:por\\s+)?(?:Elo Chito|Karen Savage|Karen Savich|El Ochito|Roberto Antonio Muñoz|Alejandro González Calderón|Paulino)\\s*(?:www\\.paulino\\.info)?\\s*\",\n",
        "    r\"[Ff]ábula (?:número|numero) \\d+\\.?\\s*\",\n",
        "    r\"^[,\\s]+\",  # Eliminar comas y espacios al inicio\n",
        "    r\"Las fábulas de (?:Esopo|Sopo),?\\s*grabado para (?:LibriVox|Librevox)\\.org\\s*[,\\s\\.]*\"  # Nuevo patrón\n",
        "]\n",
        "\n",
        "final_patterns = [\n",
        "    r\"(?:Fin de (?:la )?fábula\\.?\\s*)?(?:Esta (?:es una )?grabación (?:es )?(?:del|de) dominio público\\.?)?\",\n",
        "    r\"Subtítulos realizados por la comunidad de Amara\\.org\",\n",
        "    r\"[,\\s]+$\",  # Eliminar comas y espacios al final\n",
        "    r\"Esta grabación es del dominio público\\.\",  # Nuevo patrón\n",
        "    r\"Fin de la fábula\\.\"  # Nuevo patrón\n",
        "]\n",
        "\n",
        "def clean_text(text):\n",
        "    # Eliminar el inicio común usando los patrones mejorados\n",
        "    for pattern in inicio_patterns:\n",
        "        text = re.sub(pattern, \"\", text, flags=re.IGNORECASE)\n",
        "    \n",
        "    # Eliminar el final común usando los patrones mejorados\n",
        "    for pattern in final_patterns:\n",
        "        text = re.sub(pattern + r\"$\", \"\", text, flags=re.IGNORECASE)\n",
        "    \n",
        "    # Limpiar puntuación y espacios\n",
        "    text = re.sub(r'\\.+', '.', text)  # Eliminar múltiples puntos seguidos\n",
        "    text = re.sub(r'\\s+', ' ', text)  # Normalizar espacios\n",
        "    text = re.sub(r'^\\s+|\\s+$', '', text)  # Eliminar espacios al inicio y final\n",
        "    text = re.sub(r'^[,\\s\\.]+', '', text)  # Eliminar comas, espacios y puntos al inicio\n",
        "    \n",
        "    # Asegurar que el texto termine con un punto\n",
        "    if not text.endswith('.'):\n",
        "        text = text.rstrip('.') + '.'\n",
        "        \n",
        "    return text\n",
        "\n",
        "# Crear directorio para guardar las transcripciones limpias\n",
        "cleaned_dir = \"data-transcriptions-cleaned\"\n",
        "if not os.path.exists(cleaned_dir):\n",
        "    os.makedirs(cleaned_dir)\n",
        "\n",
        "# Limpiar las transcripciones y guardarlas\n",
        "cleaned_transcriptions = {}\n",
        "for audio_id, text in transcriptions.items():\n",
        "    cleaned_text = clean_text(text)\n",
        "    cleaned_transcriptions[audio_id] = cleaned_text\n",
        "    \n",
        "    # Guardar cada transcripción limpia individualmente\n",
        "    cleaned_path = os.path.join(cleaned_dir, f'{audio_id}_cleaned.txt')\n",
        "    with open(cleaned_path, 'w', encoding='utf-8') as f:\n",
        "        f.write(cleaned_text)\n",
        "\n",
        "# Guardar todas las transcripciones limpias en JSON\n",
        "json_path = os.path.join(cleaned_dir, 'cleaned_transcriptions.json')\n",
        "with open(json_path, 'w', encoding='utf-8') as f:\n",
        "    json.dump(cleaned_transcriptions, f, ensure_ascii=False, indent=2)\n",
        "\n",
        "# Mostrar ejemplos de las transcripciones limpias\n",
        "print(\"\\nEjemplos de transcripciones limpias:\")\n",
        "print(\"-----------------------------------\")\n",
        "for audio_id, text in list(cleaned_transcriptions.items())[:3]:\n",
        "    print(f\"\\nAudio {audio_id}:\")\n",
        "    print(text)\n"
      ]
    },
    {
      "cell_type": "markdown",
      "metadata": {
        "id": "6PKaB_Ge0Shc"
      },
      "source": [
        "# **Ejercicio 3:**"
      ]
    },
    {
      "cell_type": "markdown",
      "metadata": {
        "id": "zNrqcQFe0VWR"
      },
      "source": [
        "* #### **Apliquen el proceso de limpieza que consideren adecuado.**\n",
        "\n",
        "* #### **Justifiquen los pasos de limpieza utilizados. Tomen en cuenta que el texto extraído de cada fábula es relativamente pequeño.**\n",
        "\n",
        "* #### **En caso de que decidan no aplicar esta etapa de limpieza, deberán justificarlo.**"
      ]
    },
    {
      "cell_type": "code",
      "execution_count": 41,
      "metadata": {
        "id": "pqwiCCdpq8D_"
      },
      "outputs": [
        {
          "name": "stdout",
          "output_type": "stream",
          "text": [
            "Ejemplo de tokens después de limpieza:\n",
            "['perro', 'perseguía', 'león', 'perro', 'casa', 'encontró', 'león', 'partió', 'persecución', 'león', 'volvió', 'rugiendo', 'perro', 'temorizado', 'retrocedió', 'rápidamente', 'mismo', 'camino', 'vio', 'zorra', 'dijo', 'perro', 'infeliz', 'primero', 'perseguías', 'león', 'siquiera', 'soportas', 'surgidos', 'entres', 'empresa', 'mantente', 'siempre', 'listo', 'afrontar', 'imprevistos', 'imaginabas']\n",
            "\n",
            "['perro', 'campanilla', 'perro', 'acostumbraba', 'morder', 'razón', 'puso', 'amo', 'campanilla', 'advertirle', 'gente', 'presencia', 'cercana', 'can', 'sonando', 'campanilla', 'plaza', 'pública', 'presumir', 'mas', 'sabia', 'perra', 'avanzada', 'años', 'dijo', 'presumes', 'amigo', 'sé', 'llevas', 'campanilla', 'grandes', 'virtudes', 'sino', 'anunciar', 'maldad', 'oculta', 'halagos', 'hacen', 'mismo', 'fanfarrones', 'sólo', 'delatan', 'mayores', 'defectos', 'fin', 'fábula']\n",
            "\n",
            "Ejemplo de tokens después de normalización:\n",
            "['perr', 'persegu', 'leon', 'perr', 'cas', 'encontr', 'leon', 'part', 'persecu', 'leon', 'volv', 'rug', 'perr', 'temoriz', 'retroced', 'rapid', 'mism', 'camin', 'vio', 'zorr', 'dij', 'perr', 'infeliz', 'primer', 'persegu', 'leon', 'siqu', 'soport', 'surg', 'entres', 'empres', 'mantent', 'siempr', 'list', 'afront', 'imprevist', 'imagin']\n",
            "\n",
            "['perr', 'campanill', 'perr', 'acostumbr', 'mord', 'razon', 'pus', 'amo', 'campanill', 'advert', 'gent', 'presenci', 'cercan', 'can', 'son', 'campanill', 'plaz', 'public', 'presum', 'mas', 'sabi', 'perr', 'avanz', 'años', 'dij', 'presum', 'amig', 'se', 'llev', 'campanill', 'grand', 'virtud', 'sin', 'anunci', 'mald', 'ocult', 'halag', 'hac', 'mism', 'fanfarron', 'sol', 'delat', 'mayor', 'defect', 'fin', 'fabul']\n"
          ]
        }
      ],
      "source": [
        "# Importar las bibliotecas necesarias\n",
        "from nltk.tokenize import word_tokenize\n",
        "from nltk.corpus import stopwords\n",
        "from nltk.stem import SnowballStemmer\n",
        "\n",
        "# Cargar las transcripciones limpias\n",
        "with open('data-transcriptions-cleaned/cleaned_transcriptions.json', 'r', encoding='utf-8') as f:\n",
        "    cleaned_transcriptions = json.load(f)\n",
        "\n",
        "# Convertir el diccionario a una lista de textos\n",
        "texts = list(cleaned_transcriptions.values())\n",
        "\n",
        "# Inicializar stemmer para español\n",
        "stemmer = SnowballStemmer('spanish')\n",
        "\n",
        "# Funciones de preprocesamiento de texto\n",
        "def clean_text_es(text):\n",
        "    \"\"\"\n",
        "    Función para limpiar y normalizar texto en español\n",
        "    \"\"\"\n",
        "    # Convertir a minúsculas\n",
        "    text = text.lower()\n",
        "    \n",
        "    # Eliminar signos de puntuación y números\n",
        "    text = re.sub(r'[^\\w\\s]', ' ', text)\n",
        "    text = re.sub(r'\\d+', ' ', text)\n",
        "    \n",
        "    # Tokenizar\n",
        "    tokens = word_tokenize(text, language='spanish')\n",
        "    \n",
        "    # Eliminar stopwords\n",
        "    stop_words = set(stopwords.words('spanish'))\n",
        "    tokens = [token for token in tokens if token not in stop_words]\n",
        "    \n",
        "    # Eliminar tokens de un solo caracter\n",
        "    tokens = [token for token in tokens if len(token) > 1]\n",
        "    \n",
        "    return tokens\n",
        "\n",
        "def normalize_tokens_es(tokens):\n",
        "    \"\"\"\n",
        "    Función para normalizar tokens en español usando NLTK Snowball Stemmer\n",
        "    \"\"\"\n",
        "    normalized = []\n",
        "    for token in tokens:\n",
        "        # Limpiar caracteres repetidos\n",
        "        token = re.sub(r'(.)\\1{2,}', r'\\1\\1', token)\n",
        "        # Aplicar stemming\n",
        "        stem = stemmer.stem(token)\n",
        "        normalized.append(stem)\n",
        "        \n",
        "    return normalized\n",
        "\n",
        "# Aplicar limpieza y tokenización\n",
        "cleaned_texts = [clean_text_es(text) for text in texts]\n",
        "print(\"Ejemplo de tokens después de limpieza:\")\n",
        "print(*cleaned_texts[0:2], sep='\\n\\n')\n",
        "\n",
        "# Aplicar normalización\n",
        "normalized_texts = [normalize_tokens_es(text) for text in cleaned_texts]\n",
        "print(\"\\nEjemplo de tokens después de normalización:\")\n",
        "print(*normalized_texts[0:2], sep='\\n\\n')\n"
      ]
    },
    {
      "cell_type": "markdown",
      "metadata": {
        "id": "i2ywrmsMP_EF"
      },
      "source": [
        "# **Ejercicio 4:**\n",
        "De cada fábula deberán extraer las palabras clave mediante el algoritmo LDA\n",
        "(Asignación Latente de Dirichlet). Consideren que cada fábula tiene solo un tópico y\n",
        "que el total de palabras por tópico serían en principio 20 (pero pueden ajustar este\n",
        "valor si consideran que obtienen un mejor resultado). Deberán desplegar las\n",
        "palabras clave obtenidas en cada fábula."
      ]
    },
    {
      "cell_type": "code",
      "execution_count": 45,
      "metadata": {
        "id": "-xFpnt0A0Ub7"
      },
      "outputs": [
        {
          "name": "stdout",
          "output_type": "stream",
          "text": [
            "\n",
            "Palabras clave para la fábula 1:\n",
            "leon, perr, persegu, dij, list, entres, siqu, siempr, encontr, empres, mantent, camin, surg, rug, mism, retroced, cas, rapid, part, primer\n",
            "\n",
            "Palabras clave para la fábula 2:\n",
            "campanill, perr, presum, ocult, años, se, sabi, can, cercan, razon, pus, public, presenci, plaz, defect, delat, sin, mord, mism, mayor\n",
            "\n",
            "Palabras clave para la fábula 3:\n",
            "reflej, llev, perr, rio, ajen, propi, pedaz, carn, troz, mayor, esfuerz, arrebat, result, solt, sol, codic, supuest, pued, pues, nunc\n",
            "\n",
            "Palabras clave para la fábula 4:\n",
            "carnicer, perr, accident, sal, carnic, client, cog, com, corr, pod, pens, penetr, oye, dej, ocup, not, mirart, encuentr, esper, evit\n",
            "\n",
            "Palabras clave para la fábula 5:\n",
            "huev, perr, lueg, almej, dij, asunt, sint, entrañ, entrar, mal, dos, merec, dificultad, desgarr, nunc, reflexion, redond, com, creyend, pens\n",
            "\n",
            "Palabras clave para la fábula 6:\n",
            "ceb, lob, com, caball, dej, domini, llev, oir, public, oid, coment, creersel, dient, aunqu, camin, mastic, buen, complac, sigu, rat\n",
            "\n",
            "Palabras clave para la fábula 7:\n",
            "lob, pag, salv, hues, grull, boc, pid, san, gargant, cabez, sac, ello, malv, hab, busc, dij, ensegu, si, cancel, dej\n",
            "\n",
            "Palabras clave para la fábula 8:\n",
            "lob, ley, comun, decret, asno, se, repartel, lleg, pus, lleval, si, botin, brot, magnif, derog, maner, eleg, cad, cerc, mov\n",
            "\n",
            "Palabras clave para la fábula 9:\n",
            "lob, insult, cabrit, sin, se, arrog, ampli, corral, segur, encerr, seren, ocasion, encuentr, enfrent, cas, siti, comenz, infeliz, pas, replic\n",
            "\n",
            "Palabras clave para la fábula 10:\n",
            "lob, templ, corder, dios, si, ser, corderit, encontr, dandos, asi, decid, llam, remedi, refugi, cuent, perec, sacrific, sacrif, replic, dij\n"
          ]
        }
      ],
      "source": [
        "# Incluyan a continuación todas las celdas (de código o texto) que deseen...\n",
        "\n",
        "\n",
        "# Importar bibliotecas necesarias para LDA\n",
        "from sklearn.decomposition import LatentDirichletAllocation\n",
        "from sklearn.feature_extraction.text import CountVectorizer\n",
        "import numpy as np\n",
        "\n",
        "# Convertir tokens normalizados de vuelta a texto para usar con CountVectorizer\n",
        "normalized_docs = [' '.join(tokens) for tokens in normalized_texts]\n",
        "\n",
        "# Crear vectorizador y matriz documento-término\n",
        "vectorizer = CountVectorizer(max_features=1000)\n",
        "doc_term_matrix = vectorizer.fit_transform(normalized_docs)\n",
        "\n",
        "# Obtener lista de términos\n",
        "terms = vectorizer.get_feature_names_out()\n",
        "\n",
        "# Definir parámetros\n",
        "num_words = 20  # Palabras clave por tópico\n",
        "num_docs = len(normalized_docs)  # Número de fábulas\n",
        "\n",
        "# Analizar cada fábula individualmente\n",
        "for i in range(num_docs):\n",
        "    print(f\"\\nPalabras clave para la fábula {i+1}:\")\n",
        "    \n",
        "    # Crear matriz documento-término para la fábula individual\n",
        "    doc_matrix = vectorizer.transform([normalized_docs[i]])\n",
        "    \n",
        "    # Entrenar modelo LDA\n",
        "    lda = LatentDirichletAllocation(\n",
        "        n_components=1,\n",
        "        random_state=42,\n",
        "        max_iter=15\n",
        "    )\n",
        "    lda.fit(doc_matrix)\n",
        "    \n",
        "    # Obtener las palabras más importantes\n",
        "    topic = lda.components_[0]\n",
        "    top_words_idx = topic.argsort()[-num_words:][::-1]\n",
        "    top_words = [terms[idx] for idx in top_words_idx]\n",
        "    \n",
        "    # Imprimir palabras clave\n",
        "    print(\", \".join(top_words))\n",
        "\n",
        "\n"
      ]
    },
    {
      "cell_type": "markdown",
      "metadata": {
        "id": "Blrrs1sWwkSx"
      },
      "source": [
        "# **Ejercicio 5a y 5b:**"
      ]
    },
    {
      "cell_type": "markdown",
      "metadata": {
        "id": "gWvzQ-aNwsVk"
      },
      "source": [
        "* #### **5a: Mediante el LLM que hayan seleccionado, generar un único enunciado que describa o resuma cada fábula.**\n",
        "\n",
        "* #### **5b: Mediante el LLM que hayan seleccionado, generar tres posibles enunciados diferentes relacionados con la historia de la fábula.**\n",
        "\n",
        "* #### **Sugerencia:** En realidad los dos incisos a y b se pueden obtener con un solo prompt que solicite la información y el formato correspondiente para cada una de estas partes. Por ejemplo, para cada fábula la salida puede ser un primer enunciado genérico que resume o describe dicha temática; seguido de tres enunciados, cada uno hablando sobre una situación o parte diferente de la fábula."
      ]
    },
    {
      "cell_type": "code",
      "execution_count": 51,
      "metadata": {
        "id": "Q9UkVPxM0Xii"
      },
      "outputs": [
        {
          "name": "stdout",
          "output_type": "stream",
          "text": [
            "\n",
            "Generando resúmenes y subtemas para cada fábula usando GPT-4:\n",
            "\n",
            "--------------------------------------------------------------------------------\n",
            "\n",
            "Fábula 1:\n",
            "Palabras clave: leon, perr, persegu, dij, list, entres, siqu, siempr, encontr, empres, mantent, camin, surg, rug, mism, retroced, cas, rapid, part, primer\n",
            "\n",
            "Análisis GPT-4:\n",
            "Resumen: La fábula relata la historia de un león que persigue a un perro listo, quien siempre encuentra maneras ingeniosas para mantenerse un paso por delante del león, demostrando que la mente rápida puede superar la fuerza bruta.\n",
            "\n",
            "Subtemas:\n",
            "- La inteligencia y astucia del perro para evadir al león.\n",
            "- El persistente intento del león por atrapar al perro.\n",
            "- La importancia de la agilidad mental frente a la fuerza física en situaciones de peligro.\n",
            "--------------------------------------------------------------------------------\n",
            "\n",
            "Fábula 2:\n",
            "Palabras clave: campanill, perr, presum, ocult, años, se, sabi, can, cercan, razon, pus, public, presenci, plaz, defect, delat, sin, mord, mism, mayor\n",
            "\n",
            "Análisis GPT-4:\n",
            "Resumen: La fábula trata de un perro presumido que, para destacar y ser notado, lleva una campanilla, pero su intento de ocultar sus defectos y aparentar ser más sabio de lo que es, se vuelve en su contra cuando la campanilla delata su presencia y sus malas intenciones, enseñándole que no se puede engañar a los demás por mucho tiempo.\n",
            "\n",
            "Subtemas:\n",
            "- La importancia de la humildad y la honestidad en la vida.\n",
            "- Las consecuencias de aparentar ser algo que no se es.\n",
            "- La sabiduría y la engañosa apariencia: cómo los intentos de ocultar nuestros defectos pueden delatarnos.\n",
            "--------------------------------------------------------------------------------\n",
            "\n",
            "Fábula 3:\n",
            "Palabras clave: reflej, llev, perr, rio, ajen, propi, pedaz, carn, troz, mayor, esfuerz, arrebat, result, solt, sol, codic, supuest, pued, pues, nunc\n",
            "\n",
            "Análisis GPT-4:\n",
            "Resumen: Un perro que lleva un pedazo de carne en su boca, ve su propio reflejo en el río y al suponer que es otro perro con un trozo de carne mayor, hace un esfuerzo por arrebatarlo, resultando en que suelta su propio pedazo de carne al agua.\n",
            "\n",
            "Subtemas:\n",
            "- La codicia y sus consecuencias en la vida\n",
            "- La importancia de valorar lo que uno tiene\n",
            "- La ilusión y el engaño de los reflejos y las apariencias.\n",
            "--------------------------------------------------------------------------------\n",
            "\n",
            "Fábula 4:\n",
            "Palabras clave: carnicer, perr, accident, sal, carnic, client, cog, com, corr, pod, pens, penetr, oye, dej, ocup, not, mirart, encuentr, esper, evit\n",
            "\n",
            "Análisis GPT-4:\n",
            "Resumen: Un carnicero que solía comer sal en exceso, un día accidentalmente dejó caer sal en su carne, lo que atrae a un perro que se la come, pero en su huida se encuentra con un cliente del carnicero que, al notar el incidente, le ayuda a recuperar su carne.\n",
            "\n",
            "Subtemas:\n",
            "- La importancia de la moderación en el consumo de sal y sus consecuencias inesperadas.\n",
            "- La astucia y oportunismo de los animales en situaciones de supervivencia.\n",
            "- La cooperación y la comunidad como forma de resolver problemas y conflictos.\n",
            "--------------------------------------------------------------------------------\n",
            "\n",
            "Fábula 5:\n",
            "Palabras clave: huev, perr, lueg, almej, dij, asunt, sint, entrañ, entrar, mal, dos, merec, dificultad, desgarr, nunc, reflexion, redond, com, creyend, pens\n",
            "\n",
            "Análisis GPT-4:\n",
            "Resumen: Un perro, creyendo que una almeja redonda era un huevo, intenta desgarrarla con dificultad, pero al entrar en su entraña, siente un dolor intenso y comprende que no todo lo que parece ser bueno, merece ser perseguido, reflexionando sobre el asunto, nunca más juzga a algo por su apariencia.\n",
            "\n",
            "Subtemas:\n",
            "- Los peligros de juzgar únicamente por las apariencias.\n",
            "- La importancia de la reflexión antes de actuar.\n",
            "- El dolor y las dificultades como medios para aprender lecciones valiosas.\n",
            "--------------------------------------------------------------------------------\n",
            "\n",
            "Fábula 6:\n",
            "Palabras clave: ceb, lob, com, caball, dej, domini, llev, oir, public, oid, coment, creersel, dient, aunqu, camin, mastic, buen, complac, sigu, rat\n",
            "\n",
            "Análisis GPT-4:\n",
            "Resumen: La fábula de Esopo cuenta la historia de un lobo que, al dominar a un caballo, se cree superior y comienza a caminar con complacencia, sin darse cuenta de que un ratón le ha masticado la cebolla que llevaba, dejando al descubierto su engaño.\n",
            "\n",
            "Subtemas:\n",
            "- El orgullo y la arrogancia del lobo.\n",
            "- La astucia del ratón al descubrir la verdad.\n",
            "- La importancia de la humildad y no creerse superior a los demás.\n",
            "--------------------------------------------------------------------------------\n",
            "\n",
            "Fábula 7:\n",
            "Palabras clave: lob, pag, salv, hues, grull, boc, pid, san, gargant, cabez, sac, ello, malv, hab, busc, dij, ensegu, si, cancel, dej\n",
            "\n",
            "Análisis GPT-4:\n",
            "    Resumen: Un lobo con un hueso atorado en la garganta, pide ayuda a una grulla para que, con su largo pico, lo saque, prometiendo una gran recompensa, pero una vez salvado, el lobo se niega a pagar, argumentando que la grulla debería estar agradecida de que no la devoró cuando tuvo su cabeza en su boca.\n",
            "\n",
            "    Subtemas:\n",
            "    - La falsa promesa del lobo y la ingenuidad de la grulla.\n",
            "    - La falta de gratitud del lobo después de ser salvado.\n",
            "    - El peligro que enfrentó la grulla al ayudar al lobo.\n",
            "--------------------------------------------------------------------------------\n",
            "\n",
            "Fábula 8:\n",
            "Palabras clave: lob, ley, comun, decret, asno, se, repartel, lleg, pus, lleval, si, botin, brot, magnif, derog, maner, eleg, cad, cerc, mov\n",
            "\n",
            "Análisis GPT-4:\n",
            "    Resumen: En la fábula, un lobo y un asno se encuentran un botín, pero cuando llega el momento de repartirlo, el lobo, por ser más poderoso, decreta que todo le pertenece, desafiando las leyes comunes de justicia y equidad.\n",
            "\n",
            "    Subtemas:\n",
            "    - La ley del más fuerte en la naturaleza y su relación con la justicia.\n",
            "    - La distribución desigual de bienes y el abuso de poder.\n",
            "    - La interpretación de las leyes y normas según la conveniencia personal.\n",
            "--------------------------------------------------------------------------------\n",
            "\n",
            "Fábula 9:\n",
            "Palabras clave: lob, insult, cabrit, sin, se, arrog, ampli, corral, segur, encerr, seren, ocasion, encuentr, enfrent, cas, siti, comenz, infeliz, pas, replic\n",
            "\n",
            "Análisis GPT-4:\n",
            "Resumen: En la fábula, un lobo insulta a una cabrita arrogante que, sintiéndose segura, se amplía en su corral cerrado hasta que una ocasión infeliz la lleva a encontrarse y enfrentarse al lobo fuera de su casa, comenzando a pasar un miedo sin serenidad.\n",
            "\n",
            "Subtemas:\n",
            "- La arrogancia y la seguridad mal entendida de la cabrita.\n",
            "- El encuentro y enfrentamiento entre el lobo y la cabrita.\n",
            "- Las consecuencias de la falta de serenidad y precaución en situaciones de peligro.\n",
            "--------------------------------------------------------------------------------\n",
            "\n",
            "Fábula 10:\n",
            "Palabras clave: lob, templ, corder, dios, si, ser, corderit, encontr, dandos, asi, decid, llam, remedi, refugi, cuent, perec, sacrific, sacrif, replic, dij\n",
            "\n",
            "Análisis GPT-4:\n",
            "Resumen: En la fábula, un lobo encuentra a un corderito refugiándose en un templo y decide que será su próximo sacrificio; sin embargo, cuando el corderito llama a los dioses para remediar su situación, el lobo se da cuenta de que no puede simplemente tomar lo que quiere sin consecuencias.\n",
            "\n",
            "Subtemas:\n",
            "- La confrontación entre el lobo y el corderito en el templo.\n",
            "- El llamado del corderito a los dioses y su impacto en el lobo.\n",
            "- El tema del sacrificio y las consecuencias de las acciones.\n",
            "--------------------------------------------------------------------------------\n"
          ]
        }
      ],
      "source": [
        "# Incluyan a continuación todas las celdas (de código o texto) que deseen...\n",
        "\n",
        "\n",
        "# Diccionario para almacenar los resultados y evitar llamadas repetidas a la API\n",
        "cached_results = {}\n",
        "\n",
        "# Función para generar resumen y subtemas usando GPT-4\n",
        "def generate_summary_and_subtopics(keywords):\n",
        "    # Crear una clave única basada en las palabras clave\n",
        "    cache_key = ','.join(sorted(keywords))\n",
        "    \n",
        "    # Verificar si ya tenemos el resultado en caché\n",
        "    if cache_key in cached_results:\n",
        "        return cached_results[cache_key]\n",
        "    \n",
        "    prompt = f\"\"\"\n",
        "    Basándote en las siguientes palabras clave de una fábula de Esopo:\n",
        "    {', '.join(keywords)}\n",
        "    \n",
        "    Por favor genera:\n",
        "    1. Un único enunciado que resuma o describa la fábula\n",
        "    2. Tres subtemas o enunciados diferentes relacionados con la historia\n",
        "    \n",
        "    Formato de respuesta:\n",
        "    Resumen: [enunciado]\n",
        "    Subtemas:\n",
        "    - [subtema 1]\n",
        "    - [subtema 2] \n",
        "    - [subtema 3]\n",
        "    \"\"\"\n",
        "    \n",
        "    try:\n",
        "        response = client.chat.completions.create(\n",
        "            model=\"gpt-4\",\n",
        "            messages=[{\"role\": \"user\", \"content\": prompt}],\n",
        "            temperature=0.7,\n",
        "            max_tokens=300\n",
        "        )\n",
        "        result = response.choices[0].message.content\n",
        "        \n",
        "        # Guardar el resultado en caché\n",
        "        cached_results[cache_key] = result\n",
        "        return result\n",
        "    except Exception as e:\n",
        "        return f\"Error al generar resumen: {str(e)}\"\n",
        "\n",
        "# Diccionario para almacenar los resultados de cada fábula\n",
        "fabulas_resultados = {}\n",
        "\n",
        "# Generar resúmenes y subtemas para cada fábula\n",
        "print(\"\\nGenerando resúmenes y subtemas para cada fábula usando GPT-4:\\n\")\n",
        "print(\"-\" * 80)\n",
        "\n",
        "for i in range(num_docs):\n",
        "    print(f\"\\nFábula {i+1}:\")\n",
        "    \n",
        "    # Crear matriz documento-término para la fábula individual\n",
        "    doc_matrix = vectorizer.transform([normalized_docs[i]])\n",
        "    \n",
        "    # Entrenar modelo LDA\n",
        "    lda = LatentDirichletAllocation(n_components=1, random_state=42, max_iter=15)\n",
        "    lda.fit(doc_matrix)\n",
        "    \n",
        "    # Obtener palabras clave\n",
        "    top_words_idx = lda.components_[0].argsort()[-num_words:][::-1]\n",
        "    keywords = [terms[idx] for idx in top_words_idx]\n",
        "    \n",
        "    print(\"Palabras clave:\", \", \".join(keywords))\n",
        "    \n",
        "    # Generar resumen y subtemas\n",
        "    result = generate_summary_and_subtopics(keywords)\n",
        "    print(\"\\nAnálisis GPT-4:\")\n",
        "    print(result)\n",
        "    print(\"-\" * 80)\n",
        "    \n",
        "    # Guardar resultados de esta fábula\n",
        "    fabulas_resultados[f'fabula_{i+1}'] = {\n",
        "        'palabras_clave': keywords,\n",
        "        'analisis': result\n",
        "    }\n",
        "\n",
        "# Guardar todos los resultados en un archivo JSON\n",
        "import json\n",
        "with open('fabulas_analisis.json', 'w', encoding='utf-8') as f:\n",
        "    json.dump({\n",
        "        'cached_results': cached_results,\n",
        "        'fabulas_resultados': fabulas_resultados\n",
        "    }, f, ensure_ascii=False, indent=2)\n",
        "\n",
        "\n"
      ]
    },
    {
      "cell_type": "markdown",
      "metadata": {
        "id": "Kx-dZSFJz9cK"
      },
      "source": [
        "# **Ejercicio 6:**"
      ]
    },
    {
      "cell_type": "markdown",
      "metadata": {
        "id": "3w3usdaC0BCj"
      },
      "source": [
        "* #### **Incluyan sus conclusiones de la actividad audio-a-texto:**\n",
        "\n",
        "\n",
        "\n",
        "None"
      ]
    },
    {
      "cell_type": "markdown",
      "metadata": {
        "id": "CtB5Q3m41YQ0"
      },
      "source": [
        "# **Fin de la actividad LDA y LMM: audio-a-texto**"
      ]
    }
  ],
  "metadata": {
    "colab": {
      "collapsed_sections": [
        "1BtP-Sk0DT-M",
        "6uYgtCvvJSmq",
        "NM0D83j8EWiN",
        "6PKaB_Ge0Shc",
        "i2ywrmsMP_EF",
        "Blrrs1sWwkSx",
        "Kx-dZSFJz9cK"
      ],
      "provenance": []
    },
    "kernelspec": {
      "display_name": "master-ai-tec",
      "language": "python",
      "name": "python3"
    },
    "language_info": {
      "codemirror_mode": {
        "name": "ipython",
        "version": 3
      },
      "file_extension": ".py",
      "mimetype": "text/x-python",
      "name": "python",
      "nbconvert_exporter": "python",
      "pygments_lexer": "ipython3",
      "version": "3.12.5"
    }
  },
  "nbformat": 4,
  "nbformat_minor": 0
}
